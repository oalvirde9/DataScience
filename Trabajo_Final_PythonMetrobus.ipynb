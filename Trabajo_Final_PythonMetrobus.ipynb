{
 "cells": [
  {
   "cell_type": "markdown",
   "id": "425c4339",
   "metadata": {},
   "source": [
    "***Benjamín Osvaldo Alvirde Meléndez***"
   ]
  },
  {
   "cell_type": "markdown",
   "id": "c923481e",
   "metadata": {},
   "source": [
    "Se plantea un programa que ayude al control de la tarjeta de transcporte unificado para la ciudad de México. Este programa ayuda a los usuarios a utilizar su tarjeta,  ya que ayuda a mantener el control del saldo que deposita el usuario y también descuenta el saldo dispronible dependiendo del transporte que utiliza el usuario."
   ]
  },
  {
   "cell_type": "code",
   "execution_count": 60,
   "id": "85a5d3b8",
   "metadata": {},
   "outputs": [],
   "source": [
    "class Saldo:\n",
    "    def __init__(self, Saldo_inicial=0):\n",
    "    \n",
    "        self.Saldo=Saldo_inicial\n",
    "        \n",
    "    def deposito(self, monto) :\n",
    "        self.Saldo +=monto\n",
    "        \n",
    "    def uso(self, transporte):\n",
    "        #Debe verificar si existe un saldo mínimo\n",
    "        if ((transporte=='metrobus') and (self.Saldo-7)>=0):\n",
    "            self.Saldo-=7\n",
    "\n",
    "        elif ((transporte=='metro') and (self.Saldo-5)>=0):\n",
    "            self.Saldo-=5\n",
    "\n",
    "        elif ((transporte=='trolebus') and (self.Saldo-4)>=0):\n",
    "            self.Saldo-=4\n",
    "        \n",
    "        else:\n",
    "            print('Saldo insuficiente:', self.Saldo, ' . ')\n",
    "            \n",
    "    \n",
    "    def print_Saldo(self):\n",
    "        print(self.Saldo)"
   ]
  },
  {
   "cell_type": "code",
   "execution_count": 75,
   "id": "f0c690fb",
   "metadata": {},
   "outputs": [
    {
     "name": "stdout",
     "output_type": "stream",
     "text": [
      "20\n"
     ]
    }
   ],
   "source": [
    "usuario=Saldo(20)\n",
    "usuario.print_Saldo()   "
   ]
  },
  {
   "cell_type": "code",
   "execution_count": 76,
   "id": "1a6509be",
   "metadata": {},
   "outputs": [
    {
     "name": "stdout",
     "output_type": "stream",
     "text": [
      "15\n"
     ]
    }
   ],
   "source": [
    "usuario.uso('metro')\n",
    "usuario.print_Saldo()"
   ]
  },
  {
   "cell_type": "code",
   "execution_count": 77,
   "id": "5833753a",
   "metadata": {},
   "outputs": [
    {
     "name": "stdout",
     "output_type": "stream",
     "text": [
      "11\n"
     ]
    }
   ],
   "source": [
    "usuario.uso('trolebus')\n",
    "usuario.print_Saldo()"
   ]
  },
  {
   "cell_type": "code",
   "execution_count": 78,
   "id": "8be65191",
   "metadata": {},
   "outputs": [
    {
     "name": "stdout",
     "output_type": "stream",
     "text": [
      "4\n"
     ]
    }
   ],
   "source": [
    "usuario.uso('metrobus')\n",
    "usuario.print_Saldo()"
   ]
  },
  {
   "cell_type": "code",
   "execution_count": 79,
   "id": "52a320f1",
   "metadata": {},
   "outputs": [
    {
     "name": "stdout",
     "output_type": "stream",
     "text": [
      "Saldo insuficiente: 4  . \n",
      "4\n"
     ]
    }
   ],
   "source": [
    "usuario.uso('metrobus')\n",
    "usuario.print_Saldo()"
   ]
  },
  {
   "cell_type": "code",
   "execution_count": 80,
   "id": "fc4173e2",
   "metadata": {},
   "outputs": [
    {
     "name": "stdout",
     "output_type": "stream",
     "text": [
      "9\n"
     ]
    }
   ],
   "source": [
    "usuario.deposito(5)\n",
    "usuario.print_Saldo() "
   ]
  },
  {
   "cell_type": "code",
   "execution_count": 81,
   "id": "0cb153bf",
   "metadata": {},
   "outputs": [
    {
     "name": "stdout",
     "output_type": "stream",
     "text": [
      "2\n"
     ]
    }
   ],
   "source": [
    "usuario.uso('metrobus')\n",
    "usuario.print_Saldo()"
   ]
  }
 ],
 "metadata": {
  "kernelspec": {
   "display_name": "Python 3 (ipykernel)",
   "language": "python",
   "name": "python3"
  },
  "language_info": {
   "codemirror_mode": {
    "name": "ipython",
    "version": 3
   },
   "file_extension": ".py",
   "mimetype": "text/x-python",
   "name": "python",
   "nbconvert_exporter": "python",
   "pygments_lexer": "ipython3",
   "version": "3.9.13"
  }
 },
 "nbformat": 4,
 "nbformat_minor": 5
}
