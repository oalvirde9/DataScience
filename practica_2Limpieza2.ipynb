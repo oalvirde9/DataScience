{
 "cells": [
  {
   "cell_type": "markdown",
   "metadata": {},
   "source": [
    "## LIBRERIAS"
   ]
  },
  {
   "cell_type": "code",
   "execution_count": 1,
   "metadata": {
    "ExecuteTime": {
     "end_time": "2021-01-27T19:10:36.586308Z",
     "start_time": "2021-01-27T19:10:35.306073Z"
    }
   },
   "outputs": [],
   "source": [
    "import pandas as pd\n",
    "import plotly.graph_objects as go\n",
    "import sys\n",
    "import numpy as np\n",
    "import plotly.express as px\n",
    "import re\n",
    "import stylecloud\n",
    "import unicodedata\n",
    "import nltk\n",
    "import unicodedata\n",
    "import pandas as pd\n",
    "import warnings\n",
    "from textblob import TextBlob\n",
    "from sklearn.feature_extraction.text import CountVectorizer\n",
    "from unidecode import unidecode\n",
    "from nltk.corpus import stopwords\n",
    "from nltk import FreqDist\n",
    "from PIL import Image\n",
    "warnings.filterwarnings(\"ignore\")\n",
    "pd.set_option(\"display.max_columns\",200)"
   ]
  },
  {
   "cell_type": "markdown",
   "metadata": {},
   "source": [
    "## FUNCIONES"
   ]
  },
  {
   "cell_type": "code",
   "execution_count": 2,
   "metadata": {
    "ExecuteTime": {
     "end_time": "2021-01-27T19:10:36.596979Z",
     "start_time": "2021-01-27T19:10:36.587770Z"
    }
   },
   "outputs": [],
   "source": [
    "def clean_text(text, pattern=\"[^a-zA-Z0-9 ]\"):\n",
    "    cleaned_text = unicodedata.normalize('NFD', text).encode('ascii', 'ignore')\n",
    "    cleaned_text = re.sub(pattern, \" \", cleaned_text.decode(\"utf-8\"), flags=re.UNICODE)\n",
    "    cleaned_text = u' '.join(cleaned_text.lower().strip().split())\n",
    "    return cleaned_text\n",
    "def completitud(df):\n",
    "    comp=pd.DataFrame(df.isnull().sum())\n",
    "    comp.reset_index(inplace=True)\n",
    "    comp=comp.rename(columns={\"index\":\"columna\",0:\"total\"})\n",
    "    comp[\"completitud\"]=(1-comp[\"total\"]/df.shape[0])*100\n",
    "    comp=comp.sort_values(by=\"completitud\",ascending=True)\n",
    "    comp.reset_index(drop=True,inplace=True)\n",
    "    return comp\n",
    "\n",
    "def contar_vocales(texto):\n",
    "    return len(re.findall(\"[aeiouáéíóíúü]\", texto, re.IGNORECASE))\n"
   ]
  },
  {
   "cell_type": "markdown",
   "metadata": {},
   "source": [
    "## PRACTICA"
   ]
  },
  {
   "cell_type": "markdown",
   "metadata": {},
   "source": [
    "### <h1 style=\"color:green\"> Parte 1 </h1>"
   ]
  },
  {
   "cell_type": "markdown",
   "metadata": {
    "ExecuteTime": {
     "end_time": "2021-01-27T17:20:51.917767Z",
     "start_time": "2021-01-27T17:20:51.913023Z"
    }
   },
   "source": [
    "#### DATASET"
   ]
  },
  {
   "cell_type": "markdown",
   "metadata": {},
   "source": [
    "**Separador** \"\\n\""
   ]
  },
  {
   "cell_type": "markdown",
   "metadata": {},
   "source": [
    "**Leemos el txt indicando el separador de lineas**"
   ]
  },
  {
   "cell_type": "code",
   "execution_count": 3,
   "metadata": {
    "ExecuteTime": {
     "end_time": "2021-01-27T19:10:36.694246Z",
     "start_time": "2021-01-27T19:10:36.598719Z"
    },
    "scrolled": true
   },
   "outputs": [],
   "source": [
    "df=pd.read_csv(\"Chat de WhatsApp con Jaime.txt\", sep=\"\\n\",encoding=\"latin1\",error_bad_lines=False)"
   ]
  },
  {
   "cell_type": "code",
   "execution_count": 4,
   "metadata": {
    "ExecuteTime": {
     "end_time": "2021-01-27T19:10:36.811571Z",
     "start_time": "2021-01-27T19:10:36.696381Z"
    }
   },
   "outputs": [
    {
     "data": {
      "text/html": [
       "<div>\n",
       "<style scoped>\n",
       "    .dataframe tbody tr th:only-of-type {\n",
       "        vertical-align: middle;\n",
       "    }\n",
       "\n",
       "    .dataframe tbody tr th {\n",
       "        vertical-align: top;\n",
       "    }\n",
       "\n",
       "    .dataframe thead th {\n",
       "        text-align: right;\n",
       "    }\n",
       "</style>\n",
       "<table border=\"1\" class=\"dataframe\">\n",
       "  <thead>\n",
       "    <tr style=\"text-align: right;\">\n",
       "      <th></th>\n",
       "      <th>01/12/19 9:29 a.Â m. - Los mensajes y las llamadas estÃ¡n cifrados de extremo a extremo. Nadie fuera de este chat, ni siquiera WhatsApp, puede leerlos ni escucharlos. Toca para obtener mÃ¡s informaciÃ³n.</th>\n",
       "    </tr>\n",
       "  </thead>\n",
       "  <tbody>\n",
       "    <tr>\n",
       "      <th>0</th>\n",
       "      <td>01/12/19 9:29 a.Â m. - Carla: Holi Jaime, te c...</td>\n",
       "    </tr>\n",
       "    <tr>\n",
       "      <th>1</th>\n",
       "      <td>01/12/19 9:31 a.Â m. - Carla: Hoy estarÃ© fuer...</td>\n",
       "    </tr>\n",
       "    <tr>\n",
       "      <th>2</th>\n",
       "      <td>01/12/19 9:57 a.Â m. - Jaime: Holi Carlita, vi...</td>\n",
       "    </tr>\n",
       "    <tr>\n",
       "      <th>3</th>\n",
       "      <td>01/12/19 9:58 a.Â m. - Jaime: Bambi Bambi , gr...</td>\n",
       "    </tr>\n",
       "    <tr>\n",
       "      <th>4</th>\n",
       "      <td>01/12/19 4:00 p.Â m. - Jaime: Carlitaaa</td>\n",
       "    </tr>\n",
       "  </tbody>\n",
       "</table>\n",
       "</div>"
      ],
      "text/plain": [
       "  01/12/19 9:29 a.Â m. - Los mensajes y las llamadas estÃ¡n cifrados de extremo a extremo. Nadie fuera de este chat, ni siquiera WhatsApp, puede leerlos ni escucharlos. Toca para obtener mÃ¡s informaciÃ³n.\n",
       "0  01/12/19 9:29 a.Â m. - Carla: Holi Jaime, te c...                                                                                                                                                         \n",
       "1  01/12/19 9:31 a.Â m. - Carla: Hoy estarÃ© fuer...                                                                                                                                                         \n",
       "2  01/12/19 9:57 a.Â m. - Jaime: Holi Carlita, vi...                                                                                                                                                         \n",
       "3  01/12/19 9:58 a.Â m. - Jaime: Bambi Bambi , gr...                                                                                                                                                         \n",
       "4            01/12/19 4:00 p.Â m. - Jaime: Carlitaaa                                                                                                                                                         "
      ]
     },
     "execution_count": 4,
     "metadata": {},
     "output_type": "execute_result"
    }
   ],
   "source": [
    "df.head()"
   ]
  },
  {
   "cell_type": "markdown",
   "metadata": {},
   "source": [
    "**Renombramos la columna**"
   ]
  },
  {
   "cell_type": "code",
   "execution_count": 5,
   "metadata": {
    "ExecuteTime": {
     "end_time": "2021-01-27T19:10:36.875270Z",
     "start_time": "2021-01-27T19:10:36.813555Z"
    }
   },
   "outputs": [],
   "source": [
    "df.columns=[\"text\"]"
   ]
  },
  {
   "cell_type": "code",
   "execution_count": 6,
   "metadata": {
    "ExecuteTime": {
     "end_time": "2021-01-27T19:10:36.950953Z",
     "start_time": "2021-01-27T19:10:36.876829Z"
    }
   },
   "outputs": [
    {
     "data": {
      "text/html": [
       "<div>\n",
       "<style scoped>\n",
       "    .dataframe tbody tr th:only-of-type {\n",
       "        vertical-align: middle;\n",
       "    }\n",
       "\n",
       "    .dataframe tbody tr th {\n",
       "        vertical-align: top;\n",
       "    }\n",
       "\n",
       "    .dataframe thead th {\n",
       "        text-align: right;\n",
       "    }\n",
       "</style>\n",
       "<table border=\"1\" class=\"dataframe\">\n",
       "  <thead>\n",
       "    <tr style=\"text-align: right;\">\n",
       "      <th></th>\n",
       "      <th>text</th>\n",
       "    </tr>\n",
       "  </thead>\n",
       "  <tbody>\n",
       "    <tr>\n",
       "      <th>0</th>\n",
       "      <td>01/12/19 9:29 a.Â m. - Carla: Holi Jaime, te c...</td>\n",
       "    </tr>\n",
       "    <tr>\n",
       "      <th>1</th>\n",
       "      <td>01/12/19 9:31 a.Â m. - Carla: Hoy estarÃ© fuer...</td>\n",
       "    </tr>\n",
       "    <tr>\n",
       "      <th>2</th>\n",
       "      <td>01/12/19 9:57 a.Â m. - Jaime: Holi Carlita, vi...</td>\n",
       "    </tr>\n",
       "    <tr>\n",
       "      <th>3</th>\n",
       "      <td>01/12/19 9:58 a.Â m. - Jaime: Bambi Bambi , gr...</td>\n",
       "    </tr>\n",
       "    <tr>\n",
       "      <th>4</th>\n",
       "      <td>01/12/19 4:00 p.Â m. - Jaime: Carlitaaa</td>\n",
       "    </tr>\n",
       "  </tbody>\n",
       "</table>\n",
       "</div>"
      ],
      "text/plain": [
       "                                                text\n",
       "0  01/12/19 9:29 a.Â m. - Carla: Holi Jaime, te c...\n",
       "1  01/12/19 9:31 a.Â m. - Carla: Hoy estarÃ© fuer...\n",
       "2  01/12/19 9:57 a.Â m. - Jaime: Holi Carlita, vi...\n",
       "3  01/12/19 9:58 a.Â m. - Jaime: Bambi Bambi , gr...\n",
       "4            01/12/19 4:00 p.Â m. - Jaime: Carlitaaa"
      ]
     },
     "execution_count": 6,
     "metadata": {},
     "output_type": "execute_result"
    }
   ],
   "source": [
    "df.head()"
   ]
  },
  {
   "cell_type": "markdown",
   "metadata": {},
   "source": [
    "**A partir de la unica columna con la que contamos generamos dos columnas, la correspondiente a fecha y una más con el texto**\n",
    "- Hacemos la separación del texto por \":\""
   ]
  },
  {
   "cell_type": "code",
   "execution_count": 7,
   "metadata": {
    "ExecuteTime": {
     "end_time": "2021-01-27T19:10:37.250193Z",
     "start_time": "2021-01-27T19:10:36.952596Z"
    }
   },
   "outputs": [],
   "source": [
    "df=df['text'].apply(lambda x: pd.Series(x.split(': '))).rename(columns={0:\"d_fecha\",1:\"t_texto\"})[[\"d_fecha\",\"t_texto\"]]"
   ]
  },
  {
   "cell_type": "code",
   "execution_count": 8,
   "metadata": {
    "ExecuteTime": {
     "end_time": "2021-01-27T19:10:37.256855Z",
     "start_time": "2021-01-27T19:10:37.251849Z"
    }
   },
   "outputs": [
    {
     "data": {
      "text/plain": [
       "0       01/12/19 9:29 a.Â m. - Carla\n",
       "1       01/12/19 9:31 a.Â m. - Carla\n",
       "2       01/12/19 9:57 a.Â m. - Jaime\n",
       "3       01/12/19 9:58 a.Â m. - Jaime\n",
       "4       01/12/19 4:00 p.Â m. - Jaime\n",
       "                    ...             \n",
       "1128    29/10/20 9:33 p.Â m. - Jaime\n",
       "1129    29/10/20 9:33 p.Â m. - Carla\n",
       "1130    29/10/20 9:33 p.Â m. - Carla\n",
       "1131    29/10/20 9:33 p.Â m. - Jaime\n",
       "1132    29/10/20 9:33 p.Â m. - Jaime\n",
       "Name: d_fecha, Length: 1133, dtype: object"
      ]
     },
     "execution_count": 8,
     "metadata": {},
     "output_type": "execute_result"
    }
   ],
   "source": [
    "df[\"d_fecha\"]"
   ]
  },
  {
   "cell_type": "markdown",
   "metadata": {},
   "source": [
    "**Extraemos el nombre de los usuarios de la variable \"d_fecha\"**"
   ]
  },
  {
   "cell_type": "code",
   "execution_count": 9,
   "metadata": {
    "ExecuteTime": {
     "end_time": "2021-01-27T19:10:37.351923Z",
     "start_time": "2021-01-27T19:10:37.258161Z"
    }
   },
   "outputs": [],
   "source": [
    "df[\"v_usuario\"]=df[\"d_fecha\"].map(lambda x:x.split(\"-\")[1].strip() if len(x.split(\" - \"))==2 else np.nan)"
   ]
  },
  {
   "cell_type": "markdown",
   "metadata": {},
   "source": [
    "**De la variable \"d_date\" extraemos la fecha, hora y formato, creamos un dataframe auxiliar**"
   ]
  },
  {
   "cell_type": "code",
   "execution_count": 10,
   "metadata": {
    "ExecuteTime": {
     "end_time": "2021-01-27T19:10:37.673519Z",
     "start_time": "2021-01-27T19:10:37.353433Z"
    }
   },
   "outputs": [],
   "source": [
    "df_aux=df[\"d_fecha\"].apply(lambda x: pd.Series(x.split(' ')))[[0,1,2]].rename(columns={0:\"d_fecha\",1:\"v_hora\",2:\"t_formato\"})"
   ]
  },
  {
   "cell_type": "code",
   "execution_count": 11,
   "metadata": {
    "ExecuteTime": {
     "end_time": "2021-01-27T19:10:37.682214Z",
     "start_time": "2021-01-27T19:10:37.675580Z"
    }
   },
   "outputs": [
    {
     "data": {
      "text/html": [
       "<div>\n",
       "<style scoped>\n",
       "    .dataframe tbody tr th:only-of-type {\n",
       "        vertical-align: middle;\n",
       "    }\n",
       "\n",
       "    .dataframe tbody tr th {\n",
       "        vertical-align: top;\n",
       "    }\n",
       "\n",
       "    .dataframe thead th {\n",
       "        text-align: right;\n",
       "    }\n",
       "</style>\n",
       "<table border=\"1\" class=\"dataframe\">\n",
       "  <thead>\n",
       "    <tr style=\"text-align: right;\">\n",
       "      <th></th>\n",
       "      <th>d_fecha</th>\n",
       "      <th>v_hora</th>\n",
       "      <th>t_formato</th>\n",
       "    </tr>\n",
       "  </thead>\n",
       "  <tbody>\n",
       "    <tr>\n",
       "      <th>0</th>\n",
       "      <td>01/12/19</td>\n",
       "      <td>9:29</td>\n",
       "      <td>a.Â m.</td>\n",
       "    </tr>\n",
       "    <tr>\n",
       "      <th>1</th>\n",
       "      <td>01/12/19</td>\n",
       "      <td>9:31</td>\n",
       "      <td>a.Â m.</td>\n",
       "    </tr>\n",
       "    <tr>\n",
       "      <th>2</th>\n",
       "      <td>01/12/19</td>\n",
       "      <td>9:57</td>\n",
       "      <td>a.Â m.</td>\n",
       "    </tr>\n",
       "    <tr>\n",
       "      <th>3</th>\n",
       "      <td>01/12/19</td>\n",
       "      <td>9:58</td>\n",
       "      <td>a.Â m.</td>\n",
       "    </tr>\n",
       "    <tr>\n",
       "      <th>4</th>\n",
       "      <td>01/12/19</td>\n",
       "      <td>4:00</td>\n",
       "      <td>p.Â m.</td>\n",
       "    </tr>\n",
       "  </tbody>\n",
       "</table>\n",
       "</div>"
      ],
      "text/plain": [
       "    d_fecha v_hora t_formato\n",
       "0  01/12/19   9:29    a.Â m.\n",
       "1  01/12/19   9:31    a.Â m.\n",
       "2  01/12/19   9:57    a.Â m.\n",
       "3  01/12/19   9:58    a.Â m.\n",
       "4  01/12/19   4:00    p.Â m."
      ]
     },
     "execution_count": 11,
     "metadata": {},
     "output_type": "execute_result"
    }
   ],
   "source": [
    "df_aux.head()"
   ]
  },
  {
   "cell_type": "markdown",
   "metadata": {},
   "source": [
    "**Agregamos la información al dataframe original**"
   ]
  },
  {
   "cell_type": "code",
   "execution_count": 12,
   "metadata": {
    "ExecuteTime": {
     "end_time": "2021-01-27T19:10:37.777120Z",
     "start_time": "2021-01-27T19:10:37.683421Z"
    }
   },
   "outputs": [],
   "source": [
    "df=pd.concat([df[[\"t_texto\",\"v_usuario\"]],df_aux],axis=1)"
   ]
  },
  {
   "cell_type": "markdown",
   "metadata": {
    "ExecuteTime": {
     "end_time": "2020-11-03T15:05:19.303629Z",
     "start_time": "2020-11-03T15:05:19.294612Z"
    }
   },
   "source": [
    "**Extraemos de la variable \"v_hora\" la hora , omitimos los minutos**"
   ]
  },
  {
   "cell_type": "code",
   "execution_count": 13,
   "metadata": {
    "ExecuteTime": {
     "end_time": "2021-01-27T19:10:37.859170Z",
     "start_time": "2021-01-27T19:10:37.778637Z"
    },
    "scrolled": true
   },
   "outputs": [
    {
     "data": {
      "text/plain": [
       "10             0.131509\n",
       "9              0.122683\n",
       "7              0.122683\n",
       "1              0.086496\n",
       "12             0.073257\n",
       "11             0.070609\n",
       "4              0.063548\n",
       "8              0.062665\n",
       "2              0.054722\n",
       "6              0.045896\n",
       "3              0.045013\n",
       "               0.030009\n",
       "5              0.028244\n",
       "nan            0.011474\n",
       "de             0.008826\n",
       "mediante       0.005296\n",
       "(EE.           0.003530\n",
       "MÃ©xico        0.003530\n",
       "India)         0.003530\n",
       "(Singapur)     0.001765\n",
       "(CanadÃ¡)      0.001765\n",
       "su             0.001765\n",
       "a              0.001765\n",
       "(Mumbay        0.001765\n",
       "(Alemania)     0.001765\n",
       "(Brasil)       0.001765\n",
       "(JapÃ³n)       0.001765\n",
       "favor,         0.001765\n",
       "segÃºn         0.001765\n",
       "PaÃ­ses        0.001765\n",
       "(Hyderabad     0.001765\n",
       "con            0.001765\n",
       "(Australia)    0.001765\n",
       "(Amsterdam     0.001765\n",
       "Name: v_hora, dtype: float64"
      ]
     },
     "execution_count": 13,
     "metadata": {},
     "output_type": "execute_result"
    }
   ],
   "source": [
    "df[\"v_hora\"].map(lambda x:str(x).split(\":\")[0]).value_counts(1)"
   ]
  },
  {
   "cell_type": "markdown",
   "metadata": {},
   "source": [
    "**Agregamos una condicion para filtrar solo los registros que son de tipo digito y los que no cumplan la condición los remplazamos por NaN**"
   ]
  },
  {
   "cell_type": "code",
   "execution_count": 14,
   "metadata": {
    "ExecuteTime": {
     "end_time": "2021-01-27T19:10:37.937439Z",
     "start_time": "2021-01-27T19:10:37.860544Z"
    }
   },
   "outputs": [
    {
     "data": {
      "text/plain": [
       "0       9\n",
       "1       9\n",
       "2       9\n",
       "3       9\n",
       "4       4\n",
       "       ..\n",
       "1128    9\n",
       "1129    9\n",
       "1130    9\n",
       "1131    9\n",
       "1132    9\n",
       "Name: v_hora, Length: 1133, dtype: object"
      ]
     },
     "execution_count": 14,
     "metadata": {},
     "output_type": "execute_result"
    }
   ],
   "source": [
    "df[\"v_hora\"].map(lambda x:str(x).split(\":\")[0] if str(x).split(\":\")[0].strip().isdigit() else np.nan)"
   ]
  },
  {
   "cell_type": "code",
   "execution_count": 15,
   "metadata": {
    "ExecuteTime": {
     "end_time": "2021-01-27T19:10:38.014203Z",
     "start_time": "2021-01-27T19:10:37.938965Z"
    }
   },
   "outputs": [],
   "source": [
    "df[\"v_hora\"]=df[\"v_hora\"].map(lambda x:str(x).split(\":\")[0] if str(x).split(\":\")[0].strip().isdigit() else np.nan)"
   ]
  },
  {
   "cell_type": "code",
   "execution_count": 16,
   "metadata": {
    "ExecuteTime": {
     "end_time": "2021-01-27T19:10:38.094473Z",
     "start_time": "2021-01-27T19:10:38.015620Z"
    }
   },
   "outputs": [
    {
     "data": {
      "text/plain": [
       "10    149\n",
       "7     139\n",
       "9     139\n",
       "1      98\n",
       "12     83\n",
       "11     80\n",
       "4      72\n",
       "8      71\n",
       "2      62\n",
       "6      52\n",
       "3      51\n",
       "5      32\n",
       "Name: v_hora, dtype: int64"
      ]
     },
     "execution_count": 16,
     "metadata": {},
     "output_type": "execute_result"
    }
   ],
   "source": [
    "df[\"v_hora\"].value_counts()"
   ]
  },
  {
   "cell_type": "markdown",
   "metadata": {},
   "source": [
    "**Lo convertimos a formato de 24 horas** "
   ]
  },
  {
   "cell_type": "code",
   "execution_count": 17,
   "metadata": {
    "ExecuteTime": {
     "end_time": "2021-01-27T19:10:38.172089Z",
     "start_time": "2021-01-27T19:10:38.096199Z"
    }
   },
   "outputs": [],
   "source": [
    "df[\"t_formato\"]=df[\"t_formato\"].map(lambda x:str(x).strip())"
   ]
  },
  {
   "cell_type": "code",
   "execution_count": 18,
   "metadata": {
    "ExecuteTime": {
     "end_time": "2021-01-27T19:10:38.253426Z",
     "start_time": "2021-01-27T19:10:38.173423Z"
    }
   },
   "outputs": [
    {
     "data": {
      "text/plain": [
       "p.Â m.       0.631951\n",
       "a.Â m.       0.275375\n",
       "nan          0.034422\n",
       "             0.030009\n",
       "reuniÃ³n     0.005296\n",
       "acceso       0.003530\n",
       "UU.          0.003530\n",
       "Bajos)       0.001765\n",
       "su           0.001765\n",
       "H.323        0.001765\n",
       "descargue    0.001765\n",
       "SIP          0.001765\n",
       "nÃºmero      0.001765\n",
       "la           0.001765\n",
       "un           0.001765\n",
       "Skype        0.001765\n",
       "Name: t_formato, dtype: float64"
      ]
     },
     "execution_count": 18,
     "metadata": {},
     "output_type": "execute_result"
    }
   ],
   "source": [
    "df[\"t_formato\"].value_counts(1)"
   ]
  },
  {
   "cell_type": "code",
   "execution_count": 19,
   "metadata": {
    "ExecuteTime": {
     "end_time": "2021-01-27T19:10:38.365961Z",
     "start_time": "2021-01-27T19:10:38.254739Z"
    }
   },
   "outputs": [
    {
     "data": {
      "text/plain": [
       "['p.Â\\xa0m.', 'a.Â\\xa0m.']"
      ]
     },
     "execution_count": 19,
     "metadata": {},
     "output_type": "execute_result"
    }
   ],
   "source": [
    "list(df[\"t_formato\"].value_counts().index[:2])"
   ]
  },
  {
   "cell_type": "code",
   "execution_count": 20,
   "metadata": {
    "ExecuteTime": {
     "end_time": "2021-01-27T19:10:38.444103Z",
     "start_time": "2021-01-27T19:10:38.367306Z"
    }
   },
   "outputs": [],
   "source": [
    "am_pm=list(df[\"t_formato\"].value_counts().index[:2])"
   ]
  },
  {
   "cell_type": "markdown",
   "metadata": {},
   "source": [
    "**Seleccionamos solo los registros que tienen \"am\" y \"pm\" en \"t_formato\"**"
   ]
  },
  {
   "cell_type": "code",
   "execution_count": 21,
   "metadata": {
    "ExecuteTime": {
     "end_time": "2021-01-27T19:10:38.522847Z",
     "start_time": "2021-01-27T19:10:38.445407Z"
    }
   },
   "outputs": [
    {
     "data": {
      "text/plain": [
       "(1133, 5)"
      ]
     },
     "execution_count": 21,
     "metadata": {},
     "output_type": "execute_result"
    }
   ],
   "source": [
    "df.shape"
   ]
  },
  {
   "cell_type": "code",
   "execution_count": 22,
   "metadata": {
    "ExecuteTime": {
     "end_time": "2021-01-27T19:10:38.625823Z",
     "start_time": "2021-01-27T19:10:38.524484Z"
    },
    "scrolled": true
   },
   "outputs": [
    {
     "data": {
      "text/html": [
       "<div>\n",
       "<style scoped>\n",
       "    .dataframe tbody tr th:only-of-type {\n",
       "        vertical-align: middle;\n",
       "    }\n",
       "\n",
       "    .dataframe tbody tr th {\n",
       "        vertical-align: top;\n",
       "    }\n",
       "\n",
       "    .dataframe thead th {\n",
       "        text-align: right;\n",
       "    }\n",
       "</style>\n",
       "<table border=\"1\" class=\"dataframe\">\n",
       "  <thead>\n",
       "    <tr style=\"text-align: right;\">\n",
       "      <th></th>\n",
       "      <th>t_texto</th>\n",
       "      <th>v_usuario</th>\n",
       "      <th>d_fecha</th>\n",
       "      <th>v_hora</th>\n",
       "      <th>t_formato</th>\n",
       "    </tr>\n",
       "  </thead>\n",
       "  <tbody>\n",
       "    <tr>\n",
       "      <th>0</th>\n",
       "      <td>Holi Jaime, te compartÃ­ una carpeta en drive ...</td>\n",
       "      <td>Carla</td>\n",
       "      <td>01/12/19</td>\n",
       "      <td>9</td>\n",
       "      <td>a.Â m.</td>\n",
       "    </tr>\n",
       "    <tr>\n",
       "      <th>1</th>\n",
       "      <td>Hoy estarÃ© fuera d emi Casita pero si necesit...</td>\n",
       "      <td>Carla</td>\n",
       "      <td>01/12/19</td>\n",
       "      <td>9</td>\n",
       "      <td>a.Â m.</td>\n",
       "    </tr>\n",
       "    <tr>\n",
       "      <th>2</th>\n",
       "      <td>Holi Carlita, vientos, muchas gracias, eres la...</td>\n",
       "      <td>Jaime</td>\n",
       "      <td>01/12/19</td>\n",
       "      <td>9</td>\n",
       "      <td>a.Â m.</td>\n",
       "    </tr>\n",
       "    <tr>\n",
       "      <th>3</th>\n",
       "      <td>Bambi Bambi , graciaaas</td>\n",
       "      <td>Jaime</td>\n",
       "      <td>01/12/19</td>\n",
       "      <td>9</td>\n",
       "      <td>a.Â m.</td>\n",
       "    </tr>\n",
       "    <tr>\n",
       "      <th>4</th>\n",
       "      <td>Carlitaaa</td>\n",
       "      <td>Jaime</td>\n",
       "      <td>01/12/19</td>\n",
       "      <td>4</td>\n",
       "      <td>p.Â m.</td>\n",
       "    </tr>\n",
       "    <tr>\n",
       "      <th>...</th>\n",
       "      <td>...</td>\n",
       "      <td>...</td>\n",
       "      <td>...</td>\n",
       "      <td>...</td>\n",
       "      <td>...</td>\n",
       "    </tr>\n",
       "    <tr>\n",
       "      <th>1023</th>\n",
       "      <td>El de el creo si lo hizo chido</td>\n",
       "      <td>Jaime</td>\n",
       "      <td>29/10/20</td>\n",
       "      <td>9</td>\n",
       "      <td>p.Â m.</td>\n",
       "    </tr>\n",
       "    <tr>\n",
       "      <th>1024</th>\n",
       "      <td>Va va va ð¬</td>\n",
       "      <td>Carla</td>\n",
       "      <td>29/10/20</td>\n",
       "      <td>9</td>\n",
       "      <td>p.Â m.</td>\n",
       "    </tr>\n",
       "    <tr>\n",
       "      <th>1025</th>\n",
       "      <td>Se lo voa pedir âºï¸âºï¸</td>\n",
       "      <td>Carla</td>\n",
       "      <td>29/10/20</td>\n",
       "      <td>9</td>\n",
       "      <td>p.Â m.</td>\n",
       "    </tr>\n",
       "    <tr>\n",
       "      <th>1026</th>\n",
       "      <td>Si si si</td>\n",
       "      <td>Jaime</td>\n",
       "      <td>29/10/20</td>\n",
       "      <td>9</td>\n",
       "      <td>p.Â m.</td>\n",
       "    </tr>\n",
       "    <tr>\n",
       "      <th>1027</th>\n",
       "      <td>Mejor para no errarle xD</td>\n",
       "      <td>Jaime</td>\n",
       "      <td>29/10/20</td>\n",
       "      <td>9</td>\n",
       "      <td>p.Â m.</td>\n",
       "    </tr>\n",
       "  </tbody>\n",
       "</table>\n",
       "<p>1028 rows × 5 columns</p>\n",
       "</div>"
      ],
      "text/plain": [
       "                                                t_texto v_usuario   d_fecha  \\\n",
       "0     Holi Jaime, te compartÃ­ una carpeta en drive ...     Carla  01/12/19   \n",
       "1     Hoy estarÃ© fuera d emi Casita pero si necesit...     Carla  01/12/19   \n",
       "2     Holi Carlita, vientos, muchas gracias, eres la...     Jaime  01/12/19   \n",
       "3                               Bambi Bambi , graciaaas     Jaime  01/12/19   \n",
       "4                                             Carlitaaa     Jaime  01/12/19   \n",
       "...                                                 ...       ...       ...   \n",
       "1023                     El de el creo si lo hizo chido     Jaime  29/10/20   \n",
       "1024                                      Va va va ð¬     Carla  29/10/20   \n",
       "1025                       Se lo voa pedir âºï¸âºï¸     Carla  29/10/20   \n",
       "1026                                           Si si si     Jaime  29/10/20   \n",
       "1027                           Mejor para no errarle xD     Jaime  29/10/20   \n",
       "\n",
       "     v_hora t_formato  \n",
       "0         9    a.Â m.  \n",
       "1         9    a.Â m.  \n",
       "2         9    a.Â m.  \n",
       "3         9    a.Â m.  \n",
       "4         4    p.Â m.  \n",
       "...     ...       ...  \n",
       "1023      9    p.Â m.  \n",
       "1024      9    p.Â m.  \n",
       "1025      9    p.Â m.  \n",
       "1026      9    p.Â m.  \n",
       "1027      9    p.Â m.  \n",
       "\n",
       "[1028 rows x 5 columns]"
      ]
     },
     "execution_count": 22,
     "metadata": {},
     "output_type": "execute_result"
    }
   ],
   "source": [
    "df[df[\"t_formato\"].isin(am_pm)].reset_index(drop=True)"
   ]
  },
  {
   "cell_type": "code",
   "execution_count": 23,
   "metadata": {
    "ExecuteTime": {
     "end_time": "2021-01-27T19:10:39.062624Z",
     "start_time": "2021-01-27T19:10:38.627191Z"
    }
   },
   "outputs": [],
   "source": [
    "df=df[df[\"t_formato\"].isin(am_pm)].reset_index(drop=True)"
   ]
  },
  {
   "cell_type": "markdown",
   "metadata": {},
   "source": [
    "**Añadimos 12 horas a los que son pm y los de am se mantienen igual**"
   ]
  },
  {
   "cell_type": "code",
   "execution_count": 24,
   "metadata": {
    "ExecuteTime": {
     "end_time": "2021-01-27T19:10:39.156966Z",
     "start_time": "2021-01-27T19:10:39.063975Z"
    },
    "scrolled": true
   },
   "outputs": [],
   "source": [
    "df[\"v_hora\"]=df[[\"v_hora\",\"t_formato\"]].apply(lambda x:int(x[0])+12 if \"p\" in x[1] else x[0],axis=1)"
   ]
  },
  {
   "cell_type": "code",
   "execution_count": 25,
   "metadata": {
    "ExecuteTime": {
     "end_time": "2021-01-27T19:10:39.253970Z",
     "start_time": "2021-01-27T19:10:39.158826Z"
    }
   },
   "outputs": [
    {
     "data": {
      "text/html": [
       "<div>\n",
       "<style scoped>\n",
       "    .dataframe tbody tr th:only-of-type {\n",
       "        vertical-align: middle;\n",
       "    }\n",
       "\n",
       "    .dataframe tbody tr th {\n",
       "        vertical-align: top;\n",
       "    }\n",
       "\n",
       "    .dataframe thead th {\n",
       "        text-align: right;\n",
       "    }\n",
       "</style>\n",
       "<table border=\"1\" class=\"dataframe\">\n",
       "  <thead>\n",
       "    <tr style=\"text-align: right;\">\n",
       "      <th></th>\n",
       "      <th>t_texto</th>\n",
       "      <th>v_usuario</th>\n",
       "      <th>d_fecha</th>\n",
       "      <th>v_hora</th>\n",
       "      <th>t_formato</th>\n",
       "    </tr>\n",
       "  </thead>\n",
       "  <tbody>\n",
       "    <tr>\n",
       "      <th>0</th>\n",
       "      <td>Holi Jaime, te compartÃ­ una carpeta en drive ...</td>\n",
       "      <td>Carla</td>\n",
       "      <td>01/12/19</td>\n",
       "      <td>9</td>\n",
       "      <td>a.Â m.</td>\n",
       "    </tr>\n",
       "    <tr>\n",
       "      <th>1</th>\n",
       "      <td>Hoy estarÃ© fuera d emi Casita pero si necesit...</td>\n",
       "      <td>Carla</td>\n",
       "      <td>01/12/19</td>\n",
       "      <td>9</td>\n",
       "      <td>a.Â m.</td>\n",
       "    </tr>\n",
       "    <tr>\n",
       "      <th>2</th>\n",
       "      <td>Holi Carlita, vientos, muchas gracias, eres la...</td>\n",
       "      <td>Jaime</td>\n",
       "      <td>01/12/19</td>\n",
       "      <td>9</td>\n",
       "      <td>a.Â m.</td>\n",
       "    </tr>\n",
       "    <tr>\n",
       "      <th>3</th>\n",
       "      <td>Bambi Bambi , graciaaas</td>\n",
       "      <td>Jaime</td>\n",
       "      <td>01/12/19</td>\n",
       "      <td>9</td>\n",
       "      <td>a.Â m.</td>\n",
       "    </tr>\n",
       "    <tr>\n",
       "      <th>4</th>\n",
       "      <td>Carlitaaa</td>\n",
       "      <td>Jaime</td>\n",
       "      <td>01/12/19</td>\n",
       "      <td>16</td>\n",
       "      <td>p.Â m.</td>\n",
       "    </tr>\n",
       "  </tbody>\n",
       "</table>\n",
       "</div>"
      ],
      "text/plain": [
       "                                             t_texto v_usuario   d_fecha  \\\n",
       "0  Holi Jaime, te compartÃ­ una carpeta en drive ...     Carla  01/12/19   \n",
       "1  Hoy estarÃ© fuera d emi Casita pero si necesit...     Carla  01/12/19   \n",
       "2  Holi Carlita, vientos, muchas gracias, eres la...     Jaime  01/12/19   \n",
       "3                            Bambi Bambi , graciaaas     Jaime  01/12/19   \n",
       "4                                          Carlitaaa     Jaime  01/12/19   \n",
       "\n",
       "  v_hora t_formato  \n",
       "0      9    a.Â m.  \n",
       "1      9    a.Â m.  \n",
       "2      9    a.Â m.  \n",
       "3      9    a.Â m.  \n",
       "4     16    p.Â m.  "
      ]
     },
     "execution_count": 25,
     "metadata": {},
     "output_type": "execute_result"
    }
   ],
   "source": [
    "df.head()"
   ]
  },
  {
   "cell_type": "markdown",
   "metadata": {},
   "source": [
    "<h1 style=\"color:blue;\" > 3.a)</h1>"
   ]
  },
  {
   "cell_type": "code",
   "execution_count": 26,
   "metadata": {
    "ExecuteTime": {
     "end_time": "2021-01-27T19:10:39.353528Z",
     "start_time": "2021-01-27T19:10:39.255830Z"
    }
   },
   "outputs": [],
   "source": [
    "missings=completitud(df)"
   ]
  },
  {
   "cell_type": "code",
   "execution_count": 27,
   "metadata": {
    "ExecuteTime": {
     "end_time": "2021-01-27T19:10:39.447054Z",
     "start_time": "2021-01-27T19:10:39.355388Z"
    }
   },
   "outputs": [
    {
     "data": {
      "text/html": [
       "<div>\n",
       "<style scoped>\n",
       "    .dataframe tbody tr th:only-of-type {\n",
       "        vertical-align: middle;\n",
       "    }\n",
       "\n",
       "    .dataframe tbody tr th {\n",
       "        vertical-align: top;\n",
       "    }\n",
       "\n",
       "    .dataframe thead th {\n",
       "        text-align: right;\n",
       "    }\n",
       "</style>\n",
       "<table border=\"1\" class=\"dataframe\">\n",
       "  <thead>\n",
       "    <tr style=\"text-align: right;\">\n",
       "      <th></th>\n",
       "      <th>columna</th>\n",
       "      <th>total</th>\n",
       "      <th>completitud</th>\n",
       "    </tr>\n",
       "  </thead>\n",
       "  <tbody>\n",
       "    <tr>\n",
       "      <th>0</th>\n",
       "      <td>t_texto</td>\n",
       "      <td>0</td>\n",
       "      <td>100.0</td>\n",
       "    </tr>\n",
       "    <tr>\n",
       "      <th>1</th>\n",
       "      <td>v_usuario</td>\n",
       "      <td>0</td>\n",
       "      <td>100.0</td>\n",
       "    </tr>\n",
       "    <tr>\n",
       "      <th>2</th>\n",
       "      <td>d_fecha</td>\n",
       "      <td>0</td>\n",
       "      <td>100.0</td>\n",
       "    </tr>\n",
       "    <tr>\n",
       "      <th>3</th>\n",
       "      <td>v_hora</td>\n",
       "      <td>0</td>\n",
       "      <td>100.0</td>\n",
       "    </tr>\n",
       "    <tr>\n",
       "      <th>4</th>\n",
       "      <td>t_formato</td>\n",
       "      <td>0</td>\n",
       "      <td>100.0</td>\n",
       "    </tr>\n",
       "  </tbody>\n",
       "</table>\n",
       "</div>"
      ],
      "text/plain": [
       "     columna  total  completitud\n",
       "0    t_texto      0        100.0\n",
       "1  v_usuario      0        100.0\n",
       "2    d_fecha      0        100.0\n",
       "3     v_hora      0        100.0\n",
       "4  t_formato      0        100.0"
      ]
     },
     "execution_count": 27,
     "metadata": {},
     "output_type": "execute_result"
    }
   ],
   "source": [
    "missings"
   ]
  },
  {
   "cell_type": "markdown",
   "metadata": {
    "ExecuteTime": {
     "end_time": "2020-11-03T15:25:23.404568Z",
     "start_time": "2020-11-03T15:25:23.395479Z"
    }
   },
   "source": [
    "<h1 style=\"color:blue;\" > 3.b)</h1>"
   ]
  },
  {
   "cell_type": "markdown",
   "metadata": {},
   "source": [
    "**Convertimos en minusculas el texto para buscar los registros que tienen \"multimedia omitido\" dentro**"
   ]
  },
  {
   "cell_type": "code",
   "execution_count": 28,
   "metadata": {
    "ExecuteTime": {
     "end_time": "2021-01-27T19:10:39.561053Z",
     "start_time": "2021-01-27T19:10:39.448751Z"
    }
   },
   "outputs": [],
   "source": [
    "df[\"t_texto\"]=df[\"t_texto\"].map(lambda x:str(x).lower())"
   ]
  },
  {
   "cell_type": "code",
   "execution_count": 29,
   "metadata": {
    "ExecuteTime": {
     "end_time": "2021-01-27T19:10:39.653932Z",
     "start_time": "2021-01-27T19:10:39.562594Z"
    }
   },
   "outputs": [
    {
     "data": {
      "text/plain": [
       "<multimedia omitido>    84\n",
       "Name: t_texto, dtype: int64"
      ]
     },
     "execution_count": 29,
     "metadata": {},
     "output_type": "execute_result"
    }
   ],
   "source": [
    "\n",
    "df[df[\"t_texto\"].map(lambda x:\"omitido\" in x)][\"t_texto\"].value_counts()"
   ]
  },
  {
   "cell_type": "code",
   "execution_count": 30,
   "metadata": {
    "ExecuteTime": {
     "end_time": "2021-01-27T19:10:39.742841Z",
     "start_time": "2021-01-27T19:10:39.655685Z"
    }
   },
   "outputs": [],
   "source": [
    "total_multimedia=df[df[\"t_texto\"].map(lambda x:\"omitido\" in x)].shape[0]"
   ]
  },
  {
   "cell_type": "code",
   "execution_count": 31,
   "metadata": {
    "ExecuteTime": {
     "end_time": "2021-01-27T19:10:39.907127Z",
     "start_time": "2021-01-27T19:10:39.744480Z"
    }
   },
   "outputs": [
    {
     "data": {
      "text/plain": [
       "84"
      ]
     },
     "execution_count": 31,
     "metadata": {},
     "output_type": "execute_result"
    }
   ],
   "source": [
    "total_multimedia"
   ]
  },
  {
   "cell_type": "markdown",
   "metadata": {},
   "source": [
    "**Conservamos los registros que no contienen \"multimedia omitido\"**"
   ]
  },
  {
   "cell_type": "code",
   "execution_count": 32,
   "metadata": {
    "ExecuteTime": {
     "end_time": "2021-01-27T19:10:40.005253Z",
     "start_time": "2021-01-27T19:10:39.908996Z"
    }
   },
   "outputs": [
    {
     "data": {
      "text/html": [
       "<div>\n",
       "<style scoped>\n",
       "    .dataframe tbody tr th:only-of-type {\n",
       "        vertical-align: middle;\n",
       "    }\n",
       "\n",
       "    .dataframe tbody tr th {\n",
       "        vertical-align: top;\n",
       "    }\n",
       "\n",
       "    .dataframe thead th {\n",
       "        text-align: right;\n",
       "    }\n",
       "</style>\n",
       "<table border=\"1\" class=\"dataframe\">\n",
       "  <thead>\n",
       "    <tr style=\"text-align: right;\">\n",
       "      <th></th>\n",
       "      <th>t_texto</th>\n",
       "      <th>v_usuario</th>\n",
       "      <th>d_fecha</th>\n",
       "      <th>v_hora</th>\n",
       "      <th>t_formato</th>\n",
       "    </tr>\n",
       "  </thead>\n",
       "  <tbody>\n",
       "    <tr>\n",
       "      <th>0</th>\n",
       "      <td>holi jaime, te compartã­ una carpeta en drive ...</td>\n",
       "      <td>Carla</td>\n",
       "      <td>01/12/19</td>\n",
       "      <td>9</td>\n",
       "      <td>a.Â m.</td>\n",
       "    </tr>\n",
       "    <tr>\n",
       "      <th>1</th>\n",
       "      <td>hoy estarã© fuera d emi casita pero si necesit...</td>\n",
       "      <td>Carla</td>\n",
       "      <td>01/12/19</td>\n",
       "      <td>9</td>\n",
       "      <td>a.Â m.</td>\n",
       "    </tr>\n",
       "    <tr>\n",
       "      <th>2</th>\n",
       "      <td>holi carlita, vientos, muchas gracias, eres la...</td>\n",
       "      <td>Jaime</td>\n",
       "      <td>01/12/19</td>\n",
       "      <td>9</td>\n",
       "      <td>a.Â m.</td>\n",
       "    </tr>\n",
       "    <tr>\n",
       "      <th>3</th>\n",
       "      <td>bambi bambi , graciaaas</td>\n",
       "      <td>Jaime</td>\n",
       "      <td>01/12/19</td>\n",
       "      <td>9</td>\n",
       "      <td>a.Â m.</td>\n",
       "    </tr>\n",
       "    <tr>\n",
       "      <th>4</th>\n",
       "      <td>carlitaaa</td>\n",
       "      <td>Jaime</td>\n",
       "      <td>01/12/19</td>\n",
       "      <td>16</td>\n",
       "      <td>p.Â m.</td>\n",
       "    </tr>\n",
       "    <tr>\n",
       "      <th>...</th>\n",
       "      <td>...</td>\n",
       "      <td>...</td>\n",
       "      <td>...</td>\n",
       "      <td>...</td>\n",
       "      <td>...</td>\n",
       "    </tr>\n",
       "    <tr>\n",
       "      <th>1023</th>\n",
       "      <td>el de el creo si lo hizo chido</td>\n",
       "      <td>Jaime</td>\n",
       "      <td>29/10/20</td>\n",
       "      <td>21</td>\n",
       "      <td>p.Â m.</td>\n",
       "    </tr>\n",
       "    <tr>\n",
       "      <th>1024</th>\n",
       "      <td>va va va ð¬</td>\n",
       "      <td>Carla</td>\n",
       "      <td>29/10/20</td>\n",
       "      <td>21</td>\n",
       "      <td>p.Â m.</td>\n",
       "    </tr>\n",
       "    <tr>\n",
       "      <th>1025</th>\n",
       "      <td>se lo voa pedir âºï¸âºï¸</td>\n",
       "      <td>Carla</td>\n",
       "      <td>29/10/20</td>\n",
       "      <td>21</td>\n",
       "      <td>p.Â m.</td>\n",
       "    </tr>\n",
       "    <tr>\n",
       "      <th>1026</th>\n",
       "      <td>si si si</td>\n",
       "      <td>Jaime</td>\n",
       "      <td>29/10/20</td>\n",
       "      <td>21</td>\n",
       "      <td>p.Â m.</td>\n",
       "    </tr>\n",
       "    <tr>\n",
       "      <th>1027</th>\n",
       "      <td>mejor para no errarle xd</td>\n",
       "      <td>Jaime</td>\n",
       "      <td>29/10/20</td>\n",
       "      <td>21</td>\n",
       "      <td>p.Â m.</td>\n",
       "    </tr>\n",
       "  </tbody>\n",
       "</table>\n",
       "<p>944 rows × 5 columns</p>\n",
       "</div>"
      ],
      "text/plain": [
       "                                                t_texto v_usuario   d_fecha  \\\n",
       "0     holi jaime, te compartã­ una carpeta en drive ...     Carla  01/12/19   \n",
       "1     hoy estarã© fuera d emi casita pero si necesit...     Carla  01/12/19   \n",
       "2     holi carlita, vientos, muchas gracias, eres la...     Jaime  01/12/19   \n",
       "3                               bambi bambi , graciaaas     Jaime  01/12/19   \n",
       "4                                             carlitaaa     Jaime  01/12/19   \n",
       "...                                                 ...       ...       ...   \n",
       "1023                     el de el creo si lo hizo chido     Jaime  29/10/20   \n",
       "1024                                      va va va ð¬     Carla  29/10/20   \n",
       "1025                       se lo voa pedir âºï¸âºï¸     Carla  29/10/20   \n",
       "1026                                           si si si     Jaime  29/10/20   \n",
       "1027                           mejor para no errarle xd     Jaime  29/10/20   \n",
       "\n",
       "     v_hora t_formato  \n",
       "0         9    a.Â m.  \n",
       "1         9    a.Â m.  \n",
       "2         9    a.Â m.  \n",
       "3         9    a.Â m.  \n",
       "4        16    p.Â m.  \n",
       "...     ...       ...  \n",
       "1023     21    p.Â m.  \n",
       "1024     21    p.Â m.  \n",
       "1025     21    p.Â m.  \n",
       "1026     21    p.Â m.  \n",
       "1027     21    p.Â m.  \n",
       "\n",
       "[944 rows x 5 columns]"
      ]
     },
     "execution_count": 32,
     "metadata": {},
     "output_type": "execute_result"
    }
   ],
   "source": [
    "\n",
    "df[~df[\"t_texto\"].map(lambda x:\"omitido\" in x)]"
   ]
  },
  {
   "cell_type": "code",
   "execution_count": 33,
   "metadata": {
    "ExecuteTime": {
     "end_time": "2021-01-27T19:10:40.101009Z",
     "start_time": "2021-01-27T19:10:40.006899Z"
    }
   },
   "outputs": [],
   "source": [
    "df=df[~df[\"t_texto\"].map(lambda x:\"omitido\" in x)].reset_index(drop=True)"
   ]
  },
  {
   "cell_type": "code",
   "execution_count": 34,
   "metadata": {
    "ExecuteTime": {
     "end_time": "2021-01-27T19:10:40.217610Z",
     "start_time": "2021-01-27T19:10:40.119609Z"
    }
   },
   "outputs": [
    {
     "data": {
      "text/html": [
       "<div>\n",
       "<style scoped>\n",
       "    .dataframe tbody tr th:only-of-type {\n",
       "        vertical-align: middle;\n",
       "    }\n",
       "\n",
       "    .dataframe tbody tr th {\n",
       "        vertical-align: top;\n",
       "    }\n",
       "\n",
       "    .dataframe thead th {\n",
       "        text-align: right;\n",
       "    }\n",
       "</style>\n",
       "<table border=\"1\" class=\"dataframe\">\n",
       "  <thead>\n",
       "    <tr style=\"text-align: right;\">\n",
       "      <th></th>\n",
       "      <th>t_texto</th>\n",
       "      <th>v_usuario</th>\n",
       "      <th>d_fecha</th>\n",
       "      <th>v_hora</th>\n",
       "      <th>t_formato</th>\n",
       "    </tr>\n",
       "  </thead>\n",
       "  <tbody>\n",
       "  </tbody>\n",
       "</table>\n",
       "</div>"
      ],
      "text/plain": [
       "Empty DataFrame\n",
       "Columns: [t_texto, v_usuario, d_fecha, v_hora, t_formato]\n",
       "Index: []"
      ]
     },
     "execution_count": 34,
     "metadata": {},
     "output_type": "execute_result"
    }
   ],
   "source": [
    "#corroboramos que no tengamos más registros\n",
    "df[df[\"t_texto\"].map(lambda x:\"omitido\" in x)]"
   ]
  },
  {
   "cell_type": "markdown",
   "metadata": {},
   "source": [
    "<h1 style=\"color:blue;\" > 3.c)</h1>"
   ]
  },
  {
   "cell_type": "code",
   "execution_count": 35,
   "metadata": {
    "ExecuteTime": {
     "end_time": "2021-01-27T19:10:40.319731Z",
     "start_time": "2021-01-27T19:10:40.218894Z"
    },
    "scrolled": true
   },
   "outputs": [
    {
     "name": "stdout",
     "output_type": "stream",
     "text": [
      "t_texto\n"
     ]
    },
    {
     "data": {
      "text/plain": [
       "jajaja                                                                      28\n",
       "va va va                                                                    17\n",
       "xd                                                                          14\n",
       "jajajaj                                                                     12\n",
       "ð±                                                                        12\n",
       "                                                                            ..\n",
       "si si si                                                                     1\n",
       "right now ð¤£                                                               1\n",
       "me dijo la nutriã³loga que lo puedes cambiar por salmon si quieres jajaj     1\n",
       "la liga de la clase!!!!                                                      1\n",
       "ð¯                                                                         1\n",
       "Name: t_texto, Length: 753, dtype: int64"
      ]
     },
     "metadata": {},
     "output_type": "display_data"
    },
    {
     "name": "stdout",
     "output_type": "stream",
     "text": [
      "v_usuario\n"
     ]
    },
    {
     "data": {
      "text/plain": [
       "Jaime    522\n",
       "Carla    422\n",
       "Name: v_usuario, dtype: int64"
      ]
     },
     "metadata": {},
     "output_type": "display_data"
    },
    {
     "name": "stdout",
     "output_type": "stream",
     "text": [
      "d_fecha\n"
     ]
    },
    {
     "data": {
      "text/plain": [
       "13/10/20    138\n",
       "15/10/20     94\n",
       "28/10/20     56\n",
       "29/10/20     37\n",
       "17/10/20     31\n",
       "           ... \n",
       "09/09/20      2\n",
       "08/10/20      2\n",
       "03/08/20      2\n",
       "21/09/20      1\n",
       "02/12/19      1\n",
       "Name: d_fecha, Length: 66, dtype: int64"
      ]
     },
     "metadata": {},
     "output_type": "display_data"
    },
    {
     "name": "stdout",
     "output_type": "stream",
     "text": [
      "v_hora\n"
     ]
    },
    {
     "data": {
      "text/plain": [
       "19    127\n",
       "10    101\n",
       "21     75\n",
       "13     71\n",
       "16     65\n",
       "9      59\n",
       "11     56\n",
       "20     55\n",
       "14     53\n",
       "15     48\n",
       "18     46\n",
       "24     41\n",
       "22     36\n",
       "12     32\n",
       "17     25\n",
       "23     17\n",
       "1      17\n",
       "8      15\n",
       "7       3\n",
       "2       2\n",
       "Name: v_hora, dtype: int64"
      ]
     },
     "metadata": {},
     "output_type": "display_data"
    },
    {
     "name": "stdout",
     "output_type": "stream",
     "text": [
      "t_formato\n"
     ]
    },
    {
     "data": {
      "text/plain": [
       "p.Â m.    659\n",
       "a.Â m.    285\n",
       "Name: t_formato, dtype: int64"
      ]
     },
     "metadata": {},
     "output_type": "display_data"
    }
   ],
   "source": [
    "for i in df:\n",
    "    print(i)\n",
    "    display(df[i].value_counts())"
   ]
  },
  {
   "cell_type": "markdown",
   "metadata": {},
   "source": [
    "**En las variables categóricas así como en la variable de fecha no existen inconsistencias**  "
   ]
  },
  {
   "cell_type": "markdown",
   "metadata": {},
   "source": [
    "<h1 style=\"color:blue;\" > 3.d)</h1>"
   ]
  },
  {
   "cell_type": "code",
   "execution_count": 36,
   "metadata": {
    "ExecuteTime": {
     "end_time": "2021-01-27T19:10:40.456733Z",
     "start_time": "2021-01-27T19:10:40.320884Z"
    }
   },
   "outputs": [
    {
     "data": {
      "text/plain": [
       "Jaime    522\n",
       "Carla    422\n",
       "Name: v_usuario, dtype: int64"
      ]
     },
     "execution_count": 36,
     "metadata": {},
     "output_type": "execute_result"
    }
   ],
   "source": [
    "df[\"v_usuario\"].value_counts()"
   ]
  },
  {
   "cell_type": "code",
   "execution_count": 37,
   "metadata": {
    "ExecuteTime": {
     "end_time": "2021-01-27T19:10:40.560171Z",
     "start_time": "2021-01-27T19:10:40.458280Z"
    }
   },
   "outputs": [],
   "source": [
    "df[\"v_usuario\"]=df[\"v_usuario\"].map(clean_text)"
   ]
  },
  {
   "cell_type": "code",
   "execution_count": 38,
   "metadata": {
    "ExecuteTime": {
     "end_time": "2021-01-27T19:10:40.651200Z",
     "start_time": "2021-01-27T19:10:40.561583Z"
    }
   },
   "outputs": [
    {
     "data": {
      "text/plain": [
       "jaime    522\n",
       "carla    422\n",
       "Name: v_usuario, dtype: int64"
      ]
     },
     "execution_count": 38,
     "metadata": {},
     "output_type": "execute_result"
    }
   ],
   "source": [
    "df[\"v_usuario\"].value_counts()"
   ]
  },
  {
   "cell_type": "markdown",
   "metadata": {},
   "source": [
    "<h1 style=\"color:blue;\" > 3.e)</h1>"
   ]
  },
  {
   "cell_type": "markdown",
   "metadata": {},
   "source": [
    "**En este caso solo contamos con dos categorias, y los nombres no contienen carácteres especiales, solo las convertiremos a minusculas**"
   ]
  },
  {
   "cell_type": "code",
   "execution_count": 39,
   "metadata": {
    "ExecuteTime": {
     "end_time": "2021-01-27T19:10:40.810547Z",
     "start_time": "2021-01-27T19:10:40.652975Z"
    }
   },
   "outputs": [],
   "source": [
    "df[\"d_fecha\"]=pd.to_datetime(df[\"d_fecha\"])"
   ]
  },
  {
   "cell_type": "markdown",
   "metadata": {},
   "source": [
    "<h1 style=\"color:blue;\" > 3.f)</h1>"
   ]
  },
  {
   "cell_type": "code",
   "execution_count": 40,
   "metadata": {
    "ExecuteTime": {
     "end_time": "2021-01-27T19:10:40.973300Z",
     "start_time": "2021-01-27T19:10:40.812957Z"
    }
   },
   "outputs": [],
   "source": [
    "df[\"v_hora\"]=df[\"v_hora\"].astype(int)"
   ]
  },
  {
   "cell_type": "markdown",
   "metadata": {},
   "source": [
    "<h1 style=\"color:blue;\" > 3.g)</h1>"
   ]
  },
  {
   "cell_type": "code",
   "execution_count": 41,
   "metadata": {
    "ExecuteTime": {
     "end_time": "2021-01-27T19:10:41.425007Z",
     "start_time": "2021-01-27T19:10:40.975078Z"
    }
   },
   "outputs": [],
   "source": [
    "df[\"t_texto_ori\"]=df[\"t_texto\"]\n",
    "df[\"t_texto\"]=df[\"t_texto\"].map(lambda x:clean_text(x))\n"
   ]
  },
  {
   "cell_type": "markdown",
   "metadata": {},
   "source": [
    "**Verificamos que no existan registros sin información, si es así deben eliminarse de la tabla**"
   ]
  },
  {
   "cell_type": "code",
   "execution_count": 42,
   "metadata": {
    "ExecuteTime": {
     "end_time": "2021-01-27T19:10:41.628243Z",
     "start_time": "2021-01-27T19:10:41.427016Z"
    }
   },
   "outputs": [
    {
     "data": {
      "text/html": [
       "<div>\n",
       "<style scoped>\n",
       "    .dataframe tbody tr th:only-of-type {\n",
       "        vertical-align: middle;\n",
       "    }\n",
       "\n",
       "    .dataframe tbody tr th {\n",
       "        vertical-align: top;\n",
       "    }\n",
       "\n",
       "    .dataframe thead th {\n",
       "        text-align: right;\n",
       "    }\n",
       "</style>\n",
       "<table border=\"1\" class=\"dataframe\">\n",
       "  <thead>\n",
       "    <tr style=\"text-align: right;\">\n",
       "      <th></th>\n",
       "      <th>t_texto</th>\n",
       "      <th>v_usuario</th>\n",
       "      <th>d_fecha</th>\n",
       "      <th>v_hora</th>\n",
       "      <th>t_formato</th>\n",
       "      <th>t_texto_ori</th>\n",
       "    </tr>\n",
       "  </thead>\n",
       "  <tbody>\n",
       "    <tr>\n",
       "      <th>26</th>\n",
       "      <td></td>\n",
       "      <td>jaime</td>\n",
       "      <td>2019-06-12</td>\n",
       "      <td>19</td>\n",
       "      <td>p.Â m.</td>\n",
       "      <td>ð</td>\n",
       "    </tr>\n",
       "    <tr>\n",
       "      <th>66</th>\n",
       "      <td></td>\n",
       "      <td>carla</td>\n",
       "      <td>2020-04-14</td>\n",
       "      <td>13</td>\n",
       "      <td>p.Â m.</td>\n",
       "      <td>ð§¡</td>\n",
       "    </tr>\n",
       "    <tr>\n",
       "      <th>81</th>\n",
       "      <td></td>\n",
       "      <td>jaime</td>\n",
       "      <td>2020-04-24</td>\n",
       "      <td>18</td>\n",
       "      <td>p.Â m.</td>\n",
       "      <td>ð</td>\n",
       "    </tr>\n",
       "    <tr>\n",
       "      <th>86</th>\n",
       "      <td></td>\n",
       "      <td>jaime</td>\n",
       "      <td>2020-04-24</td>\n",
       "      <td>20</td>\n",
       "      <td>p.Â m.</td>\n",
       "      <td>ððð¼ðð¼</td>\n",
       "    </tr>\n",
       "    <tr>\n",
       "      <th>164</th>\n",
       "      <td></td>\n",
       "      <td>carla</td>\n",
       "      <td>2020-07-30</td>\n",
       "      <td>17</td>\n",
       "      <td>p.Â m.</td>\n",
       "      <td>?</td>\n",
       "    </tr>\n",
       "    <tr>\n",
       "      <th>...</th>\n",
       "      <td>...</td>\n",
       "      <td>...</td>\n",
       "      <td>...</td>\n",
       "      <td>...</td>\n",
       "      <td>...</td>\n",
       "      <td>...</td>\n",
       "    </tr>\n",
       "    <tr>\n",
       "      <th>849</th>\n",
       "      <td></td>\n",
       "      <td>jaime</td>\n",
       "      <td>2020-10-27</td>\n",
       "      <td>20</td>\n",
       "      <td>p.Â m.</td>\n",
       "      <td>ð¥º</td>\n",
       "    </tr>\n",
       "    <tr>\n",
       "      <th>857</th>\n",
       "      <td></td>\n",
       "      <td>jaime</td>\n",
       "      <td>2020-10-28</td>\n",
       "      <td>10</td>\n",
       "      <td>a.Â m.</td>\n",
       "      <td>ð¥³ð¥³ð¥³</td>\n",
       "    </tr>\n",
       "    <tr>\n",
       "      <th>890</th>\n",
       "      <td></td>\n",
       "      <td>carla</td>\n",
       "      <td>2020-10-28</td>\n",
       "      <td>24</td>\n",
       "      <td>p.Â m.</td>\n",
       "      <td>ð¬</td>\n",
       "    </tr>\n",
       "    <tr>\n",
       "      <th>908</th>\n",
       "      <td></td>\n",
       "      <td>jaime</td>\n",
       "      <td>2020-10-29</td>\n",
       "      <td>14</td>\n",
       "      <td>p.Â m.</td>\n",
       "      <td>ð±</td>\n",
       "    </tr>\n",
       "    <tr>\n",
       "      <th>916</th>\n",
       "      <td></td>\n",
       "      <td>jaime</td>\n",
       "      <td>2020-10-29</td>\n",
       "      <td>14</td>\n",
       "      <td>p.Â m.</td>\n",
       "      <td>ðð¼</td>\n",
       "    </tr>\n",
       "  </tbody>\n",
       "</table>\n",
       "<p>61 rows × 6 columns</p>\n",
       "</div>"
      ],
      "text/plain": [
       "    t_texto v_usuario    d_fecha  v_hora t_formato           t_texto_ori\n",
       "26              jaime 2019-06-12      19    p.Â m.                  ð\n",
       "\n",
       "66              carla 2020-04-14      13    p.Â m.                  ð§¡\n",
       "81              jaime 2020-04-24      18    p.Â m.                  ð\n",
       "86              jaime 2020-04-24      20    p.Â m.  ððð¼ðð¼\n",
       "164             carla 2020-07-30      17    p.Â m.                     ?\n",
       "..      ...       ...        ...     ...       ...                   ...\n",
       "849             jaime 2020-10-27      20    p.Â m.                  ð¥º\n",
       "857             jaime 2020-10-28      10    a.Â m.          ð¥³ð¥³ð¥³\n",
       "890             carla 2020-10-28      24    p.Â m.                  ð¬\n",
       "908             jaime 2020-10-29      14    p.Â m.                  ð±\n",
       "916             jaime 2020-10-29      14    p.Â m.              ðð¼\n",
       "\n",
       "[61 rows x 6 columns]"
      ]
     },
     "execution_count": 42,
     "metadata": {},
     "output_type": "execute_result"
    }
   ],
   "source": [
    "df[df[\"t_texto\"]==\"\"]"
   ]
  },
  {
   "cell_type": "markdown",
   "metadata": {
    "ExecuteTime": {
     "end_time": "2021-01-27T17:31:21.090560Z",
     "start_time": "2021-01-27T17:31:21.084222Z"
    }
   },
   "source": [
    "**Existen 61 registros sin información después de la limpieza, así que los removemos**"
   ]
  },
  {
   "cell_type": "code",
   "execution_count": 43,
   "metadata": {
    "ExecuteTime": {
     "end_time": "2021-01-27T19:10:41.714535Z",
     "start_time": "2021-01-27T19:10:41.629583Z"
    }
   },
   "outputs": [],
   "source": [
    "df=df[df[\"t_texto\"]!=\"\"]\n",
    "df.reset_index(drop=True,inplace=True)"
   ]
  },
  {
   "cell_type": "markdown",
   "metadata": {},
   "source": [
    "<h1 style=\"color:blue;\" > 3.h)</h1>"
   ]
  },
  {
   "cell_type": "markdown",
   "metadata": {},
   "source": [
    "**Añadimos algunas stop words adicionales para una mejor limieza del texto**"
   ]
  },
  {
   "cell_type": "code",
   "execution_count": 44,
   "metadata": {
    "ExecuteTime": {
     "end_time": "2021-01-27T19:10:41.816759Z",
     "start_time": "2021-01-27T19:10:41.716228Z"
    }
   },
   "outputs": [],
   "source": [
    "lista_stopwords = stopwords.words(\"spanish\")\n",
    "lista_stopwords=lista_stopwords+[\"xd\",\"va\",\"ja\",\"jaja\",\"jajaja\",\"si\",\"ok\"]"
   ]
  },
  {
   "cell_type": "code",
   "execution_count": 45,
   "metadata": {
    "ExecuteTime": {
     "end_time": "2021-01-27T19:10:41.953534Z",
     "start_time": "2021-01-27T19:10:41.818106Z"
    }
   },
   "outputs": [],
   "source": [
    "df[\"t_texto\"]=df[\"t_texto\"].map(lambda x:\" \".join(list(filter(lambda x:x not in lista_stopwords,x.split()))).strip())"
   ]
  },
  {
   "cell_type": "markdown",
   "metadata": {},
   "source": [
    "**Verificamos que no existan registros sin información, si es así deben eliminarse de la tabla**"
   ]
  },
  {
   "cell_type": "code",
   "execution_count": 46,
   "metadata": {
    "ExecuteTime": {
     "end_time": "2021-01-27T19:10:42.066217Z",
     "start_time": "2021-01-27T19:10:41.954836Z"
    }
   },
   "outputs": [
    {
     "data": {
      "text/html": [
       "<div>\n",
       "<style scoped>\n",
       "    .dataframe tbody tr th:only-of-type {\n",
       "        vertical-align: middle;\n",
       "    }\n",
       "\n",
       "    .dataframe tbody tr th {\n",
       "        vertical-align: top;\n",
       "    }\n",
       "\n",
       "    .dataframe thead th {\n",
       "        text-align: right;\n",
       "    }\n",
       "</style>\n",
       "<table border=\"1\" class=\"dataframe\">\n",
       "  <thead>\n",
       "    <tr style=\"text-align: right;\">\n",
       "      <th></th>\n",
       "      <th>t_texto</th>\n",
       "      <th>v_usuario</th>\n",
       "      <th>d_fecha</th>\n",
       "      <th>v_hora</th>\n",
       "      <th>t_formato</th>\n",
       "      <th>t_texto_ori</th>\n",
       "    </tr>\n",
       "  </thead>\n",
       "  <tbody>\n",
       "    <tr>\n",
       "      <th>29</th>\n",
       "      <td></td>\n",
       "      <td>carla</td>\n",
       "      <td>2019-06-12</td>\n",
       "      <td>19</td>\n",
       "      <td>p.Â m.</td>\n",
       "      <td>jajaja</td>\n",
       "    </tr>\n",
       "    <tr>\n",
       "      <th>43</th>\n",
       "      <td></td>\n",
       "      <td>jaime</td>\n",
       "      <td>2020-02-01</td>\n",
       "      <td>11</td>\n",
       "      <td>a.Â m.</td>\n",
       "      <td>jajaja</td>\n",
       "    </tr>\n",
       "    <tr>\n",
       "      <th>53</th>\n",
       "      <td></td>\n",
       "      <td>jaime</td>\n",
       "      <td>2020-01-23</td>\n",
       "      <td>22</td>\n",
       "      <td>p.Â m.</td>\n",
       "      <td>jajaja</td>\n",
       "    </tr>\n",
       "    <tr>\n",
       "      <th>67</th>\n",
       "      <td></td>\n",
       "      <td>carla</td>\n",
       "      <td>2020-04-14</td>\n",
       "      <td>13</td>\n",
       "      <td>p.Â m.</td>\n",
       "      <td>va va va</td>\n",
       "    </tr>\n",
       "    <tr>\n",
       "      <th>73</th>\n",
       "      <td></td>\n",
       "      <td>jaime</td>\n",
       "      <td>2020-04-14</td>\n",
       "      <td>13</td>\n",
       "      <td>p.Â m.</td>\n",
       "      <td>jajaja</td>\n",
       "    </tr>\n",
       "    <tr>\n",
       "      <th>...</th>\n",
       "      <td>...</td>\n",
       "      <td>...</td>\n",
       "      <td>...</td>\n",
       "      <td>...</td>\n",
       "      <td>...</td>\n",
       "      <td>...</td>\n",
       "    </tr>\n",
       "    <tr>\n",
       "      <th>870</th>\n",
       "      <td></td>\n",
       "      <td>carla</td>\n",
       "      <td>2020-10-29</td>\n",
       "      <td>21</td>\n",
       "      <td>p.Â m.</td>\n",
       "      <td>jajaja ð¤£ ok ok</td>\n",
       "    </tr>\n",
       "    <tr>\n",
       "      <th>872</th>\n",
       "      <td></td>\n",
       "      <td>carla</td>\n",
       "      <td>2020-10-29</td>\n",
       "      <td>21</td>\n",
       "      <td>p.Â m.</td>\n",
       "      <td>ya estã¡s</td>\n",
       "    </tr>\n",
       "    <tr>\n",
       "      <th>874</th>\n",
       "      <td></td>\n",
       "      <td>jaime</td>\n",
       "      <td>2020-10-29</td>\n",
       "      <td>21</td>\n",
       "      <td>p.Â m.</td>\n",
       "      <td>jajaja</td>\n",
       "    </tr>\n",
       "    <tr>\n",
       "      <th>879</th>\n",
       "      <td></td>\n",
       "      <td>carla</td>\n",
       "      <td>2020-10-29</td>\n",
       "      <td>21</td>\n",
       "      <td>p.Â m.</td>\n",
       "      <td>va va va ð¬</td>\n",
       "    </tr>\n",
       "    <tr>\n",
       "      <th>881</th>\n",
       "      <td></td>\n",
       "      <td>jaime</td>\n",
       "      <td>2020-10-29</td>\n",
       "      <td>21</td>\n",
       "      <td>p.Â m.</td>\n",
       "      <td>si si si</td>\n",
       "    </tr>\n",
       "  </tbody>\n",
       "</table>\n",
       "<p>92 rows × 6 columns</p>\n",
       "</div>"
      ],
      "text/plain": [
       "    t_texto v_usuario    d_fecha  v_hora t_formato        t_texto_ori\n",
       "29              carla 2019-06-12      19    p.Â m.             jajaja\n",
       "43              jaime 2020-02-01      11    a.Â m.             jajaja\n",
       "53              jaime 2020-01-23      22    p.Â m.             jajaja\n",
       "67              carla 2020-04-14      13    p.Â m.           va va va\n",
       "73              jaime 2020-04-14      13    p.Â m.             jajaja\n",
       "..      ...       ...        ...     ...       ...                ...\n",
       "870             carla 2020-10-29      21    p.Â m.  jajaja ð¤£ ok ok\n",
       "872             carla 2020-10-29      21    p.Â m.          ya estã¡s\n",
       "874             jaime 2020-10-29      21    p.Â m.             jajaja\n",
       "879             carla 2020-10-29      21    p.Â m.      va va va ð¬\n",
       "881             jaime 2020-10-29      21    p.Â m.           si si si\n",
       "\n",
       "[92 rows x 6 columns]"
      ]
     },
     "execution_count": 46,
     "metadata": {},
     "output_type": "execute_result"
    }
   ],
   "source": [
    "df[df[\"t_texto\"]==\"\"]"
   ]
  },
  {
   "cell_type": "code",
   "execution_count": 47,
   "metadata": {
    "ExecuteTime": {
     "end_time": "2021-01-27T19:10:42.198202Z",
     "start_time": "2021-01-27T19:10:42.068082Z"
    }
   },
   "outputs": [],
   "source": [
    "df=df[df[\"t_texto\"]!=\"\"]\n",
    "df.reset_index(drop=True,inplace=True)"
   ]
  },
  {
   "cell_type": "markdown",
   "metadata": {},
   "source": [
    "**Eliminamos aquellos registros donde aún contamos con \"jaja\" y además la longitud de la palabra es inferior a seis, además seleccionamos solo los registros con longitud superior a dos**"
   ]
  },
  {
   "cell_type": "code",
   "execution_count": 48,
   "metadata": {
    "ExecuteTime": {
     "end_time": "2021-01-27T19:10:42.302281Z",
     "start_time": "2021-01-27T19:10:42.200048Z"
    }
   },
   "outputs": [],
   "source": [
    "df=df[~df[\"t_texto\"].map(lambda x:\"jaja\" in x and len(x)<6)].reset_index(drop=True)\n",
    "df=df[df[\"t_texto\"].map(lambda x:len(x)>2)].reset_index(drop=True)"
   ]
  },
  {
   "cell_type": "code",
   "execution_count": 49,
   "metadata": {
    "ExecuteTime": {
     "end_time": "2021-01-27T19:10:42.433670Z",
     "start_time": "2021-01-27T19:10:42.303797Z"
    }
   },
   "outputs": [
    {
     "data": {
      "text/html": [
       "<div>\n",
       "<style scoped>\n",
       "    .dataframe tbody tr th:only-of-type {\n",
       "        vertical-align: middle;\n",
       "    }\n",
       "\n",
       "    .dataframe tbody tr th {\n",
       "        vertical-align: top;\n",
       "    }\n",
       "\n",
       "    .dataframe thead th {\n",
       "        text-align: right;\n",
       "    }\n",
       "</style>\n",
       "<table border=\"1\" class=\"dataframe\">\n",
       "  <thead>\n",
       "    <tr style=\"text-align: right;\">\n",
       "      <th></th>\n",
       "      <th>t_texto</th>\n",
       "      <th>v_usuario</th>\n",
       "      <th>d_fecha</th>\n",
       "      <th>v_hora</th>\n",
       "      <th>t_formato</th>\n",
       "      <th>t_texto_ori</th>\n",
       "    </tr>\n",
       "  </thead>\n",
       "  <tbody>\n",
       "  </tbody>\n",
       "</table>\n",
       "</div>"
      ],
      "text/plain": [
       "Empty DataFrame\n",
       "Columns: [t_texto, v_usuario, d_fecha, v_hora, t_formato, t_texto_ori]\n",
       "Index: []"
      ]
     },
     "execution_count": 49,
     "metadata": {},
     "output_type": "execute_result"
    }
   ],
   "source": [
    "df[df[\"t_texto\"]==\"\"]"
   ]
  },
  {
   "cell_type": "markdown",
   "metadata": {},
   "source": [
    "<h1 style=\"color:blue;\" > 3.i)</h1>"
   ]
  },
  {
   "cell_type": "code",
   "execution_count": 50,
   "metadata": {
    "ExecuteTime": {
     "end_time": "2021-01-27T19:10:42.536302Z",
     "start_time": "2021-01-27T19:10:42.435401Z"
    }
   },
   "outputs": [],
   "source": [
    "#Obtenemos el corpus del texto\n",
    "corpus=\" \".join(df[\"t_texto\"].values)\n",
    "#Obtenemos la frecuencia de la spalabras con FreqDist\n",
    "fdist=nltk.FreqDist(corpus.split())\n",
    "#Seleccionamos los hapaxes\n",
    "list_hapaxes=fdist.hapaxes()"
   ]
  },
  {
   "cell_type": "markdown",
   "metadata": {},
   "source": [
    "**Eliminamos los hapaxes**"
   ]
  },
  {
   "cell_type": "code",
   "execution_count": 51,
   "metadata": {
    "ExecuteTime": {
     "end_time": "2021-01-27T19:10:42.664056Z",
     "start_time": "2021-01-27T19:10:42.537814Z"
    }
   },
   "outputs": [
    {
     "data": {
      "text/plain": [
       "0      holi jaime comparta carpeta estan rangos csv a...\n",
       "1                    hoy d casita necesitas llegue checo\n",
       "2                      holi carlita muchas gracias mejor\n",
       "3                                            bambi bambi\n",
       "4                                              carlitaaa\n",
       "                             ...                        \n",
       "778                                       puedo pedir 10\n",
       "779                                                mm sr\n",
       "780                                      creo hizo chido\n",
       "781                                       voa pedir aiai\n",
       "782                                                mejor\n",
       "Name: t_texto, Length: 783, dtype: object"
      ]
     },
     "execution_count": 51,
     "metadata": {},
     "output_type": "execute_result"
    }
   ],
   "source": [
    "df[\"t_texto\"]=df[\"t_texto\"].map(lambda text:\" \".join([x for x in text.split(\" \") if x not in list_hapaxes]))\n",
    "df[\"t_texto\"]"
   ]
  },
  {
   "cell_type": "code",
   "execution_count": 52,
   "metadata": {
    "ExecuteTime": {
     "end_time": "2021-01-27T19:10:42.786833Z",
     "start_time": "2021-01-27T19:10:42.665350Z"
    }
   },
   "outputs": [
    {
     "data": {
      "text/html": [
       "<div>\n",
       "<style scoped>\n",
       "    .dataframe tbody tr th:only-of-type {\n",
       "        vertical-align: middle;\n",
       "    }\n",
       "\n",
       "    .dataframe tbody tr th {\n",
       "        vertical-align: top;\n",
       "    }\n",
       "\n",
       "    .dataframe thead th {\n",
       "        text-align: right;\n",
       "    }\n",
       "</style>\n",
       "<table border=\"1\" class=\"dataframe\">\n",
       "  <thead>\n",
       "    <tr style=\"text-align: right;\">\n",
       "      <th></th>\n",
       "      <th>t_texto</th>\n",
       "      <th>v_usuario</th>\n",
       "      <th>d_fecha</th>\n",
       "      <th>v_hora</th>\n",
       "      <th>t_formato</th>\n",
       "      <th>t_texto_ori</th>\n",
       "    </tr>\n",
       "  </thead>\n",
       "  <tbody>\n",
       "    <tr>\n",
       "      <th>20</th>\n",
       "      <td></td>\n",
       "      <td>jaime</td>\n",
       "      <td>2019-01-12</td>\n",
       "      <td>22</td>\n",
       "      <td>p.Â m.</td>\n",
       "      <td>graciaas</td>\n",
       "    </tr>\n",
       "    <tr>\n",
       "      <th>29</th>\n",
       "      <td></td>\n",
       "      <td>jaime</td>\n",
       "      <td>2019-06-12</td>\n",
       "      <td>19</td>\n",
       "      <td>p.Â m.</td>\n",
       "      <td>aaa ok ok</td>\n",
       "    </tr>\n",
       "    <tr>\n",
       "      <th>51</th>\n",
       "      <td></td>\n",
       "      <td>jaime</td>\n",
       "      <td>2020-01-23</td>\n",
       "      <td>22</td>\n",
       "      <td>p.Â m.</td>\n",
       "      <td>ya te lo autorize</td>\n",
       "    </tr>\n",
       "    <tr>\n",
       "      <th>60</th>\n",
       "      <td></td>\n",
       "      <td>carla</td>\n",
       "      <td>2020-04-14</td>\n",
       "      <td>13</td>\n",
       "      <td>p.Â m.</td>\n",
       "      <td>si si , me agrada la idea</td>\n",
       "    </tr>\n",
       "    <tr>\n",
       "      <th>91</th>\n",
       "      <td></td>\n",
       "      <td>jaime</td>\n",
       "      <td>2020-05-29</td>\n",
       "      <td>16</td>\n",
       "      <td>p.Â m.</td>\n",
       "      <td>no tienes banca movil?</td>\n",
       "    </tr>\n",
       "    <tr>\n",
       "      <th>...</th>\n",
       "      <td>...</td>\n",
       "      <td>...</td>\n",
       "      <td>...</td>\n",
       "      <td>...</td>\n",
       "      <td>...</td>\n",
       "      <td>...</td>\n",
       "    </tr>\n",
       "    <tr>\n",
       "      <th>746</th>\n",
       "      <td></td>\n",
       "      <td>carla</td>\n",
       "      <td>2020-10-28</td>\n",
       "      <td>20</td>\n",
       "      <td>p.Â m.</td>\n",
       "      <td>amossss</td>\n",
       "    </tr>\n",
       "    <tr>\n",
       "      <th>749</th>\n",
       "      <td></td>\n",
       "      <td>jaime</td>\n",
       "      <td>2020-10-28</td>\n",
       "      <td>20</td>\n",
       "      <td>p.Â m.</td>\n",
       "      <td>vaaaaa</td>\n",
       "    </tr>\n",
       "    <tr>\n",
       "      <th>759</th>\n",
       "      <td></td>\n",
       "      <td>jaime</td>\n",
       "      <td>2020-10-29</td>\n",
       "      <td>14</td>\n",
       "      <td>p.Â m.</td>\n",
       "      <td>perdã³on</td>\n",
       "    </tr>\n",
       "    <tr>\n",
       "      <th>764</th>\n",
       "      <td></td>\n",
       "      <td>jaime</td>\n",
       "      <td>2020-10-29</td>\n",
       "      <td>14</td>\n",
       "      <td>p.Â m.</td>\n",
       "      <td>y eso que vine temprano</td>\n",
       "    </tr>\n",
       "    <tr>\n",
       "      <th>772</th>\n",
       "      <td></td>\n",
       "      <td>jaime</td>\n",
       "      <td>2020-10-29</td>\n",
       "      <td>21</td>\n",
       "      <td>p.Â m.</td>\n",
       "      <td>lo hice al aventã³n xd</td>\n",
       "    </tr>\n",
       "  </tbody>\n",
       "</table>\n",
       "<p>93 rows × 6 columns</p>\n",
       "</div>"
      ],
      "text/plain": [
       "    t_texto v_usuario    d_fecha  v_hora t_formato                t_texto_ori\n",
       "20              jaime 2019-01-12      22    p.Â m.                   graciaas\n",
       "29              jaime 2019-06-12      19    p.Â m.                  aaa ok ok\n",
       "51              jaime 2020-01-23      22    p.Â m.          ya te lo autorize\n",
       "60              carla 2020-04-14      13    p.Â m.  si si , me agrada la idea\n",
       "91              jaime 2020-05-29      16    p.Â m.     no tienes banca movil?\n",
       "..      ...       ...        ...     ...       ...                        ...\n",
       "746             carla 2020-10-28      20    p.Â m.                    amossss\n",
       "749             jaime 2020-10-28      20    p.Â m.                     vaaaaa\n",
       "759             jaime 2020-10-29      14    p.Â m.                   perdã³on\n",
       "764             jaime 2020-10-29      14    p.Â m.    y eso que vine temprano\n",
       "772             jaime 2020-10-29      21    p.Â m.     lo hice al aventã³n xd\n",
       "\n",
       "[93 rows x 6 columns]"
      ]
     },
     "execution_count": 52,
     "metadata": {},
     "output_type": "execute_result"
    }
   ],
   "source": [
    "df[df[\"t_texto\"] == \"\"]"
   ]
  },
  {
   "cell_type": "markdown",
   "metadata": {},
   "source": [
    "**Eliminamos registros vacios**"
   ]
  },
  {
   "cell_type": "code",
   "execution_count": 53,
   "metadata": {
    "ExecuteTime": {
     "end_time": "2021-01-27T19:10:42.905962Z",
     "start_time": "2021-01-27T19:10:42.788162Z"
    }
   },
   "outputs": [
    {
     "data": {
      "text/html": [
       "<div>\n",
       "<style scoped>\n",
       "    .dataframe tbody tr th:only-of-type {\n",
       "        vertical-align: middle;\n",
       "    }\n",
       "\n",
       "    .dataframe tbody tr th {\n",
       "        vertical-align: top;\n",
       "    }\n",
       "\n",
       "    .dataframe thead th {\n",
       "        text-align: right;\n",
       "    }\n",
       "</style>\n",
       "<table border=\"1\" class=\"dataframe\">\n",
       "  <thead>\n",
       "    <tr style=\"text-align: right;\">\n",
       "      <th></th>\n",
       "      <th>t_texto</th>\n",
       "      <th>v_usuario</th>\n",
       "      <th>d_fecha</th>\n",
       "      <th>v_hora</th>\n",
       "      <th>t_formato</th>\n",
       "      <th>t_texto_ori</th>\n",
       "    </tr>\n",
       "  </thead>\n",
       "  <tbody>\n",
       "    <tr>\n",
       "      <th>0</th>\n",
       "      <td>holi jaime comparta carpeta estan rangos csv a...</td>\n",
       "      <td>carla</td>\n",
       "      <td>2019-01-12</td>\n",
       "      <td>9</td>\n",
       "      <td>a.Â m.</td>\n",
       "      <td>holi jaime, te compartã­ una carpeta en drive ...</td>\n",
       "    </tr>\n",
       "    <tr>\n",
       "      <th>1</th>\n",
       "      <td>hoy d casita necesitas llegue checo</td>\n",
       "      <td>carla</td>\n",
       "      <td>2019-01-12</td>\n",
       "      <td>9</td>\n",
       "      <td>a.Â m.</td>\n",
       "      <td>hoy estarã© fuera d emi casita pero si necesit...</td>\n",
       "    </tr>\n",
       "    <tr>\n",
       "      <th>2</th>\n",
       "      <td>holi carlita muchas gracias mejor</td>\n",
       "      <td>jaime</td>\n",
       "      <td>2019-01-12</td>\n",
       "      <td>9</td>\n",
       "      <td>a.Â m.</td>\n",
       "      <td>holi carlita, vientos, muchas gracias, eres la...</td>\n",
       "    </tr>\n",
       "    <tr>\n",
       "      <th>3</th>\n",
       "      <td>bambi bambi</td>\n",
       "      <td>jaime</td>\n",
       "      <td>2019-01-12</td>\n",
       "      <td>9</td>\n",
       "      <td>a.Â m.</td>\n",
       "      <td>bambi bambi , graciaaas</td>\n",
       "    </tr>\n",
       "    <tr>\n",
       "      <th>4</th>\n",
       "      <td>carlitaaa</td>\n",
       "      <td>jaime</td>\n",
       "      <td>2019-01-12</td>\n",
       "      <td>16</td>\n",
       "      <td>p.Â m.</td>\n",
       "      <td>carlitaaa</td>\n",
       "    </tr>\n",
       "  </tbody>\n",
       "</table>\n",
       "</div>"
      ],
      "text/plain": [
       "                                             t_texto v_usuario    d_fecha  \\\n",
       "0  holi jaime comparta carpeta estan rangos csv a...     carla 2019-01-12   \n",
       "1                hoy d casita necesitas llegue checo     carla 2019-01-12   \n",
       "2                  holi carlita muchas gracias mejor     jaime 2019-01-12   \n",
       "3                                        bambi bambi     jaime 2019-01-12   \n",
       "4                                          carlitaaa     jaime 2019-01-12   \n",
       "\n",
       "   v_hora t_formato                                        t_texto_ori  \n",
       "0       9    a.Â m.  holi jaime, te compartã­ una carpeta en drive ...  \n",
       "1       9    a.Â m.  hoy estarã© fuera d emi casita pero si necesit...  \n",
       "2       9    a.Â m.  holi carlita, vientos, muchas gracias, eres la...  \n",
       "3       9    a.Â m.                            bambi bambi , graciaaas  \n",
       "4      16    p.Â m.                                          carlitaaa  "
      ]
     },
     "execution_count": 53,
     "metadata": {},
     "output_type": "execute_result"
    }
   ],
   "source": [
    "df = df[df[\"t_texto\"] != \"\"]\n",
    "df.reset_index(drop=True,inplace=True)\n",
    "df.head()"
   ]
  },
  {
   "cell_type": "code",
   "execution_count": 54,
   "metadata": {
    "ExecuteTime": {
     "end_time": "2021-01-27T19:10:43.091046Z",
     "start_time": "2021-01-27T19:10:42.911238Z"
    }
   },
   "outputs": [
    {
     "data": {
      "text/html": [
       "<div>\n",
       "<style scoped>\n",
       "    .dataframe tbody tr th:only-of-type {\n",
       "        vertical-align: middle;\n",
       "    }\n",
       "\n",
       "    .dataframe tbody tr th {\n",
       "        vertical-align: top;\n",
       "    }\n",
       "\n",
       "    .dataframe thead th {\n",
       "        text-align: right;\n",
       "    }\n",
       "</style>\n",
       "<table border=\"1\" class=\"dataframe\">\n",
       "  <thead>\n",
       "    <tr style=\"text-align: right;\">\n",
       "      <th></th>\n",
       "      <th>t_texto</th>\n",
       "      <th>v_usuario</th>\n",
       "      <th>d_fecha</th>\n",
       "      <th>v_hora</th>\n",
       "      <th>t_formato</th>\n",
       "      <th>t_texto_ori</th>\n",
       "    </tr>\n",
       "  </thead>\n",
       "  <tbody>\n",
       "  </tbody>\n",
       "</table>\n",
       "</div>"
      ],
      "text/plain": [
       "Empty DataFrame\n",
       "Columns: [t_texto, v_usuario, d_fecha, v_hora, t_formato, t_texto_ori]\n",
       "Index: []"
      ]
     },
     "execution_count": 54,
     "metadata": {},
     "output_type": "execute_result"
    }
   ],
   "source": [
    "df[df[\"t_texto\"]==\"\"]\n"
   ]
  },
  {
   "cell_type": "code",
   "execution_count": 55,
   "metadata": {
    "ExecuteTime": {
     "end_time": "2021-01-27T19:10:43.190796Z",
     "start_time": "2021-01-27T19:10:43.092860Z"
    }
   },
   "outputs": [
    {
     "data": {
      "text/plain": [
       "(690, 6)"
      ]
     },
     "execution_count": 55,
     "metadata": {},
     "output_type": "execute_result"
    }
   ],
   "source": [
    "df.shape"
   ]
  },
  {
   "cell_type": "markdown",
   "metadata": {},
   "source": [
    "**Volvemos a filtrar aquellos registros donde la longitud sea inferior o igual a dos letras**"
   ]
  },
  {
   "cell_type": "code",
   "execution_count": 56,
   "metadata": {
    "ExecuteTime": {
     "end_time": "2021-01-27T19:10:43.299565Z",
     "start_time": "2021-01-27T19:10:43.192233Z"
    }
   },
   "outputs": [
    {
     "data": {
      "text/html": [
       "<div>\n",
       "<style scoped>\n",
       "    .dataframe tbody tr th:only-of-type {\n",
       "        vertical-align: middle;\n",
       "    }\n",
       "\n",
       "    .dataframe tbody tr th {\n",
       "        vertical-align: top;\n",
       "    }\n",
       "\n",
       "    .dataframe thead th {\n",
       "        text-align: right;\n",
       "    }\n",
       "</style>\n",
       "<table border=\"1\" class=\"dataframe\">\n",
       "  <thead>\n",
       "    <tr style=\"text-align: right;\">\n",
       "      <th></th>\n",
       "      <th>t_texto</th>\n",
       "      <th>v_usuario</th>\n",
       "      <th>d_fecha</th>\n",
       "      <th>v_hora</th>\n",
       "      <th>t_formato</th>\n",
       "      <th>t_texto_ori</th>\n",
       "    </tr>\n",
       "  </thead>\n",
       "  <tbody>\n",
       "    <tr>\n",
       "      <th>0</th>\n",
       "      <td>mm</td>\n",
       "      <td>jaime</td>\n",
       "      <td>2019-01-12</td>\n",
       "      <td>19</td>\n",
       "      <td>p.Â m.</td>\n",
       "      <td>mm como cuantos salen decentemente?</td>\n",
       "    </tr>\n",
       "    <tr>\n",
       "      <th>1</th>\n",
       "      <td>5</td>\n",
       "      <td>jaime</td>\n",
       "      <td>2020-05-29</td>\n",
       "      <td>17</td>\n",
       "      <td>p.Â m.</td>\n",
       "      <td>012 180 01536067603 5</td>\n",
       "    </tr>\n",
       "    <tr>\n",
       "      <th>2</th>\n",
       "      <td>di</td>\n",
       "      <td>jaime</td>\n",
       "      <td>2020-07-10</td>\n",
       "      <td>9</td>\n",
       "      <td>a.Â m.</td>\n",
       "      <td>no te di chance de prepararte xd</td>\n",
       "    </tr>\n",
       "    <tr>\n",
       "      <th>3</th>\n",
       "      <td>ma</td>\n",
       "      <td>jaime</td>\n",
       "      <td>2020-10-15</td>\n",
       "      <td>19</td>\n",
       "      <td>p.Â m.</td>\n",
       "      <td>no ma soy amigo de la profa</td>\n",
       "    </tr>\n",
       "    <tr>\n",
       "      <th>4</th>\n",
       "      <td>10</td>\n",
       "      <td>carla</td>\n",
       "      <td>2020-10-23</td>\n",
       "      <td>18</td>\n",
       "      <td>p.Â m.</td>\n",
       "      <td>sacas 10</td>\n",
       "    </tr>\n",
       "  </tbody>\n",
       "</table>\n",
       "</div>"
      ],
      "text/plain": [
       "  t_texto v_usuario    d_fecha  v_hora t_formato  \\\n",
       "0      mm     jaime 2019-01-12      19    p.Â m.   \n",
       "1       5     jaime 2020-05-29      17    p.Â m.   \n",
       "2      di     jaime 2020-07-10       9    a.Â m.   \n",
       "3      ma     jaime 2020-10-15      19    p.Â m.   \n",
       "4      10     carla 2020-10-23      18    p.Â m.   \n",
       "\n",
       "                           t_texto_ori  \n",
       "0  mm como cuantos salen decentemente?  \n",
       "1                012 180 01536067603 5  \n",
       "2     no te di chance de prepararte xd  \n",
       "3          no ma soy amigo de la profa  \n",
       "4                             sacas 10  "
      ]
     },
     "execution_count": 56,
     "metadata": {},
     "output_type": "execute_result"
    }
   ],
   "source": [
    "df[~df[\"t_texto\"].map(lambda x:len(x)>2)].reset_index(drop=True)"
   ]
  },
  {
   "cell_type": "code",
   "execution_count": 57,
   "metadata": {
    "ExecuteTime": {
     "end_time": "2021-01-27T19:10:43.729444Z",
     "start_time": "2021-01-27T19:10:43.300807Z"
    }
   },
   "outputs": [],
   "source": [
    "df=df[df[\"t_texto\"].map(lambda x:len(x)>2)].reset_index(drop=True)"
   ]
  },
  {
   "cell_type": "code",
   "execution_count": 58,
   "metadata": {
    "ExecuteTime": {
     "end_time": "2021-01-27T19:10:44.003170Z",
     "start_time": "2021-01-27T19:10:43.730715Z"
    }
   },
   "outputs": [
    {
     "data": {
      "text/html": [
       "<div>\n",
       "<style scoped>\n",
       "    .dataframe tbody tr th:only-of-type {\n",
       "        vertical-align: middle;\n",
       "    }\n",
       "\n",
       "    .dataframe tbody tr th {\n",
       "        vertical-align: top;\n",
       "    }\n",
       "\n",
       "    .dataframe thead th {\n",
       "        text-align: right;\n",
       "    }\n",
       "</style>\n",
       "<table border=\"1\" class=\"dataframe\">\n",
       "  <thead>\n",
       "    <tr style=\"text-align: right;\">\n",
       "      <th></th>\n",
       "      <th>t_texto</th>\n",
       "      <th>v_usuario</th>\n",
       "      <th>d_fecha</th>\n",
       "      <th>v_hora</th>\n",
       "      <th>t_formato</th>\n",
       "      <th>t_texto_ori</th>\n",
       "    </tr>\n",
       "  </thead>\n",
       "  <tbody>\n",
       "  </tbody>\n",
       "</table>\n",
       "</div>"
      ],
      "text/plain": [
       "Empty DataFrame\n",
       "Columns: [t_texto, v_usuario, d_fecha, v_hora, t_formato, t_texto_ori]\n",
       "Index: []"
      ]
     },
     "execution_count": 58,
     "metadata": {},
     "output_type": "execute_result"
    }
   ],
   "source": [
    "df[~df[\"t_texto\"].map(lambda x:len(x)>2)].reset_index(drop=True)"
   ]
  },
  {
   "cell_type": "code",
   "execution_count": 59,
   "metadata": {
    "ExecuteTime": {
     "end_time": "2021-01-27T19:10:44.100555Z",
     "start_time": "2021-01-27T19:10:44.005187Z"
    }
   },
   "outputs": [],
   "source": [
    "#Creamos una variable del texto limpio\n",
    "df[\"t_texto_clean\"] = df[\"t_texto\"]"
   ]
  },
  {
   "cell_type": "markdown",
   "metadata": {},
   "source": [
    "<h1 style=\"color:blue;\" > 3.j)</h1>"
   ]
  },
  {
   "cell_type": "markdown",
   "metadata": {},
   "source": [
    "**Generamos tokens del texto limpio**"
   ]
  },
  {
   "cell_type": "code",
   "execution_count": 60,
   "metadata": {
    "ExecuteTime": {
     "end_time": "2021-01-27T19:10:44.291746Z",
     "start_time": "2021-01-27T19:10:44.102025Z"
    }
   },
   "outputs": [
    {
     "data": {
      "text/plain": [
       "0    [holi, jaime, comparta, carpeta, estan, rangos...\n",
       "1           [hoy, d, casita, necesitas, llegue, checo]\n",
       "2              [holi, carlita, muchas, gracias, mejor]\n",
       "3                                       [bambi, bambi]\n",
       "4                                          [carlitaaa]\n",
       "Name: t_texto, dtype: object"
      ]
     },
     "execution_count": 60,
     "metadata": {},
     "output_type": "execute_result"
    }
   ],
   "source": [
    "df[\"t_texto\"]=df[\"t_texto\"].map(lambda x:x.split())\n",
    "df[\"t_texto\"].head()"
   ]
  },
  {
   "cell_type": "markdown",
   "metadata": {},
   "source": [
    "<h1 style=\"color:blue;\" > 3.k)</h1>"
   ]
  },
  {
   "cell_type": "code",
   "execution_count": 61,
   "metadata": {
    "ExecuteTime": {
     "end_time": "2021-01-27T19:10:44.427681Z",
     "start_time": "2021-01-27T19:10:44.293030Z"
    }
   },
   "outputs": [
    {
     "data": {
      "text/plain": [
       "0    [holi, jaim, compart, carpet, estan, rang, csv...\n",
       "1                 [hoy, d, casit, necesit, lleg, chec]\n",
       "2                   [holi, carlit, much, graci, mejor]\n",
       "3                                       [bambi, bambi]\n",
       "4                                           [carlitaa]\n",
       "Name: t_texto, dtype: object"
      ]
     },
     "execution_count": 61,
     "metadata": {},
     "output_type": "execute_result"
    }
   ],
   "source": [
    "from nltk.stem import SnowballStemmer\n",
    "spanish_stemmer = SnowballStemmer('spanish')\n",
    "\n",
    "df[\"t_texto\"]=df[\"t_texto\"].map(lambda text:[spanish_stemmer.stem(word) for word in text])\n",
    "df[\"t_texto\"].head()"
   ]
  },
  {
   "cell_type": "markdown",
   "metadata": {},
   "source": [
    "<h1 style=\"color:blue;\" > 3.l)</h1>"
   ]
  },
  {
   "cell_type": "markdown",
   "metadata": {},
   "source": [
    "<h1 style=\"color:orange;\" > a) Análisis de longitud</h1>"
   ]
  },
  {
   "cell_type": "code",
   "execution_count": 62,
   "metadata": {
    "ExecuteTime": {
     "end_time": "2021-01-27T19:10:44.540851Z",
     "start_time": "2021-01-27T19:10:44.428997Z"
    }
   },
   "outputs": [
    {
     "data": {
      "text/html": [
       "<div>\n",
       "<style scoped>\n",
       "    .dataframe tbody tr th:only-of-type {\n",
       "        vertical-align: middle;\n",
       "    }\n",
       "\n",
       "    .dataframe tbody tr th {\n",
       "        vertical-align: top;\n",
       "    }\n",
       "\n",
       "    .dataframe thead th {\n",
       "        text-align: right;\n",
       "    }\n",
       "</style>\n",
       "<table border=\"1\" class=\"dataframe\">\n",
       "  <thead>\n",
       "    <tr style=\"text-align: right;\">\n",
       "      <th></th>\n",
       "      <th>t_texto</th>\n",
       "      <th>v_usuario</th>\n",
       "      <th>d_fecha</th>\n",
       "      <th>v_hora</th>\n",
       "      <th>t_formato</th>\n",
       "      <th>t_texto_ori</th>\n",
       "      <th>t_texto_clean</th>\n",
       "      <th>c_numero_palabras</th>\n",
       "      <th>c_numero_letras</th>\n",
       "      <th>c_lon_pro_pal</th>\n",
       "      <th>c_num_vocales</th>\n",
       "    </tr>\n",
       "  </thead>\n",
       "  <tbody>\n",
       "    <tr>\n",
       "      <th>0</th>\n",
       "      <td>[holi, jaim, compart, carpet, estan, rang, csv...</td>\n",
       "      <td>carla</td>\n",
       "      <td>2019-01-12</td>\n",
       "      <td>9</td>\n",
       "      <td>a.Â m.</td>\n",
       "      <td>holi jaime, te compartã­ una carpeta en drive ...</td>\n",
       "      <td>holi jaime comparta carpeta estan rangos csv a...</td>\n",
       "      <td>10</td>\n",
       "      <td>51</td>\n",
       "      <td>5.1</td>\n",
       "      <td>25</td>\n",
       "    </tr>\n",
       "    <tr>\n",
       "      <th>1</th>\n",
       "      <td>[hoy, d, casit, necesit, lleg, chec]</td>\n",
       "      <td>carla</td>\n",
       "      <td>2019-01-12</td>\n",
       "      <td>9</td>\n",
       "      <td>a.Â m.</td>\n",
       "      <td>hoy estarã© fuera d emi casita pero si necesit...</td>\n",
       "      <td>hoy d casita necesitas llegue checo</td>\n",
       "      <td>6</td>\n",
       "      <td>24</td>\n",
       "      <td>4.0</td>\n",
       "      <td>13</td>\n",
       "    </tr>\n",
       "    <tr>\n",
       "      <th>2</th>\n",
       "      <td>[holi, carlit, much, graci, mejor]</td>\n",
       "      <td>jaime</td>\n",
       "      <td>2019-01-12</td>\n",
       "      <td>9</td>\n",
       "      <td>a.Â m.</td>\n",
       "      <td>holi carlita, vientos, muchas gracias, eres la...</td>\n",
       "      <td>holi carlita muchas gracias mejor</td>\n",
       "      <td>5</td>\n",
       "      <td>24</td>\n",
       "      <td>4.8</td>\n",
       "      <td>12</td>\n",
       "    </tr>\n",
       "    <tr>\n",
       "      <th>3</th>\n",
       "      <td>[bambi, bambi]</td>\n",
       "      <td>jaime</td>\n",
       "      <td>2019-01-12</td>\n",
       "      <td>9</td>\n",
       "      <td>a.Â m.</td>\n",
       "      <td>bambi bambi , graciaaas</td>\n",
       "      <td>bambi bambi</td>\n",
       "      <td>2</td>\n",
       "      <td>10</td>\n",
       "      <td>5.0</td>\n",
       "      <td>4</td>\n",
       "    </tr>\n",
       "    <tr>\n",
       "      <th>4</th>\n",
       "      <td>[carlitaa]</td>\n",
       "      <td>jaime</td>\n",
       "      <td>2019-01-12</td>\n",
       "      <td>16</td>\n",
       "      <td>p.Â m.</td>\n",
       "      <td>carlitaaa</td>\n",
       "      <td>carlitaaa</td>\n",
       "      <td>1</td>\n",
       "      <td>8</td>\n",
       "      <td>8.0</td>\n",
       "      <td>5</td>\n",
       "    </tr>\n",
       "  </tbody>\n",
       "</table>\n",
       "</div>"
      ],
      "text/plain": [
       "                                             t_texto v_usuario    d_fecha  \\\n",
       "0  [holi, jaim, compart, carpet, estan, rang, csv...     carla 2019-01-12   \n",
       "1               [hoy, d, casit, necesit, lleg, chec]     carla 2019-01-12   \n",
       "2                 [holi, carlit, much, graci, mejor]     jaime 2019-01-12   \n",
       "3                                     [bambi, bambi]     jaime 2019-01-12   \n",
       "4                                         [carlitaa]     jaime 2019-01-12   \n",
       "\n",
       "   v_hora t_formato                                        t_texto_ori  \\\n",
       "0       9    a.Â m.  holi jaime, te compartã­ una carpeta en drive ...   \n",
       "1       9    a.Â m.  hoy estarã© fuera d emi casita pero si necesit...   \n",
       "2       9    a.Â m.  holi carlita, vientos, muchas gracias, eres la...   \n",
       "3       9    a.Â m.                            bambi bambi , graciaaas   \n",
       "4      16    p.Â m.                                          carlitaaa   \n",
       "\n",
       "                                       t_texto_clean  c_numero_palabras  \\\n",
       "0  holi jaime comparta carpeta estan rangos csv a...                 10   \n",
       "1                hoy d casita necesitas llegue checo                  6   \n",
       "2                  holi carlita muchas gracias mejor                  5   \n",
       "3                                        bambi bambi                  2   \n",
       "4                                          carlitaaa                  1   \n",
       "\n",
       "   c_numero_letras  c_lon_pro_pal  c_num_vocales  \n",
       "0               51            5.1             25  \n",
       "1               24            4.0             13  \n",
       "2               24            4.8             12  \n",
       "3               10            5.0              4  \n",
       "4                8            8.0              5  "
      ]
     },
     "execution_count": 62,
     "metadata": {},
     "output_type": "execute_result"
    }
   ],
   "source": [
    "#Número de palabras\n",
    "df['c_numero_palabras'] = df[\"t_texto\"].apply(lambda x: len(x))\n",
    "\n",
    "#Número de letras\n",
    "df['c_numero_letras'] =df[\"t_texto\"].map(lambda x: sum(len(word) for word in x))\n",
    "\n",
    "#Longitud promedio de palabras\n",
    "df['c_lon_pro_pal'] = df['c_numero_letras'] / df['c_numero_palabras']\n",
    "#Número de vocales en el texto limpio\n",
    "df[\"c_num_vocales\"]=df[\"t_texto_clean\"].map(contar_vocales)\n",
    "df.head()"
   ]
  },
  {
   "cell_type": "markdown",
   "metadata": {
    "ExecuteTime": {
     "end_time": "2021-01-27T17:52:13.998247Z",
     "start_time": "2021-01-27T17:52:13.995740Z"
    }
   },
   "source": [
    "<h1 style=\"color:orange;\" > b) Análisis de sentimientos</h1>"
   ]
  },
  {
   "cell_type": "markdown",
   "metadata": {},
   "source": [
    "pip install translate\n"
   ]
  },
  {
   "cell_type": "markdown",
   "metadata": {
    "ExecuteTime": {
     "end_time": "2021-01-27T18:17:58.262061Z",
     "start_time": "2021-01-27T18:17:57.271670Z"
    }
   },
   "source": [
    "https://www.tutorialspoint.com/python_text_processing/python_text_translation.htm"
   ]
  },
  {
   "cell_type": "code",
   "execution_count": 63,
   "metadata": {
    "ExecuteTime": {
     "end_time": "2021-01-27T19:10:44.699926Z",
     "start_time": "2021-01-27T19:10:44.542156Z"
    },
    "scrolled": true
   },
   "outputs": [],
   "source": [
    "from translate import Translator\n",
    "translator= Translator(from_lang=\"spanish\",to_lang=\"english\")\n",
    "\n",
    "def eng_to_spa(text):\n",
    "    try:\n",
    "        aux=translator.translate(text)\n",
    "    except:\n",
    "        aux=\"\"\n",
    "    return aux"
   ]
  },
  {
   "cell_type": "code",
   "execution_count": null,
   "metadata": {
    "ExecuteTime": {
     "start_time": "2021-01-27T19:10:42.071Z"
    },
    "scrolled": true
   },
   "outputs": [],
   "source": [
    "df[\"t_texto_eng\"]=df[\"t_texto_clean\"].map(eng_to_spa)"
   ]
  },
  {
   "cell_type": "code",
   "execution_count": null,
   "metadata": {
    "ExecuteTime": {
     "start_time": "2021-01-27T19:10:42.074Z"
    },
    "scrolled": true
   },
   "outputs": [],
   "source": [
    "df[df[\"t_texto_eng\"]!=\"\"].shape"
   ]
  },
  {
   "cell_type": "code",
   "execution_count": null,
   "metadata": {
    "ExecuteTime": {
     "start_time": "2021-01-27T19:10:42.080Z"
    }
   },
   "outputs": [],
   "source": [
    "df[df[\"t_texto_eng\"]==\"\"].shape"
   ]
  },
  {
   "cell_type": "code",
   "execution_count": null,
   "metadata": {
    "ExecuteTime": {
     "start_time": "2021-01-27T19:10:42.194Z"
    }
   },
   "outputs": [],
   "source": [
    "df[\"c_polarity\"]=df[\"t_texto_eng\"].map(lambda x: TextBlob(x).sentiment.polarity)"
   ]
  },
  {
   "cell_type": "code",
   "execution_count": null,
   "metadata": {
    "ExecuteTime": {
     "start_time": "2021-01-27T19:10:42.199Z"
    },
    "scrolled": true
   },
   "outputs": [],
   "source": [
    "df"
   ]
  },
  {
   "cell_type": "markdown",
   "metadata": {},
   "source": [
    "<h1 style=\"color:orange;\" > c) Reconocimiento de entidad</h1>"
   ]
  },
  {
   "cell_type": "code",
   "execution_count": null,
   "metadata": {
    "ExecuteTime": {
     "start_time": "2021-01-27T19:10:42.341Z"
    }
   },
   "outputs": [],
   "source": [
    "import spacy\n",
    "ner = spacy.load('en_core_web_sm')\n",
    "from collections import Counter"
   ]
  },
  {
   "cell_type": "code",
   "execution_count": null,
   "metadata": {
    "ExecuteTime": {
     "start_time": "2021-01-27T19:10:42.344Z"
    },
    "scrolled": true
   },
   "outputs": [],
   "source": [
    "df[\"docs\"]=df[\"t_texto_eng\"].map(lambda txt:ner(txt))\n",
    "\n",
    "df[\"1\"]=df[\"docs\"].map(lambda x:Counter([y.label_ for y in x.ents]))\n",
    "#Counter nos ayudará a generar un diccionario, donde los valores son las precuencias con la que \n",
    "#aparece la palabra\n",
    "\n",
    "df['1'].apply(pd.Series).fillna(0)\n",
    "#utilizamos apply y series para generar columnas a partir de los valores de los diccionarios\n",
    "\n",
    "df=pd.concat([df,df['1'].apply(pd.Series).fillna(0)],axis=1)\n",
    "#añadimos las columnas creadas a la tabla que contiene el resto de la información"
   ]
  },
  {
   "cell_type": "code",
   "execution_count": null,
   "metadata": {
    "ExecuteTime": {
     "start_time": "2021-01-27T19:10:42.348Z"
    },
    "scrolled": true
   },
   "outputs": [],
   "source": [
    "df.drop(columns=[\"docs\",\"1\"],inplace=True)"
   ]
  },
  {
   "cell_type": "code",
   "execution_count": null,
   "metadata": {
    "ExecuteTime": {
     "start_time": "2021-01-27T19:10:42.350Z"
    },
    "scrolled": true
   },
   "outputs": [],
   "source": [
    "df=df.rename(columns={\"PERSON\":\"c_person\",\"DATE\":\"c_date\",\"NORP\":\"c_norp\",\"ORG\":\"c_org\",\"TIME\":\"c_time\",\"CARDINAL\":\"c_cardinal\"})"
   ]
  },
  {
   "cell_type": "code",
   "execution_count": null,
   "metadata": {
    "ExecuteTime": {
     "start_time": "2021-01-27T19:10:42.357Z"
    }
   },
   "outputs": [],
   "source": [
    "df.head()"
   ]
  },
  {
   "cell_type": "markdown",
   "metadata": {
    "ExecuteTime": {
     "end_time": "2021-01-27T18:05:50.681729Z",
     "start_time": "2021-01-27T18:05:50.677869Z"
    }
   },
   "source": [
    "<h1 style=\"color:orange;\" > c) TFIDFVectorizer</h1>"
   ]
  },
  {
   "cell_type": "code",
   "execution_count": null,
   "metadata": {
    "ExecuteTime": {
     "start_time": "2021-01-27T19:10:42.475Z"
    }
   },
   "outputs": [],
   "source": [
    "#Generamos en conjunto de entrenamiento y el de prueba\n",
    "from sklearn.model_selection import train_test_split\n",
    "X_train,X_test=train_test_split(df, test_size=0.25, random_state=413)"
   ]
  },
  {
   "cell_type": "code",
   "execution_count": null,
   "metadata": {
    "ExecuteTime": {
     "start_time": "2021-01-27T19:10:42.478Z"
    },
    "scrolled": true
   },
   "outputs": [],
   "source": [
    "X_train.shape"
   ]
  },
  {
   "cell_type": "code",
   "execution_count": null,
   "metadata": {
    "ExecuteTime": {
     "start_time": "2021-01-27T19:10:42.480Z"
    }
   },
   "outputs": [],
   "source": [
    "X_test.shape"
   ]
  },
  {
   "cell_type": "code",
   "execution_count": null,
   "metadata": {
    "ExecuteTime": {
     "start_time": "2021-01-27T19:10:42.483Z"
    }
   },
   "outputs": [],
   "source": [
    "from sklearn.feature_extraction.text import TfidfVectorizer\n",
    "vect = TfidfVectorizer(max_df=.3,min_df=0.01)#Seleccionamos solo aquellas palabras que aparecen un mínimo del 1%\n",
    "# y algunas más con una presencia de a lo más un 30%\n",
    "vect.fit(X_train[\"t_texto_clean\"])\n",
    "array_train = vect.transform(X_train[\"t_texto_clean\"])#Se transforman los datos de train para obtener el conteo por palabra\n",
    "array_test = vect.transform(X_test[\"t_texto_clean\"])#Se aplica lo mismo para test"
   ]
  },
  {
   "cell_type": "markdown",
   "metadata": {},
   "source": [
    "**También se puede hacer con el texto derivado pero algunas de las palabras no son interpretables**\n"
   ]
  },
  {
   "cell_type": "code",
   "execution_count": null,
   "metadata": {
    "ExecuteTime": {
     "start_time": "2021-01-27T19:10:42.593Z"
    }
   },
   "outputs": [],
   "source": [
    "#vect = TfidfVectorizer(max_df=.3,min_df=0.01)\n",
    "#vect.fit(X_train[\"t_texto\"].map(lambda x:\" \".join(x)))\n",
    "#array_train = vect.transform(X_train[\"t_texto\"].map(lambda x:\" \".join(x)))#Se transforman los datos de train para obtener el conteo por palabra\n",
    "#array_test = vect.transform(X_test[\"t_texto\"].map(lambda x:\" \".join(x)))#Se aplica lo mismo para test"
   ]
  },
  {
   "cell_type": "code",
   "execution_count": null,
   "metadata": {
    "ExecuteTime": {
     "start_time": "2021-01-27T19:10:42.596Z"
    }
   },
   "outputs": [],
   "source": [
    "aux_train=pd.DataFrame(array_train.toarray(),columns=vect.get_feature_names())\n",
    "aux_test=pd.DataFrame(array_test.toarray(),columns=vect.get_feature_names())"
   ]
  },
  {
   "cell_type": "code",
   "execution_count": null,
   "metadata": {
    "ExecuteTime": {
     "start_time": "2021-01-27T19:10:42.599Z"
    },
    "scrolled": true
   },
   "outputs": [],
   "source": [
    "aux_test.shape"
   ]
  },
  {
   "cell_type": "code",
   "execution_count": null,
   "metadata": {
    "ExecuteTime": {
     "start_time": "2021-01-27T19:10:42.601Z"
    }
   },
   "outputs": [],
   "source": [
    "aux_train.shape"
   ]
  },
  {
   "cell_type": "code",
   "execution_count": null,
   "metadata": {
    "ExecuteTime": {
     "start_time": "2021-01-27T19:10:42.609Z"
    }
   },
   "outputs": [],
   "source": [
    "#Añadimos las nuevas columnas al dataset train \n",
    "X_train=pd.concat([X_train.reset_index(drop=True),aux_train],axis=1)\n",
    "#Agregamos el reset index ya que concat e basa en los indices para añadir nueva información \n",
    "#Añadimos las nuevas columnas al dataset test \n",
    "X_test=pd.concat([X_test.reset_index(drop=True),aux_test],axis=1)\n",
    "X_train.head()"
   ]
  },
  {
   "cell_type": "markdown",
   "metadata": {
    "ExecuteTime": {
     "end_time": "2021-01-27T18:35:31.117462Z",
     "start_time": "2021-01-27T18:35:31.112411Z"
    }
   },
   "source": [
    "**Verificamos que el cruce no nos genere nulos**"
   ]
  },
  {
   "cell_type": "code",
   "execution_count": null,
   "metadata": {
    "ExecuteTime": {
     "start_time": "2021-01-27T19:10:42.729Z"
    },
    "scrolled": true
   },
   "outputs": [],
   "source": [
    "X_train.isnull().sum()"
   ]
  },
  {
   "cell_type": "code",
   "execution_count": null,
   "metadata": {
    "ExecuteTime": {
     "start_time": "2021-01-27T19:10:42.732Z"
    },
    "scrolled": true
   },
   "outputs": [],
   "source": [
    "X_test.isnull().sum()"
   ]
  },
  {
   "cell_type": "code",
   "execution_count": null,
   "metadata": {
    "ExecuteTime": {
     "start_time": "2021-01-27T19:10:42.736Z"
    },
    "scrolled": true
   },
   "outputs": [],
   "source": [
    "X_train.head()"
   ]
  },
  {
   "cell_type": "code",
   "execution_count": null,
   "metadata": {
    "ExecuteTime": {
     "start_time": "2021-01-27T19:10:42.740Z"
    },
    "scrolled": true
   },
   "outputs": [],
   "source": [
    "X_test.head()"
   ]
  },
  {
   "cell_type": "code",
   "execution_count": null,
   "metadata": {
    "ExecuteTime": {
     "start_time": "2021-01-27T19:10:42.743Z"
    }
   },
   "outputs": [],
   "source": [
    "X_test[X_test[\"t_texto_clean\"]==\"\"]"
   ]
  },
  {
   "cell_type": "code",
   "execution_count": null,
   "metadata": {
    "ExecuteTime": {
     "start_time": "2021-01-27T19:10:42.746Z"
    }
   },
   "outputs": [],
   "source": [
    "X_train[X_train[\"t_texto_clean\"]==\"\"]"
   ]
  },
  {
   "cell_type": "markdown",
   "metadata": {},
   "source": [
    "### <h1 style=\"color:green\"> Parte 2 </h1>"
   ]
  },
  {
   "cell_type": "code",
   "execution_count": null,
   "metadata": {
    "ExecuteTime": {
     "start_time": "2021-01-27T19:10:42.851Z"
    }
   },
   "outputs": [],
   "source": [
    "df = pd.read_csv(\"BOLSAA.MX.csv\")"
   ]
  },
  {
   "cell_type": "markdown",
   "metadata": {},
   "source": [
    "<h1 style=\"color:blue;\" > a)</h1>"
   ]
  },
  {
   "cell_type": "code",
   "execution_count": null,
   "metadata": {
    "ExecuteTime": {
     "start_time": "2021-01-27T19:10:42.970Z"
    }
   },
   "outputs": [],
   "source": [
    "c_feats = ['Open','High','Low','Close','Adj Close','Volume']\n",
    "c_feats_new= [\"c_\" + x for x in c_feats]\n",
    "df.rename(columns = dict(zip(c_feats,c_feats_new)), inplace=True)\n",
    "df.rename(columns = {'date':'d_Date'}, inplace=True)"
   ]
  },
  {
   "cell_type": "code",
   "execution_count": null,
   "metadata": {
    "ExecuteTime": {
     "start_time": "2021-01-27T19:10:42.973Z"
    }
   },
   "outputs": [],
   "source": [
    "df.head()"
   ]
  },
  {
   "cell_type": "markdown",
   "metadata": {},
   "source": [
    "<h1 style=\"color:blue;\" > b)</h1>"
   ]
  },
  {
   "cell_type": "markdown",
   "metadata": {},
   "source": [
    "**Verificamos duplicados**"
   ]
  },
  {
   "cell_type": "code",
   "execution_count": null,
   "metadata": {
    "ExecuteTime": {
     "start_time": "2021-01-27T19:10:43.183Z"
    }
   },
   "outputs": [],
   "source": [
    "df.duplicated().sum()"
   ]
  },
  {
   "cell_type": "code",
   "execution_count": null,
   "metadata": {
    "ExecuteTime": {
     "start_time": "2021-01-27T19:10:43.186Z"
    }
   },
   "outputs": [],
   "source": [
    "df.duplicated(subset=[\"d_Date\"]).sum()"
   ]
  },
  {
   "cell_type": "markdown",
   "metadata": {},
   "source": [
    "**Verificamos completitud**"
   ]
  },
  {
   "cell_type": "code",
   "execution_count": null,
   "metadata": {
    "ExecuteTime": {
     "start_time": "2021-01-27T19:10:43.289Z"
    }
   },
   "outputs": [],
   "source": [
    "completitud(df)"
   ]
  },
  {
   "cell_type": "markdown",
   "metadata": {},
   "source": [
    "**Verificamos tipo de dato**"
   ]
  },
  {
   "cell_type": "code",
   "execution_count": null,
   "metadata": {
    "ExecuteTime": {
     "start_time": "2021-01-27T19:10:43.399Z"
    }
   },
   "outputs": [],
   "source": [
    "df.dtypes"
   ]
  },
  {
   "cell_type": "code",
   "execution_count": null,
   "metadata": {
    "ExecuteTime": {
     "start_time": "2021-01-27T19:10:43.402Z"
    }
   },
   "outputs": [],
   "source": [
    "df[\"d_Date\"]=pd.to_datetime(df[\"d_Date\"])"
   ]
  },
  {
   "cell_type": "code",
   "execution_count": null,
   "metadata": {
    "ExecuteTime": {
     "start_time": "2021-01-27T19:10:43.405Z"
    }
   },
   "outputs": [],
   "source": [
    "df.describe(percentiles=np.arange(0.1,1.1,.1))"
   ]
  },
  {
   "cell_type": "markdown",
   "metadata": {
    "ExecuteTime": {
     "end_time": "2021-01-27T18:46:04.429169Z",
     "start_time": "2021-01-27T18:46:04.401508Z"
    }
   },
   "source": [
    "**Eliminamos aquellos registros donde no se tuvo movimiento, es decir , cuando el volumen de las acciones es cero**\n"
   ]
  },
  {
   "cell_type": "code",
   "execution_count": null,
   "metadata": {
    "ExecuteTime": {
     "start_time": "2021-01-27T19:10:43.503Z"
    }
   },
   "outputs": [],
   "source": [
    "df=df[df[\"c_Volume\"]>0].reset_index(drop=True)"
   ]
  },
  {
   "cell_type": "code",
   "execution_count": null,
   "metadata": {
    "ExecuteTime": {
     "start_time": "2021-01-27T19:10:43.505Z"
    }
   },
   "outputs": [],
   "source": [
    "df.shape"
   ]
  },
  {
   "cell_type": "code",
   "execution_count": null,
   "metadata": {
    "ExecuteTime": {
     "start_time": "2021-01-27T19:10:43.509Z"
    }
   },
   "outputs": [],
   "source": [
    "df"
   ]
  },
  {
   "cell_type": "markdown",
   "metadata": {},
   "source": [
    "**Verificamos que la información no sea de fechas que aún no suceden**"
   ]
  },
  {
   "cell_type": "code",
   "execution_count": null,
   "metadata": {
    "ExecuteTime": {
     "start_time": "2021-01-27T19:10:43.608Z"
    }
   },
   "outputs": [],
   "source": [
    "df[\"d_Date\"].min()"
   ]
  },
  {
   "cell_type": "code",
   "execution_count": null,
   "metadata": {
    "ExecuteTime": {
     "start_time": "2021-01-27T19:10:43.611Z"
    }
   },
   "outputs": [],
   "source": [
    "df[\"d_Date\"].max()"
   ]
  },
  {
   "cell_type": "markdown",
   "metadata": {},
   "source": [
    "<h1 style=\"color:blue;\" > c)</h1>"
   ]
  },
  {
   "cell_type": "code",
   "execution_count": null,
   "metadata": {
    "ExecuteTime": {
     "start_time": "2021-01-27T19:10:43.711Z"
    }
   },
   "outputs": [],
   "source": [
    "df=df.sort_values(by=[\"d_Date\"])\n",
    "df.reset_index(drop=True,inplace=True)\n",
    "df.head()"
   ]
  },
  {
   "cell_type": "markdown",
   "metadata": {},
   "source": [
    "<h1 style=\"color:blue;\" > d)</h1>"
   ]
  },
  {
   "cell_type": "markdown",
   "metadata": {},
   "source": [
    "**Los registros se toman una vez al día**"
   ]
  },
  {
   "cell_type": "code",
   "execution_count": null,
   "metadata": {
    "ExecuteTime": {
     "start_time": "2021-01-27T19:10:43.911Z"
    }
   },
   "outputs": [],
   "source": [
    "df[\"d_Date\"].diff().mean()"
   ]
  },
  {
   "cell_type": "markdown",
   "metadata": {},
   "source": [
    "<h1 style=\"color:blue;\" > e)</h1>"
   ]
  },
  {
   "cell_type": "code",
   "execution_count": null,
   "metadata": {
    "ExecuteTime": {
     "start_time": "2021-01-27T19:10:44.011Z"
    }
   },
   "outputs": [],
   "source": [
    "df_ori=df.copy()"
   ]
  },
  {
   "cell_type": "code",
   "execution_count": null,
   "metadata": {
    "ExecuteTime": {
     "start_time": "2021-01-27T19:10:44.014Z"
    }
   },
   "outputs": [],
   "source": [
    "df_ori.rename(columns={\"c_Close\":\"tgt\"},inplace=True)"
   ]
  },
  {
   "cell_type": "code",
   "execution_count": null,
   "metadata": {
    "ExecuteTime": {
     "start_time": "2021-01-27T19:10:44.018Z"
    }
   },
   "outputs": [],
   "source": [
    "#Realizamos el desfase de tal forma que las características permanezcan igual , sin embargo el valor a cierre \n",
    "#corresponde a dos días posteriores, es decir, con la información de hot intentó predecir el valor de cierre que tendrá\n",
    "#el dos días\n",
    "\n",
    "df_ori[\"tgt\"].shift(-2)"
   ]
  },
  {
   "cell_type": "code",
   "execution_count": null,
   "metadata": {
    "ExecuteTime": {
     "start_time": "2021-01-27T19:10:44.021Z"
    }
   },
   "outputs": [],
   "source": [
    "df_ori[\"tgt\"]=df_ori[\"tgt\"].shift(-2)"
   ]
  },
  {
   "cell_type": "code",
   "execution_count": null,
   "metadata": {
    "ExecuteTime": {
     "start_time": "2021-01-27T19:10:44.024Z"
    }
   },
   "outputs": [],
   "source": [
    "df_ori[\"c_diff_max_min\"]=df_ori[\"c_High\"]-df_ori[\"c_Low\"]"
   ]
  },
  {
   "cell_type": "markdown",
   "metadata": {},
   "source": [
    "**Las variables pct_cie_ape y ratio no se pueden realizar ya que necesitamos conocer el precio de cierre\n",
    "que tendrá dentro de dos días para poder añadir esta variable, la única forma de añadir esta información\n",
    "es si se realiza un desfase de tgt pero de días anteriores , de esa forma son valores que conocemos y podemos \n",
    "realizar ingeniería sobre ellos, por otro lado estas variables están altamente correlacionadas con la tgt\n",
    "por esa razón no se construyen**"
   ]
  },
  {
   "cell_type": "code",
   "execution_count": null,
   "metadata": {
    "ExecuteTime": {
     "start_time": "2021-01-27T19:10:44.117Z"
    }
   },
   "outputs": [],
   "source": [
    "for col in ['c_Open', 'c_High', 'c_Low', 'c_Volume']:\n",
    "    for i in range(3):\n",
    "        df_ori[f\"{col}_diff_{i+1}\"] = df_ori[f\"{col}\"].diff(i+1)\n",
    "        df_ori[f\"{col}_win_{i+1}\"] = df_ori[f\"{col}\"].rolling(i+2).mean()\n",
    "        df_ori[f\"{col}_pct_{i+1}\"] = df_ori[f\"{col}\"].pct_change(i+1)\n",
    "        df_ori[f\"{col}_2\"] = df_ori[f\"{col}\"].map(lambda x: x*x)"
   ]
  },
  {
   "cell_type": "code",
   "execution_count": null,
   "metadata": {
    "ExecuteTime": {
     "start_time": "2021-01-27T19:10:44.123Z"
    }
   },
   "outputs": [],
   "source": [
    "df_ori.head()"
   ]
  },
  {
   "cell_type": "markdown",
   "metadata": {
    "ExecuteTime": {
     "end_time": "2021-01-27T19:00:40.384215Z",
     "start_time": "2021-01-27T19:00:40.378744Z"
    }
   },
   "source": [
    "**Eliminados los NaN**"
   ]
  },
  {
   "cell_type": "code",
   "execution_count": null,
   "metadata": {
    "ExecuteTime": {
     "start_time": "2021-01-27T19:10:44.220Z"
    }
   },
   "outputs": [],
   "source": [
    "df_ori=df_ori.dropna().reset_index(drop=True)"
   ]
  },
  {
   "cell_type": "markdown",
   "metadata": {},
   "source": [
    "<h1 style=\"color:blue;\" > f)</h1>"
   ]
  },
  {
   "cell_type": "code",
   "execution_count": null,
   "metadata": {
    "ExecuteTime": {
     "start_time": "2021-01-27T19:10:44.315Z"
    }
   },
   "outputs": [],
   "source": [
    "def minPctChange(x):\n",
    "    return x.pct_change().replace([np.inf, -np.inf], np.nan).min()\n",
    "def maxPctChange(x):\n",
    "    return x.pct_change().replace([np.inf, -np.inf], np.nan).max()\n",
    "def meanPctChange(x):\n",
    "    return x.pct_change().replace([np.inf, -np.inf], np.nan).mean()\n",
    "def stdPctChange(x):\n",
    "    return x.pct_change().replace([np.inf, -np.inf], np.nan).std()\n",
    "def sumPctChange(x):\n",
    "    return x.pct_change().replace([np.inf, -np.inf], np.nan).sum()\n",
    "def minChange(x):\n",
    "    return x.diff().replace([np.inf, -np.inf], np.nan).min()\n",
    "def maxChange(x):\n",
    "    return x.diff().replace([np.inf, -np.inf], np.nan).max()\n",
    "def meanChange(x):\n",
    "    return x.diff().replace([np.inf, -np.inf], np.nan).mean()\n",
    "def stdChange(x):\n",
    "    return x.diff().replace([np.inf, -np.inf], np.nan).std()\n",
    "def sumChange(x):\n",
    "    return x.diff().replace([np.inf, -np.inf], np.nan).sum()"
   ]
  },
  {
   "cell_type": "code",
   "execution_count": null,
   "metadata": {
    "ExecuteTime": {
     "start_time": "2021-01-27T19:10:44.318Z"
    }
   },
   "outputs": [],
   "source": [
    "df_3_days=df.copy()"
   ]
  },
  {
   "cell_type": "code",
   "execution_count": null,
   "metadata": {
    "ExecuteTime": {
     "start_time": "2021-01-27T19:10:44.320Z"
    }
   },
   "outputs": [],
   "source": [
    "\n",
    "#Separamos características de la target\n",
    "X=df_3_days[[x for x in df_3_days if x!=\"c_Close\"]]\n",
    "y=df_3_days[[\"c_Close\",\"d_Date\"]].rename(columns={\"c_Close\":\"tgt\"})"
   ]
  },
  {
   "cell_type": "markdown",
   "metadata": {},
   "source": [
    "**Realizamos el agrupado de ambos dataframes**"
   ]
  },
  {
   "cell_type": "code",
   "execution_count": null,
   "metadata": {
    "ExecuteTime": {
     "start_time": "2021-01-27T19:10:44.414Z"
    }
   },
   "outputs": [],
   "source": [
    "y=y.resample(\"3D\",on=\"d_Date\").mean()"
   ]
  },
  {
   "cell_type": "code",
   "execution_count": null,
   "metadata": {
    "ExecuteTime": {
     "start_time": "2021-01-27T19:10:44.416Z"
    }
   },
   "outputs": [],
   "source": [
    "X=X.resample(\"3D\",on=\"d_Date\").agg([\"min\", \"max\", \"mean\", \"sum\", \"std\", \"median\",sumChange,minPctChange,maxChange])"
   ]
  },
  {
   "cell_type": "markdown",
   "metadata": {},
   "source": [
    "**Renombramos columnas en X**"
   ]
  },
  {
   "cell_type": "code",
   "execution_count": null,
   "metadata": {
    "ExecuteTime": {
     "start_time": "2021-01-27T19:10:44.505Z"
    }
   },
   "outputs": [],
   "source": [
    "X.shape"
   ]
  },
  {
   "cell_type": "code",
   "execution_count": null,
   "metadata": {
    "ExecuteTime": {
     "start_time": "2021-01-27T19:10:44.509Z"
    }
   },
   "outputs": [],
   "source": [
    "X.columns = [ name+\"|\"+func for name, func in X.columns]\n",
    "X.head()"
   ]
  },
  {
   "cell_type": "markdown",
   "metadata": {},
   "source": [
    "**Desfase de y**"
   ]
  },
  {
   "cell_type": "code",
   "execution_count": null,
   "metadata": {
    "ExecuteTime": {
     "start_time": "2021-01-27T19:10:44.603Z"
    }
   },
   "outputs": [],
   "source": [
    "y=y.shift(-2)#Desfase de dos periodos de tres días posteriores"
   ]
  },
  {
   "cell_type": "markdown",
   "metadata": {},
   "source": [
    "**Unimos X y y**"
   ]
  },
  {
   "cell_type": "code",
   "execution_count": null,
   "metadata": {
    "ExecuteTime": {
     "start_time": "2021-01-27T19:10:44.690Z"
    }
   },
   "outputs": [],
   "source": [
    "df_3_days=pd.concat([X,y],axis=1)"
   ]
  },
  {
   "cell_type": "markdown",
   "metadata": {},
   "source": [
    "**Eliminamos nulos en la target**"
   ]
  },
  {
   "cell_type": "code",
   "execution_count": null,
   "metadata": {
    "ExecuteTime": {
     "start_time": "2021-01-27T19:10:44.777Z"
    }
   },
   "outputs": [],
   "source": [
    "df_3_days.isnull().sum()"
   ]
  },
  {
   "cell_type": "code",
   "execution_count": null,
   "metadata": {
    "ExecuteTime": {
     "start_time": "2021-01-27T19:10:44.779Z"
    }
   },
   "outputs": [],
   "source": [
    "df_3_days=df_3_days.dropna(subset=[\"tgt\"])"
   ]
  },
  {
   "cell_type": "markdown",
   "metadata": {},
   "source": [
    "**El resto de nulos en pasos posteriores son propensos a imputación**"
   ]
  },
  {
   "cell_type": "code",
   "execution_count": null,
   "metadata": {},
   "outputs": [],
   "source": []
  },
  {
   "cell_type": "code",
   "execution_count": null,
   "metadata": {},
   "outputs": [],
   "source": []
  }
 ],
 "metadata": {
  "kernelspec": {
   "display_name": "diplomado",
   "language": "python",
   "name": "diplomado"
  },
  "language_info": {
   "codemirror_mode": {
    "name": "ipython",
    "version": 3
   },
   "file_extension": ".py",
   "mimetype": "text/x-python",
   "name": "python",
   "nbconvert_exporter": "python",
   "pygments_lexer": "ipython3",
   "version": "3.6.9"
  }
 },
 "nbformat": 4,
 "nbformat_minor": 2
}
