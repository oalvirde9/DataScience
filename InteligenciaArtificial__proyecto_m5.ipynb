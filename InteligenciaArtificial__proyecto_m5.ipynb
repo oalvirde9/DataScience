{
 "cells": [
  {
   "cell_type": "markdown",
   "id": "aec40ac7",
   "metadata": {
    "id": "aec40ac7"
   },
   "source": [
    "# Telefonos"
   ]
  },
  {
   "cell_type": "markdown",
   "id": "crazy-agency",
   "metadata": {},
   "source": [
    "#BENJAMIN OSVALDO ALVIRDE MELENDEZ"
   ]
  },
  {
   "cell_type": "markdown",
   "id": "838b0c2d",
   "metadata": {
    "id": "838b0c2d"
   },
   "source": [
    "## Preparación de ambiente"
   ]
  },
  {
   "cell_type": "markdown",
   "id": "057d13ce",
   "metadata": {
    "heading_collapsed": true,
    "id": "057d13ce"
   },
   "source": [
    "### Carga de módulos"
   ]
  },
  {
   "cell_type": "code",
   "execution_count": 1,
   "id": "782c9a79",
   "metadata": {
    "ExecuteTime": {
     "end_time": "2021-08-07T05:22:59.924334Z",
     "start_time": "2021-08-07T05:22:57.633165Z"
    },
    "hidden": true,
    "id": "782c9a79",
    "outputId": "2be8b5c0-4f05-4788-f8de-23d41685cf34"
   },
   "outputs": [
    {
     "data": {
      "text/html": [
       "        <script type=\"text/javascript\">\n",
       "        window.PlotlyConfig = {MathJaxConfig: 'local'};\n",
       "        if (window.MathJax) {MathJax.Hub.Config({SVG: {font: \"STIX-Web\"}});}\n",
       "        if (typeof require !== 'undefined') {\n",
       "        require.undef(\"plotly\");\n",
       "        requirejs.config({\n",
       "            paths: {\n",
       "                'plotly': ['https://cdn.plot.ly/plotly-2.2.0.min']\n",
       "            }\n",
       "        });\n",
       "        require(['plotly'], function(Plotly) {\n",
       "            window._Plotly = Plotly;\n",
       "        });\n",
       "        }\n",
       "        </script>\n",
       "        "
      ]
     },
     "metadata": {},
     "output_type": "display_data"
    }
   ],
   "source": [
    "# Data Wrangling\n",
    "import os\n",
    "import numpy as np\n",
    "import pandas as pd\n",
    "from keras.preprocessing.image import ImageDataGenerator, load_img, img_to_array\n",
    "\n",
    "# Modeling\n",
    "import tensorflow as tf\n",
    "from tensorflow.keras.optimizers import Adam\n",
    "from keras.models import Sequential\n",
    "from keras.layers import Conv2D, MaxPooling2D, Dropout, Flatten, Dense\n",
    "\n",
    "# Data Visualization\n",
    "import cufflinks as cf\n",
    "import matplotlib.pyplot as plt\n",
    "import matplotlib.image as mpimg\n",
    "\n",
    "# Configuración del notebook\n",
    "cf.go_offline()"
   ]
  },
  {
   "cell_type": "markdown",
   "id": "46c07d8f",
   "metadata": {
    "heading_collapsed": true,
    "id": "46c07d8f"
   },
   "source": [
    "### Preparación de carpetas"
   ]
  },
  {
   "cell_type": "code",
   "execution_count": 2,
   "id": "17be3c00",
   "metadata": {
    "ExecuteTime": {
     "end_time": "2021-08-07T05:22:59.928456Z",
     "start_time": "2021-08-07T05:22:59.925999Z"
    },
    "hidden": true,
    "id": "17be3c00"
   },
   "outputs": [],
   "source": [
    "if not os.path.exists(\"./models/\"):\n",
    "    os.mkdir(\"./models/\")"
   ]
  },
  {
   "cell_type": "markdown",
   "id": "bd3ad625",
   "metadata": {
    "heading_collapsed": true,
    "id": "bd3ad625"
   },
   "source": [
    "### Validación de hardware"
   ]
  },
  {
   "cell_type": "code",
   "execution_count": 3,
   "id": "cad34c4e",
   "metadata": {
    "ExecuteTime": {
     "end_time": "2021-08-07T05:23:00.041010Z",
     "start_time": "2021-08-07T05:22:59.930571Z"
    },
    "hidden": true,
    "id": "cad34c4e",
    "outputId": "4dc5b76e-d5b0-4d99-d439-b9fc929ff6e0"
   },
   "outputs": [
    {
     "name": "stdout",
     "output_type": "stream",
     "text": [
      "Tensorflow version: 2.5.0\n",
      "Is using GPU? []\n"
     ]
    }
   ],
   "source": [
    "print('Tensorflow version:', tf.__version__)\n",
    "print('Is using GPU?', tf.config.list_physical_devices(\"GPU\"))"
   ]
  },
  {
   "cell_type": "markdown",
   "id": "49b9ca68",
   "metadata": {
    "id": "49b9ca68"
   },
   "source": [
    "## Data Wrnagling"
   ]
  },
  {
   "cell_type": "markdown",
   "id": "062fc88f",
   "metadata": {
    "heading_collapsed": true,
    "id": "062fc88f"
   },
   "source": [
    "### Establecimiento de rutas"
   ]
  },
  {
   "cell_type": "code",
   "execution_count": 4,
   "id": "0eab3f6d",
   "metadata": {
    "ExecuteTime": {
     "end_time": "2021-08-07T05:23:00.761645Z",
     "start_time": "2021-08-07T05:23:00.751722Z"
    },
    "hidden": true,
    "id": "0eab3f6d"
   },
   "outputs": [],
   "source": [
    "main_dir = \"/home/balvirde/diplomado\""
   ]
  },
  {
   "cell_type": "code",
   "execution_count": 5,
   "id": "1bd8f5d6",
   "metadata": {
    "ExecuteTime": {
     "end_time": "2021-08-07T05:23:01.615406Z",
     "start_time": "2021-08-07T05:23:00.765795Z"
    },
    "hidden": true,
    "id": "1bd8f5d6"
   },
   "outputs": [],
   "source": [
    "train_dir = os.path.join(main_dir, 'train')"
   ]
  },
  {
   "cell_type": "code",
   "execution_count": 6,
   "id": "0ed530f7",
   "metadata": {
    "ExecuteTime": {
     "end_time": "2021-08-07T05:23:01.683168Z",
     "start_time": "2021-08-07T05:23:01.621016Z"
    },
    "hidden": true,
    "id": "0ed530f7"
   },
   "outputs": [],
   "source": [
    "test_dir = os.path.join(main_dir, 'test')"
   ]
  },
  {
   "cell_type": "markdown",
   "id": "485c5a2f",
   "metadata": {
    "hidden": true,
    "id": "485c5a2f"
   },
   "source": [
    "#### Carpetas de entrenamiento"
   ]
  },
  {
   "cell_type": "code",
   "execution_count": 7,
   "id": "19e439f7",
   "metadata": {
    "ExecuteTime": {
     "end_time": "2021-08-07T05:23:01.784884Z",
     "start_time": "2021-08-07T05:23:01.691215Z"
    },
    "hidden": true,
    "id": "19e439f7"
   },
   "outputs": [],
   "source": [
    "train_Serviciable_dir = os.path.join(train_dir, 'No_Serviciable')\n",
    "train_No_Serviciable_dir = os.path.join(train_dir, 'Serviciable')"
   ]
  },
  {
   "cell_type": "markdown",
   "id": "f4c810ea",
   "metadata": {
    "hidden": true,
    "id": "f4c810ea"
   },
   "source": [
    "#### Carpetas de validación"
   ]
  },
  {
   "cell_type": "code",
   "execution_count": 8,
   "id": "a0b7c9e3",
   "metadata": {
    "ExecuteTime": {
     "end_time": "2021-08-07T05:23:01.851023Z",
     "start_time": "2021-08-07T05:23:01.791753Z"
    },
    "hidden": true,
    "id": "a0b7c9e3"
   },
   "outputs": [],
   "source": [
    "test_Serviciable_dir = os.path.join(test_dir, 'No_Serviciable')\n",
    "test_No_Serviciable_dir = os.path.join(test_dir, 'Serviciable')"
   ]
  },
  {
   "cell_type": "code",
   "execution_count": 9,
   "id": "medium-semiconductor",
   "metadata": {},
   "outputs": [],
   "source": [
    "### Tamaño de los conjuntos de datos"
   ]
  },
  {
   "cell_type": "code",
   "execution_count": 10,
   "id": "czech-return",
   "metadata": {},
   "outputs": [],
   "source": [
    "train_Serviciable_names = os.listdir(train_Serviciable_dir)"
   ]
  },
  {
   "cell_type": "code",
   "execution_count": 11,
   "id": "historic-jefferson",
   "metadata": {},
   "outputs": [
    {
     "data": {
      "text/plain": [
       "27"
      ]
     },
     "execution_count": 11,
     "metadata": {},
     "output_type": "execute_result"
    }
   ],
   "source": [
    "len(train_Serviciable_names)"
   ]
  },
  {
   "cell_type": "code",
   "execution_count": 12,
   "id": "negative-exposure",
   "metadata": {},
   "outputs": [],
   "source": [
    "train_No_Serviciable_names = os.listdir(train_No_Serviciable_dir)"
   ]
  },
  {
   "cell_type": "code",
   "execution_count": 13,
   "id": "laden-fluid",
   "metadata": {},
   "outputs": [
    {
     "data": {
      "text/plain": [
       "29"
      ]
     },
     "execution_count": 13,
     "metadata": {},
     "output_type": "execute_result"
    }
   ],
   "source": [
    "len(train_No_Serviciable_names)"
   ]
  },
  {
   "cell_type": "code",
   "execution_count": 14,
   "id": "increasing-button",
   "metadata": {},
   "outputs": [
    {
     "data": {
      "text/plain": [
       "(56, 0.48214285714285715)"
      ]
     },
     "execution_count": 14,
     "metadata": {},
     "output_type": "execute_result"
    }
   ],
   "source": [
    "len(train_Serviciable_names)+len(train_No_Serviciable_names), len(train_Serviciable_names) / (len(train_Serviciable_names)+len(train_No_Serviciable_names))"
   ]
  },
  {
   "cell_type": "code",
   "execution_count": 15,
   "id": "referenced-mailing",
   "metadata": {},
   "outputs": [],
   "source": [
    "test_Serviciable_names = os.listdir(test_Serviciable_dir)"
   ]
  },
  {
   "cell_type": "code",
   "execution_count": 16,
   "id": "liquid-compact",
   "metadata": {},
   "outputs": [
    {
     "data": {
      "text/plain": [
       "14"
      ]
     },
     "execution_count": 16,
     "metadata": {},
     "output_type": "execute_result"
    }
   ],
   "source": [
    "len(test_Serviciable_names)"
   ]
  },
  {
   "cell_type": "code",
   "execution_count": 17,
   "id": "documented-stroke",
   "metadata": {},
   "outputs": [],
   "source": [
    "test_No_Serviciable_names = os.listdir(test_No_Serviciable_dir)"
   ]
  },
  {
   "cell_type": "code",
   "execution_count": 18,
   "id": "standard-covering",
   "metadata": {},
   "outputs": [
    {
     "data": {
      "text/plain": [
       "11"
      ]
     },
     "execution_count": 18,
     "metadata": {},
     "output_type": "execute_result"
    }
   ],
   "source": [
    "len(test_No_Serviciable_names)"
   ]
  },
  {
   "cell_type": "markdown",
   "id": "fffee643",
   "metadata": {
    "id": "fffee643"
   },
   "source": [
    "### Data visualization"
   ]
  },
  {
   "cell_type": "code",
   "execution_count": 19,
   "id": "b3fefe91",
   "metadata": {
    "ExecuteTime": {
     "end_time": "2021-08-07T05:23:03.331674Z",
     "start_time": "2021-08-07T05:23:03.255713Z"
    },
    "id": "b3fefe91"
   },
   "outputs": [],
   "source": [
    "No_Serviciable_pic = [os.path.join(train_Serviciable_dir, filename) for filename in train_Serviciable_names[:8]]\n",
    "Serviciable_pic = [os.path.join(train_No_Serviciable_dir , filename) for filename in train_No_Serviciable_names[:8]]"
   ]
  },
  {
   "cell_type": "code",
   "execution_count": 20,
   "id": "f8a472bb",
   "metadata": {
    "ExecuteTime": {
     "end_time": "2021-08-07T05:23:03.421029Z",
     "start_time": "2021-08-07T05:23:03.336365Z"
    },
    "id": "f8a472bb"
   },
   "outputs": [],
   "source": [
    "full_pic = Serviciable_pic+No_Serviciable_pic "
   ]
  },
  {
   "cell_type": "code",
   "execution_count": 21,
   "id": "2d89d6a9",
   "metadata": {
    "ExecuteTime": {
     "end_time": "2021-08-07T05:23:08.313076Z",
     "start_time": "2021-08-07T05:23:03.426422Z"
    },
    "id": "2d89d6a9",
    "outputId": "907cbcee-0ff4-4ab5-ccb4-fc1013064726"
   },
   "outputs": [
    {
     "data": {
      "text/plain": [
       "<Figure size 1728x1728 with 0 Axes>"
      ]
     },
     "metadata": {},
     "output_type": "display_data"
    },
    {
     "data": {
      "image/png": "[encoded data removed]",
      "text/plain": [
       "<Figure size 960x800 with 16 Axes>"
      ]
     },
     "metadata": {
      "needs_background": "light"
     },
     "output_type": "display_data"
    }
   ],
   "source": [
    "ROWS = 4\n",
    "COLS = 4\n",
    "fig = plt.gcf()\n",
    "fig.set_size_inches(24, 24)\n",
    "plt.figure(figsize=(12, 10), dpi=80)\n",
    "for i, img_path in enumerate(full_pic):\n",
    "    data = img_path.split('/')[-1]\n",
    "    sp = plt.subplot(ROWS, COLS, i+1)\n",
    "    sp.axis('Off')\n",
    "    img = mpimg.imread(img_path)\n",
    "    sp.set_title(data, fontsize=6)\n",
    "    plt.imshow(img, cmap='gray')\n",
    "plt.show()"
   ]
  },
  {
   "cell_type": "markdown",
   "id": "c54a4c02",
   "metadata": {
    "heading_collapsed": true,
    "id": "c54a4c02"
   },
   "source": [
    "### Generadores"
   ]
  },
  {
   "cell_type": "code",
   "execution_count": 22,
   "id": "fd880844",
   "metadata": {
    "ExecuteTime": {
     "end_time": "2021-08-07T05:23:08.683237Z",
     "start_time": "2021-08-07T05:23:08.477764Z"
    },
    "hidden": true,
    "id": "fd880844"
   },
   "outputs": [],
   "source": [
    "dgen_train = ImageDataGenerator(rescale=1./255,\n",
    "                                validation_split=0.2,\n",
    "                                zoom_range=0.2,\n",
    "                                horizontal_flip=True)"
   ]
  },
  {
   "cell_type": "code",
   "execution_count": 23,
   "id": "5b68d1ef",
   "metadata": {
    "ExecuteTime": {
     "end_time": "2021-08-07T05:23:09.676862Z",
     "start_time": "2021-08-07T05:23:08.685208Z"
    },
    "hidden": true,
    "id": "5b68d1ef"
   },
   "outputs": [],
   "source": [
    "dgen_validation = ImageDataGenerator(rescale=1./255)"
   ]
  },
  {
   "cell_type": "code",
   "execution_count": 24,
   "id": "217eafa6",
   "metadata": {
    "ExecuteTime": {
     "end_time": "2021-08-07T05:23:10.823620Z",
     "start_time": "2021-08-07T05:23:09.679619Z"
    },
    "hidden": true,
    "id": "217eafa6"
   },
   "outputs": [],
   "source": [
    "dgen_test = ImageDataGenerator(rescale=1./255)"
   ]
  },
  {
   "cell_type": "code",
   "execution_count": 25,
   "id": "a007eadf",
   "metadata": {
    "ExecuteTime": {
     "end_time": "2021-08-07T05:23:10.902997Z",
     "start_time": "2021-08-07T05:23:10.825688Z"
    },
    "hidden": true,
    "id": "a007eadf"
   },
   "outputs": [],
   "source": [
    "TARGET_SIZE = (200, 200)\n",
    "BATCH_SIZE = 32\n",
    "CLASS_MODE = 'binary'"
   ]
  },
  {
   "cell_type": "code",
   "execution_count": 26,
   "id": "4e1f480c",
   "metadata": {
    "ExecuteTime": {
     "end_time": "2021-08-07T05:23:11.087961Z",
     "start_time": "2021-08-07T05:23:10.905293Z"
    },
    "hidden": true,
    "id": "4e1f480c",
    "outputId": "0363f352-7f3b-48b9-9b8f-ebe16b187aa9"
   },
   "outputs": [
    {
     "name": "stdout",
     "output_type": "stream",
     "text": [
      "Found 46 images belonging to 2 classes.\n"
     ]
    }
   ],
   "source": [
    "train_generator = dgen_train.flow_from_directory(train_dir,\n",
    "                                                 target_size=TARGET_SIZE,\n",
    "                                                 subset='training',\n",
    "                                                 batch_size=BATCH_SIZE,\n",
    "                                                 class_mode=CLASS_MODE)"
   ]
  },
  {
   "cell_type": "code",
   "execution_count": 27,
   "id": "fe24a875",
   "metadata": {
    "ExecuteTime": {
     "end_time": "2021-08-07T05:23:11.203009Z",
     "start_time": "2021-08-07T05:23:11.090679Z"
    },
    "hidden": true,
    "id": "fe24a875",
    "outputId": "80f47820-555e-42bc-ded4-7fcd79406387"
   },
   "outputs": [
    {
     "name": "stdout",
     "output_type": "stream",
     "text": [
      "Found 10 images belonging to 2 classes.\n"
     ]
    }
   ],
   "source": [
    "validation_generator = dgen_train.flow_from_directory(train_dir,\n",
    "                                                      target_size=TARGET_SIZE,\n",
    "                                                      subset='validation',\n",
    "                                                      batch_size=BATCH_SIZE,\n",
    "                                                      class_mode=CLASS_MODE)"
   ]
  },
  {
   "cell_type": "code",
   "execution_count": 28,
   "id": "8d2ab74d",
   "metadata": {
    "ExecuteTime": {
     "end_time": "2021-08-07T05:23:11.317463Z",
     "start_time": "2021-08-07T05:23:11.205026Z"
    },
    "hidden": true,
    "id": "8d2ab74d",
    "outputId": "97a58d61-e6eb-444c-cf4d-985544370052"
   },
   "outputs": [
    {
     "name": "stdout",
     "output_type": "stream",
     "text": [
      "Found 25 images belonging to 2 classes.\n"
     ]
    }
   ],
   "source": [
    "test_generator = dgen_test.flow_from_directory(test_dir,\n",
    "                                               target_size=TARGET_SIZE,\n",
    "                                               batch_size=BATCH_SIZE,\n",
    "                                               class_mode=CLASS_MODE)"
   ]
  },
  {
   "cell_type": "markdown",
   "id": "a1978e0d",
   "metadata": {
    "hidden": true,
    "id": "a1978e0d"
   },
   "source": [
    "#### Target"
   ]
  },
  {
   "cell_type": "code",
   "execution_count": 29,
   "id": "3aa57306",
   "metadata": {
    "ExecuteTime": {
     "end_time": "2021-08-07T05:23:11.323932Z",
     "start_time": "2021-08-07T05:23:11.319544Z"
    },
    "hidden": true,
    "id": "3aa57306",
    "outputId": "454d992c-1372-4207-8372-2b53b2f4a75d"
   },
   "outputs": [
    {
     "data": {
      "text/plain": [
       "{'No_Serviciable': 0, 'Serviciable': 1}"
      ]
     },
     "execution_count": 29,
     "metadata": {},
     "output_type": "execute_result"
    }
   ],
   "source": [
    "train_generator.class_indices"
   ]
  },
  {
   "cell_type": "markdown",
   "id": "ebdfb581",
   "metadata": {
    "hidden": true,
    "id": "ebdfb581"
   },
   "source": [
    "#### Tamaño de los vectores de entrada"
   ]
  },
  {
   "cell_type": "code",
   "execution_count": 30,
   "id": "b2ced64a",
   "metadata": {
    "ExecuteTime": {
     "end_time": "2021-08-07T05:23:11.403833Z",
     "start_time": "2021-08-07T05:23:11.326691Z"
    },
    "hidden": true,
    "id": "b2ced64a",
    "outputId": "0326fc0b-c204-4d68-c98b-a4489232d62b"
   },
   "outputs": [
    {
     "data": {
      "text/plain": [
       "(200, 200, 3)"
      ]
     },
     "execution_count": 30,
     "metadata": {},
     "output_type": "execute_result"
    }
   ],
   "source": [
    "train_generator.image_shape"
   ]
  },
  {
   "cell_type": "markdown",
   "id": "9f485330",
   "metadata": {
    "id": "9f485330"
   },
   "source": [
    "## Modelado"
   ]
  },
  {
   "cell_type": "markdown",
   "id": "f841357f",
   "metadata": {
    "heading_collapsed": true,
    "id": "f841357f"
   },
   "source": [
    "### Establecimiento de base"
   ]
  },
  {
   "cell_type": "code",
   "execution_count": 31,
   "id": "07258341",
   "metadata": {
    "ExecuteTime": {
     "end_time": "2021-08-07T05:23:11.510455Z",
     "start_time": "2021-08-07T05:23:11.406174Z"
    },
    "hidden": true,
    "id": "07258341"
   },
   "outputs": [],
   "source": [
    "model = Sequential()"
   ]
  },
  {
   "cell_type": "markdown",
   "id": "175b5fd2",
   "metadata": {
    "heading_collapsed": true,
    "id": "175b5fd2"
   },
   "source": [
    "### Capas Convolucionales+Pooling"
   ]
  },
  {
   "cell_type": "code",
   "execution_count": 32,
   "id": "e9590f11",
   "metadata": {
    "ExecuteTime": {
     "end_time": "2021-08-07T05:23:12.534200Z",
     "start_time": "2021-08-07T05:23:11.512702Z"
    },
    "hidden": true,
    "id": "e9590f11"
   },
   "outputs": [],
   "source": [
    "model.add(Conv2D(64, (5,5), padding='same', activation='relu',\n",
    "                input_shape=(200, 200, 3)))\n",
    "model.add(MaxPooling2D(pool_size=(2,2)))"
   ]
  },
  {
   "cell_type": "markdown",
   "id": "f6e0d3ff",
   "metadata": {
    "heading_collapsed": true,
    "id": "f6e0d3ff"
   },
   "source": [
    "### Dropout"
   ]
  },
  {
   "cell_type": "code",
   "execution_count": 33,
   "id": "eb7f858e",
   "metadata": {
    "ExecuteTime": {
     "end_time": "2021-08-07T05:23:14.677944Z",
     "start_time": "2021-08-07T05:23:13.942956Z"
    },
    "hidden": true,
    "id": "eb7f858e"
   },
   "outputs": [],
   "source": [
    "model.add(Dropout(0.2))"
   ]
  },
  {
   "cell_type": "markdown",
   "id": "d5addb11",
   "metadata": {
    "heading_collapsed": true,
    "id": "d5addb11"
   },
   "source": [
    "### Bloque convolucional"
   ]
  },
  {
   "cell_type": "code",
   "execution_count": 34,
   "id": "8c789126",
   "metadata": {
    "ExecuteTime": {
     "end_time": "2021-08-07T05:23:14.899417Z",
     "start_time": "2021-08-07T05:23:14.679713Z"
    },
    "hidden": true,
    "id": "8c789126"
   },
   "outputs": [],
   "source": [
    "model.add(Conv2D(64, (5,5), padding='same', activation='relu'))\n",
    "model.add(MaxPooling2D(pool_size=(2,2)))\n",
    "model.add(Dropout(0.2))"
   ]
  },
  {
   "cell_type": "markdown",
   "id": "3c21beec",
   "metadata": {
    "id": "3c21beec"
   },
   "source": [
    "### Capas densamente conectadas"
   ]
  },
  {
   "cell_type": "code",
   "execution_count": 35,
   "id": "f476c26f",
   "metadata": {
    "ExecuteTime": {
     "end_time": "2021-08-07T05:23:15.119847Z",
     "start_time": "2021-08-07T05:23:14.901665Z"
    },
    "id": "f476c26f",
    "outputId": "bca38e5a-ac44-4f37-e557-cd843a2e83d6"
   },
   "outputs": [
    {
     "name": "stdout",
     "output_type": "stream",
     "text": [
      "Model: \"sequential\"\n",
      "_________________________________________________________________\n",
      "Layer (type)                 Output Shape              Param #   \n",
      "=================================================================\n",
      "conv2d (Conv2D)              (None, 200, 200, 64)      4864      \n",
      "_________________________________________________________________\n",
      "max_pooling2d (MaxPooling2D) (None, 100, 100, 64)      0         \n",
      "_________________________________________________________________\n",
      "dropout (Dropout)            (None, 100, 100, 64)      0         \n",
      "_________________________________________________________________\n",
      "conv2d_1 (Conv2D)            (None, 100, 100, 64)      102464    \n",
      "_________________________________________________________________\n",
      "max_pooling2d_1 (MaxPooling2 (None, 50, 50, 64)        0         \n",
      "_________________________________________________________________\n",
      "dropout_1 (Dropout)          (None, 50, 50, 64)        0         \n",
      "_________________________________________________________________\n",
      "flatten (Flatten)            (None, 160000)            0         \n",
      "_________________________________________________________________\n",
      "dense (Dense)                (None, 512)               81920512  \n",
      "_________________________________________________________________\n",
      "dropout_2 (Dropout)          (None, 512)               0         \n",
      "_________________________________________________________________\n",
      "dense_1 (Dense)              (None, 1)                 513       \n",
      "=================================================================\n",
      "Total params: 82,028,353\n",
      "Trainable params: 82,028,353\n",
      "Non-trainable params: 0\n",
      "_________________________________________________________________\n"
     ]
    }
   ],
   "source": [
    "model.add(Flatten())\n",
    "model.add(Dense(512, activation='relu'))\n",
    "model.add(Dropout(0.2))\n",
    "model.add(Dense(1, activation='sigmoid'))\n",
    "\n",
    "model.summary()"
   ]
  },
  {
   "cell_type": "markdown",
   "id": "8e4bc6ef",
   "metadata": {
    "id": "8e4bc6ef"
   },
   "source": [
    "### Parámetros de entrenamiento"
   ]
  },
  {
   "cell_type": "code",
   "execution_count": 36,
   "id": "27382856",
   "metadata": {
    "ExecuteTime": {
     "end_time": "2021-08-07T05:23:15.664907Z",
     "start_time": "2021-08-07T05:23:15.122148Z"
    },
    "id": "27382856"
   },
   "outputs": [],
   "source": [
    "model.compile( loss='binary_crossentropy', metrics=['accuracy'])"
   ]
  },
  {
   "cell_type": "markdown",
   "id": "ee989330",
   "metadata": {
    "id": "ee989330"
   },
   "source": [
    "### Callbacks"
   ]
  },
  {
   "cell_type": "markdown",
   "id": "249cca5c",
   "metadata": {
    "id": "249cca5c"
   },
   "source": [
    "#### Early stopping"
   ]
  },
  {
   "cell_type": "code",
   "execution_count": 37,
   "id": "3f8d94b1",
   "metadata": {
    "ExecuteTime": {
     "end_time": "2021-08-07T05:23:16.370059Z",
     "start_time": "2021-08-07T05:23:15.666734Z"
    },
    "id": "3f8d94b1"
   },
   "outputs": [],
   "source": [
    "early_stopping = tf.keras.callbacks.EarlyStopping(monitor='val_accuracy', \n",
    "                                           patience=20)"
   ]
  },
  {
   "cell_type": "markdown",
   "id": "e327e648",
   "metadata": {
    "heading_collapsed": true,
    "id": "e327e648"
   },
   "source": [
    "#### Checkpoints"
   ]
  },
  {
   "cell_type": "code",
   "execution_count": 38,
   "id": "1e6952ff",
   "metadata": {
    "ExecuteTime": {
     "end_time": "2021-08-07T05:23:57.682160Z",
     "start_time": "2021-08-07T05:23:57.678773Z"
    },
    "hidden": true,
    "id": "1e6952ff"
   },
   "outputs": [],
   "source": [
    "checkpoint = tf.keras.callbacks.ModelCheckpoint('models/model_{val_accuracy:.3f}.h5',\n",
    "                               save_best_only=True,\n",
    "                               save_weights_only=False,\n",
    "                               monitor='val_accuracy'\n",
    "                                 )"
   ]
  },
  {
   "cell_type": "markdown",
   "id": "0e86ada5",
   "metadata": {
    "id": "0e86ada5"
   },
   "source": [
    "### Entrenamiento del modelo"
   ]
  },
  {
   "cell_type": "code",
   "execution_count": 39,
   "id": "7520b892",
   "metadata": {
    "ExecuteTime": {
     "end_time": "2021-08-07T06:11:01.980753Z",
     "start_time": "2021-08-07T05:24:07.567279Z"
    },
    "id": "7520b892",
    "outputId": "1190dbfa-2795-4c05-916e-d1fea033851d",
    "scrolled": true
   },
   "outputs": [
    {
     "name": "stdout",
     "output_type": "stream",
     "text": [
      "Epoch 1/27\n",
      "2/2 [==============================] - 17s 4s/step - loss: 123.0131 - accuracy: 0.3561 - val_loss: 1.7528 - val_accuracy: 0.5000\n",
      "Epoch 2/27\n",
      "2/2 [==============================] - 4s 2s/step - loss: 3.5328 - accuracy: 0.5539 - val_loss: 0.7043 - val_accuracy: 0.5000\n",
      "Epoch 3/27\n",
      "2/2 [==============================] - 4s 2s/step - loss: 0.7631 - accuracy: 0.4751 - val_loss: 0.6952 - val_accuracy: 0.5000\n",
      "Epoch 4/27\n",
      "2/2 [==============================] - 4s 2s/step - loss: 0.7004 - accuracy: 0.5063 - val_loss: 0.6842 - val_accuracy: 0.5000\n",
      "Epoch 5/27\n",
      "2/2 [==============================] - 4s 2s/step - loss: 1.1571 - accuracy: 0.5104 - val_loss: 0.7266 - val_accuracy: 0.5000\n",
      "Epoch 6/27\n",
      "2/2 [==============================] - 4s 2s/step - loss: 0.9348 - accuracy: 0.4647 - val_loss: 0.6883 - val_accuracy: 0.5000\n",
      "Epoch 7/27\n",
      "2/2 [==============================] - 4s 3s/step - loss: 0.6825 - accuracy: 0.5238 - val_loss: 0.6859 - val_accuracy: 0.7000\n",
      "Epoch 8/27\n",
      "2/2 [==============================] - 4s 3s/step - loss: 0.6826 - accuracy: 0.6066 - val_loss: 0.6676 - val_accuracy: 1.0000\n",
      "Epoch 9/27\n",
      "2/2 [==============================] - 5s 2s/step - loss: 0.6464 - accuracy: 0.8505 - val_loss: 0.6047 - val_accuracy: 1.0000\n",
      "Epoch 10/27\n",
      "2/2 [==============================] - 4s 3s/step - loss: 0.6457 - accuracy: 0.6480 - val_loss: 0.5895 - val_accuracy: 1.0000\n",
      "Epoch 11/27\n",
      "2/2 [==============================] - 4s 3s/step - loss: 0.5110 - accuracy: 0.8851 - val_loss: 0.5679 - val_accuracy: 0.6000\n",
      "Epoch 12/27\n",
      "2/2 [==============================] - 4s 3s/step - loss: 0.5396 - accuracy: 0.7267 - val_loss: 0.5715 - val_accuracy: 0.8000\n",
      "Epoch 13/27\n",
      "2/2 [==============================] - 4s 3s/step - loss: 0.4284 - accuracy: 0.9710 - val_loss: 0.3418 - val_accuracy: 1.0000\n",
      "Epoch 14/27\n",
      "2/2 [==============================] - 4s 3s/step - loss: 0.2871 - accuracy: 0.9327 - val_loss: 0.7135 - val_accuracy: 0.5000\n",
      "Epoch 15/27\n",
      "2/2 [==============================] - 5s 2s/step - loss: 0.6549 - accuracy: 0.6223 - val_loss: 0.3470 - val_accuracy: 1.0000\n",
      "Epoch 16/27\n",
      "2/2 [==============================] - 4s 3s/step - loss: 0.2367 - accuracy: 0.9617 - val_loss: 0.2194 - val_accuracy: 1.0000\n",
      "Epoch 17/27\n",
      "2/2 [==============================] - 4s 3s/step - loss: 0.0900 - accuracy: 0.9855 - val_loss: 0.1770 - val_accuracy: 0.9000\n",
      "Epoch 18/27\n",
      "2/2 [==============================] - 4s 2s/step - loss: 0.1232 - accuracy: 0.9606 - val_loss: 0.2065 - val_accuracy: 0.9000\n",
      "Epoch 19/27\n",
      "2/2 [==============================] - 4s 3s/step - loss: 0.0579 - accuracy: 1.0000 - val_loss: 0.3141 - val_accuracy: 0.9000\n",
      "Epoch 20/27\n",
      "2/2 [==============================] - 4s 2s/step - loss: 0.1591 - accuracy: 0.9357 - val_loss: 0.1331 - val_accuracy: 0.9000\n",
      "Epoch 21/27\n",
      "2/2 [==============================] - 4s 3s/step - loss: 0.0688 - accuracy: 1.0000 - val_loss: 0.0479 - val_accuracy: 1.0000\n",
      "Epoch 22/27\n",
      "2/2 [==============================] - 4s 3s/step - loss: 0.0212 - accuracy: 1.0000 - val_loss: 0.0296 - val_accuracy: 1.0000\n",
      "Epoch 23/27\n",
      "2/2 [==============================] - 4s 2s/step - loss: 0.0225 - accuracy: 1.0000 - val_loss: 0.1700 - val_accuracy: 0.9000\n",
      "Epoch 24/27\n",
      "2/2 [==============================] - 4s 3s/step - loss: 0.0347 - accuracy: 0.9855 - val_loss: 0.3894 - val_accuracy: 0.7000\n",
      "Epoch 25/27\n",
      "2/2 [==============================] - 4s 3s/step - loss: 0.0520 - accuracy: 1.0000 - val_loss: 0.0232 - val_accuracy: 1.0000\n",
      "Epoch 26/27\n",
      "2/2 [==============================] - 4s 2s/step - loss: 0.0283 - accuracy: 1.0000 - val_loss: 0.0323 - val_accuracy: 1.0000\n",
      "Epoch 27/27\n",
      "2/2 [==============================] - 4s 2s/step - loss: 0.0100 - accuracy: 1.0000 - val_loss: 0.0261 - val_accuracy: 1.0000\n"
     ]
    }
   ],
   "source": [
    "history = model.fit(train_generator,\n",
    "          epochs=27,\n",
    "          validation_data=validation_generator,\n",
    "          callbacks=[early_stopping, checkpoint])"
   ]
  },
  {
   "cell_type": "markdown",
   "id": "95093c0c",
   "metadata": {
    "id": "95093c0c"
   },
   "source": [
    "## Evaluación de resultados"
   ]
  },
  {
   "cell_type": "markdown",
   "id": "dd1ae760",
   "metadata": {
    "id": "dd1ae760"
   },
   "source": [
    "### Resultados de entrenamiento"
   ]
  },
  {
   "cell_type": "code",
   "execution_count": 40,
   "id": "ca243148",
   "metadata": {
    "ExecuteTime": {
     "end_time": "2021-08-07T14:46:44.553980Z",
     "start_time": "2021-08-07T14:46:44.503244Z"
    },
    "id": "ca243148"
   },
   "outputs": [],
   "source": [
    "results = pd.DataFrame(data = zip(history.history[\"loss\"], history.history[\"val_loss\"], history.history[\"accuracy\"], history.history[\"val_accuracy\"]), columns=[\"loss\", \"val_loss\", \"accuracy\", \"val_accuracy\"])"
   ]
  },
  {
   "cell_type": "code",
   "execution_count": 41,
   "id": "bac8913d",
   "metadata": {
    "ExecuteTime": {
     "end_time": "2021-08-07T14:46:55.418734Z",
     "start_time": "2021-08-07T14:46:53.026957Z"
    },
    "id": "bac8913d",
    "outputId": "2efa7a5f-32de-4dee-90e9-bd5422cf153b"
   },
   "outputs": [
    {
     "data": {
      "application/vnd.plotly.v1+json": {
       "config": {
        "linkText": "Export to plot.ly",
        "plotlyServerURL": "https://plot.ly",
        "showLink": true
       },
       "data": [
        {
         "line": {
          "color": "rgba(255, 153, 51, 1.0)",
          "dash": "solid",
          "shape": "linear",
          "width": 1.3
         },
         "mode": "lines",
         "name": "loss",
         "text": "",
         "type": "scatter",
         "x": [
          0,
          1,
          2,
          3,
          4,
          5,
          6,
          7,
          8,
          9,
          10,
          11,
          12,
          13,
          14,
          15,
          16,
          17,
          18,
          19,
          20,
          21,
          22,
          23,
          24,
          25,
          26
         ],
         "y": [
          184.1489715576172,
          3.303143262863159,
          0.7557038068771362,
          0.7034607529640198,
          1.3982527256011963,
          0.9018269181251526,
          0.6871768832206726,
          0.6732648611068726,
          0.6429070234298706,
          0.6687954068183899,
          0.4860081076622009,
          0.5317173600196838,
          0.4223153591156006,
          0.2646852433681488,
          0.6178303360939026,
          0.23646976053714752,
          0.11227361112833023,
          0.12733186781406403,
          0.055437348783016205,
          0.15872156620025635,
          0.055795539170503616,
          0.02475634403526783,
          0.02194136194884777,
          0.03709309920668602,
          0.03873126581311226,
          0.02705266699194908,
          0.009175757877528667
         ]
        },
        {
         "line": {
          "color": "rgba(55, 128, 191, 1.0)",
          "dash": "solid",
          "shape": "linear",
          "width": 1.3
         },
         "mode": "lines",
         "name": "val_loss",
         "text": "",
         "type": "scatter",
         "x": [
          0,
          1,
          2,
          3,
          4,
          5,
          6,
          7,
          8,
          9,
          10,
          11,
          12,
          13,
          14,
          15,
          16,
          17,
          18,
          19,
          20,
          21,
          22,
          23,
          24,
          25,
          26
         ],
         "y": [
          1.7527942657470703,
          0.7042950391769409,
          0.6951900720596313,
          0.6842066049575806,
          0.726593017578125,
          0.688271164894104,
          0.6859116554260254,
          0.667629599571228,
          0.6047104597091675,
          0.5894707441329956,
          0.5679423809051514,
          0.5714701414108276,
          0.34178248047828674,
          0.7134820818901062,
          0.3470408320426941,
          0.21942345798015594,
          0.1770157366991043,
          0.20645081996917725,
          0.31406915187835693,
          0.13307291269302368,
          0.047917626798152924,
          0.029596999287605286,
          0.17003574967384338,
          0.38941940665245056,
          0.023204481229186058,
          0.032345760613679886,
          0.026108790189027786
         ]
        },
        {
         "line": {
          "color": "rgba(50, 171, 96, 1.0)",
          "dash": "solid",
          "shape": "linear",
          "width": 1.3
         },
         "mode": "lines",
         "name": "accuracy",
         "text": "",
         "type": "scatter",
         "x": [
          0,
          1,
          2,
          3,
          4,
          5,
          6,
          7,
          8,
          9,
          10,
          11,
          12,
          13,
          14,
          15,
          16,
          17,
          18,
          19,
          20,
          21,
          22,
          23,
          24,
          25,
          26
         ],
         "y": [
          0.3913043439388275,
          0.5652173757553101,
          0.47826087474823,
          0.47826087474823,
          0.5,
          0.47826087474823,
          0.5,
          0.695652186870575,
          0.8695651888847351,
          0.54347825050354,
          0.9347826242446899,
          0.804347813129425,
          0.95652174949646,
          0.9347826242446899,
          0.6521739363670349,
          0.97826087474823,
          0.97826087474823,
          0.95652174949646,
          1,
          0.9347826242446899,
          1,
          1,
          1,
          0.97826087474823,
          1,
          1,
          1
         ]
        },
        {
         "line": {
          "color": "rgba(128, 0, 128, 1.0)",
          "dash": "solid",
          "shape": "linear",
          "width": 1.3
         },
         "mode": "lines",
         "name": "val_accuracy",
         "text": "",
         "type": "scatter",
         "x": [
          0,
          1,
          2,
          3,
          4,
          5,
          6,
          7,
          8,
          9,
          10,
          11,
          12,
          13,
          14,
          15,
          16,
          17,
          18,
          19,
          20,
          21,
          22,
          23,
          24,
          25,
          26
         ],
         "y": [
          0.5,
          0.5,
          0.5,
          0.5,
          0.5,
          0.5,
          0.699999988079071,
          1,
          1,
          1,
          0.6000000238418579,
          0.800000011920929,
          1,
          0.5,
          1,
          1,
          0.8999999761581421,
          0.8999999761581421,
          0.8999999761581421,
          0.8999999761581421,
          1,
          1,
          0.8999999761581421,
          0.699999988079071,
          1,
          1,
          1
         ]
        }
       ],
       "layout": {
        "legend": {
         "bgcolor": "#F5F6F9",
         "font": {
          "color": "#4D5663"
         }
        },
        "paper_bgcolor": "#F5F6F9",
        "plot_bgcolor": "#F5F6F9",
        "template": {
         "data": {
          "bar": [
           {
            "error_x": {
             "color": "#2a3f5f"
            },
            "error_y": {
             "color": "#2a3f5f"
            },
            "marker": {
             "line": {
              "color": "#E5ECF6",
              "width": 0.5
             },
             "pattern": {
              "fillmode": "overlay",
              "size": 10,
              "solidity": 0.2
             }
            },
            "type": "bar"
           }
          ],
          "barpolar": [
           {
            "marker": {
             "line": {
              "color": "#E5ECF6",
              "width": 0.5
             },
             "pattern": {
              "fillmode": "overlay",
              "size": 10,
              "solidity": 0.2
             }
            },
            "type": "barpolar"
           }
          ],
          "carpet": [
           {
            "aaxis": {
             "endlinecolor": "#2a3f5f",
             "gridcolor": "white",
             "linecolor": "white",
             "minorgridcolor": "white",
             "startlinecolor": "#2a3f5f"
            },
            "baxis": {
             "endlinecolor": "#2a3f5f",
             "gridcolor": "white",
             "linecolor": "white",
             "minorgridcolor": "white",
             "startlinecolor": "#2a3f5f"
            },
            "type": "carpet"
           }
          ],
          "choropleth": [
           {
            "colorbar": {
             "outlinewidth": 0,
             "ticks": ""
            },
            "type": "choropleth"
           }
          ],
          "contour": [
           {
            "colorbar": {
             "outlinewidth": 0,
             "ticks": ""
            },
            "colorscale": [
             [
              0,
              "#0d0887"
             ],
             [
              0.1111111111111111,
              "#46039f"
             ],
             [
              0.2222222222222222,
              "#7201a8"
             ],
             [
              0.3333333333333333,
              "#9c179e"
             ],
             [
              0.4444444444444444,
              "#bd3786"
             ],
             [
              0.5555555555555556,
              "#d8576b"
             ],
             [
              0.6666666666666666,
              "#ed7953"
             ],
             [
              0.7777777777777778,
              "#fb9f3a"
             ],
             [
              0.8888888888888888,
              "#fdca26"
             ],
             [
              1,
              "#f0f921"
             ]
            ],
            "type": "contour"
           }
          ],
          "contourcarpet": [
           {
            "colorbar": {
             "outlinewidth": 0,
             "ticks": ""
            },
            "type": "contourcarpet"
           }
          ],
          "heatmap": [
           {
            "colorbar": {
             "outlinewidth": 0,
             "ticks": ""
            },
            "colorscale": [
             [
              0,
              "#0d0887"
             ],
             [
              0.1111111111111111,
              "#46039f"
             ],
             [
              0.2222222222222222,
              "#7201a8"
             ],
             [
              0.3333333333333333,
              "#9c179e"
             ],
             [
              0.4444444444444444,
              "#bd3786"
             ],
             [
              0.5555555555555556,
              "#d8576b"
             ],
             [
              0.6666666666666666,
              "#ed7953"
             ],
             [
              0.7777777777777778,
              "#fb9f3a"
             ],
             [
              0.8888888888888888,
              "#fdca26"
             ],
             [
              1,
              "#f0f921"
             ]
            ],
            "type": "heatmap"
           }
          ],
          "heatmapgl": [
           {
            "colorbar": {
             "outlinewidth": 0,
             "ticks": ""
            },
            "colorscale": [
             [
              0,
              "#0d0887"
             ],
             [
              0.1111111111111111,
              "#46039f"
             ],
             [
              0.2222222222222222,
              "#7201a8"
             ],
             [
              0.3333333333333333,
              "#9c179e"
             ],
             [
              0.4444444444444444,
              "#bd3786"
             ],
             [
              0.5555555555555556,
              "#d8576b"
             ],
             [
              0.6666666666666666,
              "#ed7953"
             ],
             [
              0.7777777777777778,
              "#fb9f3a"
             ],
             [
              0.8888888888888888,
              "#fdca26"
             ],
             [
              1,
              "#f0f921"
             ]
            ],
            "type": "heatmapgl"
           }
          ],
          "histogram": [
           {
            "marker": {
             "pattern": {
              "fillmode": "overlay",
              "size": 10,
              "solidity": 0.2
             }
            },
            "type": "histogram"
           }
          ],
          "histogram2d": [
           {
            "colorbar": {
             "outlinewidth": 0,
             "ticks": ""
            },
            "colorscale": [
             [
              0,
              "#0d0887"
             ],
             [
              0.1111111111111111,
              "#46039f"
             ],
             [
              0.2222222222222222,
              "#7201a8"
             ],
             [
              0.3333333333333333,
              "#9c179e"
             ],
             [
              0.4444444444444444,
              "#bd3786"
             ],
             [
              0.5555555555555556,
              "#d8576b"
             ],
             [
              0.6666666666666666,
              "#ed7953"
             ],
             [
              0.7777777777777778,
              "#fb9f3a"
             ],
             [
              0.8888888888888888,
              "#fdca26"
             ],
             [
              1,
              "#f0f921"
             ]
            ],
            "type": "histogram2d"
           }
          ],
          "histogram2dcontour": [
           {
            "colorbar": {
             "outlinewidth": 0,
             "ticks": ""
            },
            "colorscale": [
             [
              0,
              "#0d0887"
             ],
             [
              0.1111111111111111,
              "#46039f"
             ],
             [
              0.2222222222222222,
              "#7201a8"
             ],
             [
              0.3333333333333333,
              "#9c179e"
             ],
             [
              0.4444444444444444,
              "#bd3786"
             ],
             [
              0.5555555555555556,
              "#d8576b"
             ],
             [
              0.6666666666666666,
              "#ed7953"
             ],
             [
              0.7777777777777778,
              "#fb9f3a"
             ],
             [
              0.8888888888888888,
              "#fdca26"
             ],
             [
              1,
              "#f0f921"
             ]
            ],
            "type": "histogram2dcontour"
           }
          ],
          "mesh3d": [
           {
            "colorbar": {
             "outlinewidth": 0,
             "ticks": ""
            },
            "type": "mesh3d"
           }
          ],
          "parcoords": [
           {
            "line": {
             "colorbar": {
              "outlinewidth": 0,
              "ticks": ""
             }
            },
            "type": "parcoords"
           }
          ],
          "pie": [
           {
            "automargin": true,
            "type": "pie"
           }
          ],
          "scatter": [
           {
            "marker": {
             "colorbar": {
              "outlinewidth": 0,
              "ticks": ""
             }
            },
            "type": "scatter"
           }
          ],
          "scatter3d": [
           {
            "line": {
             "colorbar": {
              "outlinewidth": 0,
              "ticks": ""
             }
            },
            "marker": {
             "colorbar": {
              "outlinewidth": 0,
              "ticks": ""
             }
            },
            "type": "scatter3d"
           }
          ],
          "scattercarpet": [
           {
            "marker": {
             "colorbar": {
              "outlinewidth": 0,
              "ticks": ""
             }
            },
            "type": "scattercarpet"
           }
          ],
          "scattergeo": [
           {
            "marker": {
             "colorbar": {
              "outlinewidth": 0,
              "ticks": ""
             }
            },
            "type": "scattergeo"
           }
          ],
          "scattergl": [
           {
            "marker": {
             "colorbar": {
              "outlinewidth": 0,
              "ticks": ""
             }
            },
            "type": "scattergl"
           }
          ],
          "scattermapbox": [
           {
            "marker": {
             "colorbar": {
              "outlinewidth": 0,
              "ticks": ""
             }
            },
            "type": "scattermapbox"
           }
          ],
          "scatterpolar": [
           {
            "marker": {
             "colorbar": {
              "outlinewidth": 0,
              "ticks": ""
             }
            },
            "type": "scatterpolar"
           }
          ],
          "scatterpolargl": [
           {
            "marker": {
             "colorbar": {
              "outlinewidth": 0,
              "ticks": ""
             }
            },
            "type": "scatterpolargl"
           }
          ],
          "scatterternary": [
           {
            "marker": {
             "colorbar": {
              "outlinewidth": 0,
              "ticks": ""
             }
            },
            "type": "scatterternary"
           }
          ],
          "surface": [
           {
            "colorbar": {
             "outlinewidth": 0,
             "ticks": ""
            },
            "colorscale": [
             [
              0,
              "#0d0887"
             ],
             [
              0.1111111111111111,
              "#46039f"
             ],
             [
              0.2222222222222222,
              "#7201a8"
             ],
             [
              0.3333333333333333,
              "#9c179e"
             ],
             [
              0.4444444444444444,
              "#bd3786"
             ],
             [
              0.5555555555555556,
              "#d8576b"
             ],
             [
              0.6666666666666666,
              "#ed7953"
             ],
             [
              0.7777777777777778,
              "#fb9f3a"
             ],
             [
              0.8888888888888888,
              "#fdca26"
             ],
             [
              1,
              "#f0f921"
             ]
            ],
            "type": "surface"
           }
          ],
          "table": [
           {
            "cells": {
             "fill": {
              "color": "#EBF0F8"
             },
             "line": {
              "color": "white"
             }
            },
            "header": {
             "fill": {
              "color": "#C8D4E3"
             },
             "line": {
              "color": "white"
             }
            },
            "type": "table"
           }
          ]
         },
         "layout": {
          "annotationdefaults": {
           "arrowcolor": "#2a3f5f",
           "arrowhead": 0,
           "arrowwidth": 1
          },
          "autotypenumbers": "strict",
          "coloraxis": {
           "colorbar": {
            "outlinewidth": 0,
            "ticks": ""
           }
          },
          "colorscale": {
           "diverging": [
            [
             0,
             "#8e0152"
            ],
            [
             0.1,
             "#c51b7d"
            ],
            [
             0.2,
             "#de77ae"
            ],
            [
             0.3,
             "#f1b6da"
            ],
            [
             0.4,
             "#fde0ef"
            ],
            [
             0.5,
             "#f7f7f7"
            ],
            [
             0.6,
             "#e6f5d0"
            ],
            [
             0.7,
             "#b8e186"
            ],
            [
             0.8,
             "#7fbc41"
            ],
            [
             0.9,
             "#4d9221"
            ],
            [
             1,
             "#276419"
            ]
           ],
           "sequential": [
            [
             0,
             "#0d0887"
            ],
            [
             0.1111111111111111,
             "#46039f"
            ],
            [
             0.2222222222222222,
             "#7201a8"
            ],
            [
             0.3333333333333333,
             "#9c179e"
            ],
            [
             0.4444444444444444,
             "#bd3786"
            ],
            [
             0.5555555555555556,
             "#d8576b"
            ],
            [
             0.6666666666666666,
             "#ed7953"
            ],
            [
             0.7777777777777778,
             "#fb9f3a"
            ],
            [
             0.8888888888888888,
             "#fdca26"
            ],
            [
             1,
             "#f0f921"
            ]
           ],
           "sequentialminus": [
            [
             0,
             "#0d0887"
            ],
            [
             0.1111111111111111,
             "#46039f"
            ],
            [
             0.2222222222222222,
             "#7201a8"
            ],
            [
             0.3333333333333333,
             "#9c179e"
            ],
            [
             0.4444444444444444,
             "#bd3786"
            ],
            [
             0.5555555555555556,
             "#d8576b"
            ],
            [
             0.6666666666666666,
             "#ed7953"
            ],
            [
             0.7777777777777778,
             "#fb9f3a"
            ],
            [
             0.8888888888888888,
             "#fdca26"
            ],
            [
             1,
             "#f0f921"
            ]
           ]
          },
          "colorway": [
           "#636efa",
           "#EF553B",
           "#00cc96",
           "#ab63fa",
           "#FFA15A",
           "#19d3f3",
           "#FF6692",
           "#B6E880",
           "#FF97FF",
           "#FECB52"
          ],
          "font": {
           "color": "#2a3f5f"
          },
          "geo": {
           "bgcolor": "white",
           "lakecolor": "white",
           "landcolor": "#E5ECF6",
           "showlakes": true,
           "showland": true,
           "subunitcolor": "white"
          },
          "hoverlabel": {
           "align": "left"
          },
          "hovermode": "closest",
          "mapbox": {
           "style": "light"
          },
          "paper_bgcolor": "white",
          "plot_bgcolor": "#E5ECF6",
          "polar": {
           "angularaxis": {
            "gridcolor": "white",
            "linecolor": "white",
            "ticks": ""
           },
           "bgcolor": "#E5ECF6",
           "radialaxis": {
            "gridcolor": "white",
            "linecolor": "white",
            "ticks": ""
           }
          },
          "scene": {
           "xaxis": {
            "backgroundcolor": "#E5ECF6",
            "gridcolor": "white",
            "gridwidth": 2,
            "linecolor": "white",
            "showbackground": true,
            "ticks": "",
            "zerolinecolor": "white"
           },
           "yaxis": {
            "backgroundcolor": "#E5ECF6",
            "gridcolor": "white",
            "gridwidth": 2,
            "linecolor": "white",
            "showbackground": true,
            "ticks": "",
            "zerolinecolor": "white"
           },
           "zaxis": {
            "backgroundcolor": "#E5ECF6",
            "gridcolor": "white",
            "gridwidth": 2,
            "linecolor": "white",
            "showbackground": true,
            "ticks": "",
            "zerolinecolor": "white"
           }
          },
          "shapedefaults": {
           "line": {
            "color": "#2a3f5f"
           }
          },
          "ternary": {
           "aaxis": {
            "gridcolor": "white",
            "linecolor": "white",
            "ticks": ""
           },
           "baxis": {
            "gridcolor": "white",
            "linecolor": "white",
            "ticks": ""
           },
           "bgcolor": "#E5ECF6",
           "caxis": {
            "gridcolor": "white",
            "linecolor": "white",
            "ticks": ""
           }
          },
          "title": {
           "x": 0.05
          },
          "xaxis": {
           "automargin": true,
           "gridcolor": "white",
           "linecolor": "white",
           "ticks": "",
           "title": {
            "standoff": 15
           },
           "zerolinecolor": "white",
           "zerolinewidth": 2
          },
          "yaxis": {
           "automargin": true,
           "gridcolor": "white",
           "linecolor": "white",
           "ticks": "",
           "title": {
            "standoff": 15
           },
           "zerolinecolor": "white",
           "zerolinewidth": 2
          }
         }
        },
        "title": {
         "font": {
          "color": "#4D5663"
         }
        },
        "xaxis": {
         "gridcolor": "#E1E5ED",
         "showgrid": true,
         "tickfont": {
          "color": "#4D5663"
         },
         "title": {
          "font": {
           "color": "#4D5663"
          },
          "text": ""
         },
         "zerolinecolor": "#E1E5ED"
        },
        "yaxis": {
         "gridcolor": "#E1E5ED",
         "showgrid": true,
         "tickfont": {
          "color": "#4D5663"
         },
         "title": {
          "font": {
           "color": "#4D5663"
          },
          "text": ""
         },
         "zerolinecolor": "#E1E5ED"
        }
       }
      },
      "text/html": [
       "<div>                            <div id=\"16e24520-0e04-45bb-ab9f-5eab4bd026b7\" class=\"plotly-graph-div\" style=\"height:525px; width:100%;\"></div>            <script type=\"text/javascript\">                require([\"plotly\"], function(Plotly) {                    window.PLOTLYENV=window.PLOTLYENV || {};\n",
       "                    window.PLOTLYENV.BASE_URL='https://plot.ly';                                    if (document.getElementById(\"16e24520-0e04-45bb-ab9f-5eab4bd026b7\")) {                    Plotly.newPlot(                        \"16e24520-0e04-45bb-ab9f-5eab4bd026b7\",                        [{\"line\":{\"color\":\"rgba(255, 153, 51, 1.0)\",\"dash\":\"solid\",\"shape\":\"linear\",\"width\":1.3},\"mode\":\"lines\",\"name\":\"loss\",\"text\":\"\",\"type\":\"scatter\",\"x\":[0,1,2,3,4,5,6,7,8,9,10,11,12,13,14,15,16,17,18,19,20,21,22,23,24,25,26],\"y\":[184.1489715576172,3.303143262863159,0.7557038068771362,0.7034607529640198,1.3982527256011963,0.9018269181251526,0.6871768832206726,0.6732648611068726,0.6429070234298706,0.6687954068183899,0.4860081076622009,0.5317173600196838,0.4223153591156006,0.2646852433681488,0.6178303360939026,0.23646976053714752,0.11227361112833023,0.12733186781406403,0.055437348783016205,0.15872156620025635,0.055795539170503616,0.02475634403526783,0.02194136194884777,0.03709309920668602,0.03873126581311226,0.02705266699194908,0.009175757877528667]},{\"line\":{\"color\":\"rgba(55, 128, 191, 1.0)\",\"dash\":\"solid\",\"shape\":\"linear\",\"width\":1.3},\"mode\":\"lines\",\"name\":\"val_loss\",\"text\":\"\",\"type\":\"scatter\",\"x\":[0,1,2,3,4,5,6,7,8,9,10,11,12,13,14,15,16,17,18,19,20,21,22,23,24,25,26],\"y\":[1.7527942657470703,0.7042950391769409,0.6951900720596313,0.6842066049575806,0.726593017578125,0.688271164894104,0.6859116554260254,0.667629599571228,0.6047104597091675,0.5894707441329956,0.5679423809051514,0.5714701414108276,0.34178248047828674,0.7134820818901062,0.3470408320426941,0.21942345798015594,0.1770157366991043,0.20645081996917725,0.31406915187835693,0.13307291269302368,0.047917626798152924,0.029596999287605286,0.17003574967384338,0.38941940665245056,0.023204481229186058,0.032345760613679886,0.026108790189027786]},{\"line\":{\"color\":\"rgba(50, 171, 96, 1.0)\",\"dash\":\"solid\",\"shape\":\"linear\",\"width\":1.3},\"mode\":\"lines\",\"name\":\"accuracy\",\"text\":\"\",\"type\":\"scatter\",\"x\":[0,1,2,3,4,5,6,7,8,9,10,11,12,13,14,15,16,17,18,19,20,21,22,23,24,25,26],\"y\":[0.3913043439388275,0.5652173757553101,0.47826087474823,0.47826087474823,0.5,0.47826087474823,0.5,0.695652186870575,0.8695651888847351,0.54347825050354,0.9347826242446899,0.804347813129425,0.95652174949646,0.9347826242446899,0.6521739363670349,0.97826087474823,0.97826087474823,0.95652174949646,1.0,0.9347826242446899,1.0,1.0,1.0,0.97826087474823,1.0,1.0,1.0]},{\"line\":{\"color\":\"rgba(128, 0, 128, 1.0)\",\"dash\":\"solid\",\"shape\":\"linear\",\"width\":1.3},\"mode\":\"lines\",\"name\":\"val_accuracy\",\"text\":\"\",\"type\":\"scatter\",\"x\":[0,1,2,3,4,5,6,7,8,9,10,11,12,13,14,15,16,17,18,19,20,21,22,23,24,25,26],\"y\":[0.5,0.5,0.5,0.5,0.5,0.5,0.699999988079071,1.0,1.0,1.0,0.6000000238418579,0.800000011920929,1.0,0.5,1.0,1.0,0.8999999761581421,0.8999999761581421,0.8999999761581421,0.8999999761581421,1.0,1.0,0.8999999761581421,0.699999988079071,1.0,1.0,1.0]}],                        {\"legend\":{\"bgcolor\":\"#F5F6F9\",\"font\":{\"color\":\"#4D5663\"}},\"paper_bgcolor\":\"#F5F6F9\",\"plot_bgcolor\":\"#F5F6F9\",\"template\":{\"data\":{\"bar\":[{\"error_x\":{\"color\":\"#2a3f5f\"},\"error_y\":{\"color\":\"#2a3f5f\"},\"marker\":{\"line\":{\"color\":\"#E5ECF6\",\"width\":0.5},\"pattern\":{\"fillmode\":\"overlay\",\"size\":10,\"solidity\":0.2}},\"type\":\"bar\"}],\"barpolar\":[{\"marker\":{\"line\":{\"color\":\"#E5ECF6\",\"width\":0.5},\"pattern\":{\"fillmode\":\"overlay\",\"size\":10,\"solidity\":0.2}},\"type\":\"barpolar\"}],\"carpet\":[{\"aaxis\":{\"endlinecolor\":\"#2a3f5f\",\"gridcolor\":\"white\",\"linecolor\":\"white\",\"minorgridcolor\":\"white\",\"startlinecolor\":\"#2a3f5f\"},\"baxis\":{\"endlinecolor\":\"#2a3f5f\",\"gridcolor\":\"white\",\"linecolor\":\"white\",\"minorgridcolor\":\"white\",\"startlinecolor\":\"#2a3f5f\"},\"type\":\"carpet\"}],\"choropleth\":[{\"colorbar\":{\"outlinewidth\":0,\"ticks\":\"\"},\"type\":\"choropleth\"}],\"contour\":[{\"colorbar\":{\"outlinewidth\":0,\"ticks\":\"\"},\"colorscale\":[[0.0,\"#0d0887\"],[0.1111111111111111,\"#46039f\"],[0.2222222222222222,\"#7201a8\"],[0.3333333333333333,\"#9c179e\"],[0.4444444444444444,\"#bd3786\"],[0.5555555555555556,\"#d8576b\"],[0.6666666666666666,\"#ed7953\"],[0.7777777777777778,\"#fb9f3a\"],[0.8888888888888888,\"#fdca26\"],[1.0,\"#f0f921\"]],\"type\":\"contour\"}],\"contourcarpet\":[{\"colorbar\":{\"outlinewidth\":0,\"ticks\":\"\"},\"type\":\"contourcarpet\"}],\"heatmap\":[{\"colorbar\":{\"outlinewidth\":0,\"ticks\":\"\"},\"colorscale\":[[0.0,\"#0d0887\"],[0.1111111111111111,\"#46039f\"],[0.2222222222222222,\"#7201a8\"],[0.3333333333333333,\"#9c179e\"],[0.4444444444444444,\"#bd3786\"],[0.5555555555555556,\"#d8576b\"],[0.6666666666666666,\"#ed7953\"],[0.7777777777777778,\"#fb9f3a\"],[0.8888888888888888,\"#fdca26\"],[1.0,\"#f0f921\"]],\"type\":\"heatmap\"}],\"heatmapgl\":[{\"colorbar\":{\"outlinewidth\":0,\"ticks\":\"\"},\"colorscale\":[[0.0,\"#0d0887\"],[0.1111111111111111,\"#46039f\"],[0.2222222222222222,\"#7201a8\"],[0.3333333333333333,\"#9c179e\"],[0.4444444444444444,\"#bd3786\"],[0.5555555555555556,\"#d8576b\"],[0.6666666666666666,\"#ed7953\"],[0.7777777777777778,\"#fb9f3a\"],[0.8888888888888888,\"#fdca26\"],[1.0,\"#f0f921\"]],\"type\":\"heatmapgl\"}],\"histogram\":[{\"marker\":{\"pattern\":{\"fillmode\":\"overlay\",\"size\":10,\"solidity\":0.2}},\"type\":\"histogram\"}],\"histogram2d\":[{\"colorbar\":{\"outlinewidth\":0,\"ticks\":\"\"},\"colorscale\":[[0.0,\"#0d0887\"],[0.1111111111111111,\"#46039f\"],[0.2222222222222222,\"#7201a8\"],[0.3333333333333333,\"#9c179e\"],[0.4444444444444444,\"#bd3786\"],[0.5555555555555556,\"#d8576b\"],[0.6666666666666666,\"#ed7953\"],[0.7777777777777778,\"#fb9f3a\"],[0.8888888888888888,\"#fdca26\"],[1.0,\"#f0f921\"]],\"type\":\"histogram2d\"}],\"histogram2dcontour\":[{\"colorbar\":{\"outlinewidth\":0,\"ticks\":\"\"},\"colorscale\":[[0.0,\"#0d0887\"],[0.1111111111111111,\"#46039f\"],[0.2222222222222222,\"#7201a8\"],[0.3333333333333333,\"#9c179e\"],[0.4444444444444444,\"#bd3786\"],[0.5555555555555556,\"#d8576b\"],[0.6666666666666666,\"#ed7953\"],[0.7777777777777778,\"#fb9f3a\"],[0.8888888888888888,\"#fdca26\"],[1.0,\"#f0f921\"]],\"type\":\"histogram2dcontour\"}],\"mesh3d\":[{\"colorbar\":{\"outlinewidth\":0,\"ticks\":\"\"},\"type\":\"mesh3d\"}],\"parcoords\":[{\"line\":{\"colorbar\":{\"outlinewidth\":0,\"ticks\":\"\"}},\"type\":\"parcoords\"}],\"pie\":[{\"automargin\":true,\"type\":\"pie\"}],\"scatter\":[{\"marker\":{\"colorbar\":{\"outlinewidth\":0,\"ticks\":\"\"}},\"type\":\"scatter\"}],\"scatter3d\":[{\"line\":{\"colorbar\":{\"outlinewidth\":0,\"ticks\":\"\"}},\"marker\":{\"colorbar\":{\"outlinewidth\":0,\"ticks\":\"\"}},\"type\":\"scatter3d\"}],\"scattercarpet\":[{\"marker\":{\"colorbar\":{\"outlinewidth\":0,\"ticks\":\"\"}},\"type\":\"scattercarpet\"}],\"scattergeo\":[{\"marker\":{\"colorbar\":{\"outlinewidth\":0,\"ticks\":\"\"}},\"type\":\"scattergeo\"}],\"scattergl\":[{\"marker\":{\"colorbar\":{\"outlinewidth\":0,\"ticks\":\"\"}},\"type\":\"scattergl\"}],\"scattermapbox\":[{\"marker\":{\"colorbar\":{\"outlinewidth\":0,\"ticks\":\"\"}},\"type\":\"scattermapbox\"}],\"scatterpolar\":[{\"marker\":{\"colorbar\":{\"outlinewidth\":0,\"ticks\":\"\"}},\"type\":\"scatterpolar\"}],\"scatterpolargl\":[{\"marker\":{\"colorbar\":{\"outlinewidth\":0,\"ticks\":\"\"}},\"type\":\"scatterpolargl\"}],\"scatterternary\":[{\"marker\":{\"colorbar\":{\"outlinewidth\":0,\"ticks\":\"\"}},\"type\":\"scatterternary\"}],\"surface\":[{\"colorbar\":{\"outlinewidth\":0,\"ticks\":\"\"},\"colorscale\":[[0.0,\"#0d0887\"],[0.1111111111111111,\"#46039f\"],[0.2222222222222222,\"#7201a8\"],[0.3333333333333333,\"#9c179e\"],[0.4444444444444444,\"#bd3786\"],[0.5555555555555556,\"#d8576b\"],[0.6666666666666666,\"#ed7953\"],[0.7777777777777778,\"#fb9f3a\"],[0.8888888888888888,\"#fdca26\"],[1.0,\"#f0f921\"]],\"type\":\"surface\"}],\"table\":[{\"cells\":{\"fill\":{\"color\":\"#EBF0F8\"},\"line\":{\"color\":\"white\"}},\"header\":{\"fill\":{\"color\":\"#C8D4E3\"},\"line\":{\"color\":\"white\"}},\"type\":\"table\"}]},\"layout\":{\"annotationdefaults\":{\"arrowcolor\":\"#2a3f5f\",\"arrowhead\":0,\"arrowwidth\":1},\"autotypenumbers\":\"strict\",\"coloraxis\":{\"colorbar\":{\"outlinewidth\":0,\"ticks\":\"\"}},\"colorscale\":{\"diverging\":[[0,\"#8e0152\"],[0.1,\"#c51b7d\"],[0.2,\"#de77ae\"],[0.3,\"#f1b6da\"],[0.4,\"#fde0ef\"],[0.5,\"#f7f7f7\"],[0.6,\"#e6f5d0\"],[0.7,\"#b8e186\"],[0.8,\"#7fbc41\"],[0.9,\"#4d9221\"],[1,\"#276419\"]],\"sequential\":[[0.0,\"#0d0887\"],[0.1111111111111111,\"#46039f\"],[0.2222222222222222,\"#7201a8\"],[0.3333333333333333,\"#9c179e\"],[0.4444444444444444,\"#bd3786\"],[0.5555555555555556,\"#d8576b\"],[0.6666666666666666,\"#ed7953\"],[0.7777777777777778,\"#fb9f3a\"],[0.8888888888888888,\"#fdca26\"],[1.0,\"#f0f921\"]],\"sequentialminus\":[[0.0,\"#0d0887\"],[0.1111111111111111,\"#46039f\"],[0.2222222222222222,\"#7201a8\"],[0.3333333333333333,\"#9c179e\"],[0.4444444444444444,\"#bd3786\"],[0.5555555555555556,\"#d8576b\"],[0.6666666666666666,\"#ed7953\"],[0.7777777777777778,\"#fb9f3a\"],[0.8888888888888888,\"#fdca26\"],[1.0,\"#f0f921\"]]},\"colorway\":[\"#636efa\",\"#EF553B\",\"#00cc96\",\"#ab63fa\",\"#FFA15A\",\"#19d3f3\",\"#FF6692\",\"#B6E880\",\"#FF97FF\",\"#FECB52\"],\"font\":{\"color\":\"#2a3f5f\"},\"geo\":{\"bgcolor\":\"white\",\"lakecolor\":\"white\",\"landcolor\":\"#E5ECF6\",\"showlakes\":true,\"showland\":true,\"subunitcolor\":\"white\"},\"hoverlabel\":{\"align\":\"left\"},\"hovermode\":\"closest\",\"mapbox\":{\"style\":\"light\"},\"paper_bgcolor\":\"white\",\"plot_bgcolor\":\"#E5ECF6\",\"polar\":{\"angularaxis\":{\"gridcolor\":\"white\",\"linecolor\":\"white\",\"ticks\":\"\"},\"bgcolor\":\"#E5ECF6\",\"radialaxis\":{\"gridcolor\":\"white\",\"linecolor\":\"white\",\"ticks\":\"\"}},\"scene\":{\"xaxis\":{\"backgroundcolor\":\"#E5ECF6\",\"gridcolor\":\"white\",\"gridwidth\":2,\"linecolor\":\"white\",\"showbackground\":true,\"ticks\":\"\",\"zerolinecolor\":\"white\"},\"yaxis\":{\"backgroundcolor\":\"#E5ECF6\",\"gridcolor\":\"white\",\"gridwidth\":2,\"linecolor\":\"white\",\"showbackground\":true,\"ticks\":\"\",\"zerolinecolor\":\"white\"},\"zaxis\":{\"backgroundcolor\":\"#E5ECF6\",\"gridcolor\":\"white\",\"gridwidth\":2,\"linecolor\":\"white\",\"showbackground\":true,\"ticks\":\"\",\"zerolinecolor\":\"white\"}},\"shapedefaults\":{\"line\":{\"color\":\"#2a3f5f\"}},\"ternary\":{\"aaxis\":{\"gridcolor\":\"white\",\"linecolor\":\"white\",\"ticks\":\"\"},\"baxis\":{\"gridcolor\":\"white\",\"linecolor\":\"white\",\"ticks\":\"\"},\"bgcolor\":\"#E5ECF6\",\"caxis\":{\"gridcolor\":\"white\",\"linecolor\":\"white\",\"ticks\":\"\"}},\"title\":{\"x\":0.05},\"xaxis\":{\"automargin\":true,\"gridcolor\":\"white\",\"linecolor\":\"white\",\"ticks\":\"\",\"title\":{\"standoff\":15},\"zerolinecolor\":\"white\",\"zerolinewidth\":2},\"yaxis\":{\"automargin\":true,\"gridcolor\":\"white\",\"linecolor\":\"white\",\"ticks\":\"\",\"title\":{\"standoff\":15},\"zerolinecolor\":\"white\",\"zerolinewidth\":2}}},\"title\":{\"font\":{\"color\":\"#4D5663\"}},\"xaxis\":{\"gridcolor\":\"#E1E5ED\",\"showgrid\":true,\"tickfont\":{\"color\":\"#4D5663\"},\"title\":{\"font\":{\"color\":\"#4D5663\"},\"text\":\"\"},\"zerolinecolor\":\"#E1E5ED\"},\"yaxis\":{\"gridcolor\":\"#E1E5ED\",\"showgrid\":true,\"tickfont\":{\"color\":\"#4D5663\"},\"title\":{\"font\":{\"color\":\"#4D5663\"},\"text\":\"\"},\"zerolinecolor\":\"#E1E5ED\"}},                        {\"showLink\": true, \"linkText\": \"Export to plot.ly\", \"plotlyServerURL\": \"https://plot.ly\", \"responsive\": true}                    ).then(function(){\n",
       "                            \n",
       "var gd = document.getElementById('16e24520-0e04-45bb-ab9f-5eab4bd026b7');\n",
       "var x = new MutationObserver(function (mutations, observer) {{\n",
       "        var display = window.getComputedStyle(gd).display;\n",
       "        if (!display || display === 'none') {{\n",
       "            console.log([gd, 'removed!']);\n",
       "            Plotly.purge(gd);\n",
       "            observer.disconnect();\n",
       "        }}\n",
       "}});\n",
       "\n",
       "// Listen for the removal of the full notebook cells\n",
       "var notebookContainer = gd.closest('#notebook-container');\n",
       "if (notebookContainer) {{\n",
       "    x.observe(notebookContainer, {childList: true});\n",
       "}}\n",
       "\n",
       "// Listen for the clearing of the current output cell\n",
       "var outputEl = gd.closest('.output');\n",
       "if (outputEl) {{\n",
       "    x.observe(outputEl, {childList: true});\n",
       "}}\n",
       "\n",
       "                        })                };                });            </script>        </div>"
      ]
     },
     "metadata": {},
     "output_type": "display_data"
    }
   ],
   "source": [
    "results.iplot()"
   ]
  },
  {
   "cell_type": "markdown",
   "id": "e7e2b455",
   "metadata": {
    "id": "e7e2b455"
   },
   "source": [
    "### Calificación de validate"
   ]
  },
  {
   "cell_type": "code",
   "execution_count": 42,
   "id": "6d66da39",
   "metadata": {
    "ExecuteTime": {
     "end_time": "2021-08-07T14:51:09.972217Z",
     "start_time": "2021-08-07T14:51:09.959035Z"
    },
    "id": "6d66da39",
    "outputId": "bdbf8308-7dc9-49b5-dd1c-54837ba1d6c9"
   },
   "outputs": [
    {
     "data": {
      "text/plain": [
       "['713',\n",
       " '729',\n",
       " '650',\n",
       " '000',\n",
       " '555',\n",
       " '724',\n",
       " '619',\n",
       " '708',\n",
       " '674',\n",
       " '900',\n",
       " '711',\n",
       " '500',\n",
       " '800',\n",
       " '731',\n",
       " '665',\n",
       " '663',\n",
       " '721',\n",
       " '712',\n",
       " '700',\n",
       " '722',\n",
       " '690',\n",
       " '716',\n",
       " '600',\n",
       " '944',\n",
       " '676',\n",
       " '693']"
      ]
     },
     "execution_count": 42,
     "metadata": {},
     "output_type": "execute_result"
    }
   ],
   "source": [
    "[x.split(\".\")[-2] for x in os.listdir(\"./models/\")]"
   ]
  },
  {
   "cell_type": "code",
   "execution_count": 43,
   "id": "7d7031a0",
   "metadata": {
    "ExecuteTime": {
     "end_time": "2021-08-07T14:51:19.818784Z",
     "start_time": "2021-08-07T14:51:19.813438Z"
    },
    "id": "7d7031a0"
   },
   "outputs": [],
   "source": [
    "max_acc = max([x.split(\".\")[-2] for x in os.listdir(\"./models/\")])"
   ]
  },
  {
   "cell_type": "code",
   "execution_count": 44,
   "id": "5340b25e",
   "metadata": {
    "ExecuteTime": {
     "end_time": "2021-08-07T14:51:23.175038Z",
     "start_time": "2021-08-07T14:51:23.170199Z"
    },
    "id": "5340b25e",
    "outputId": "f61ffc42-525c-4a44-e856-f825da838c8f"
   },
   "outputs": [
    {
     "data": {
      "text/plain": [
       "'944'"
      ]
     },
     "execution_count": 44,
     "metadata": {},
     "output_type": "execute_result"
    }
   ],
   "source": [
    "max_acc"
   ]
  },
  {
   "cell_type": "code",
   "execution_count": 45,
   "id": "9819613a",
   "metadata": {
    "ExecuteTime": {
     "end_time": "2021-08-07T14:51:41.639898Z",
     "start_time": "2021-08-07T14:51:40.224485Z"
    },
    "id": "9819613a"
   },
   "outputs": [],
   "source": [
    "#model = tf.keras.models.load_model(f'./models/model_0.{max_acc}.h5')"
   ]
  },
  {
   "cell_type": "code",
   "execution_count": 46,
   "id": "cf1167c2",
   "metadata": {
    "ExecuteTime": {
     "end_time": "2021-08-07T14:52:33.122902Z",
     "start_time": "2021-08-07T14:52:04.911141Z"
    },
    "id": "cf1167c2",
    "outputId": "21359f1e-d29a-460c-a6dd-c4065bedcb4b"
   },
   "outputs": [
    {
     "name": "stdout",
     "output_type": "stream",
     "text": [
      "1/1 [==============================] - 0s 410ms/step - loss: 0.1173 - accuracy: 0.9200\n",
      "Test loss: 0.1172674372792244 Test Acc: 0.9200000166893005\n"
     ]
    }
   ],
   "source": [
    "test_loss, test_acc = model.evaluate(test_generator)\n",
    "print('Test loss: {} Test Acc: {}'.format(test_loss, test_acc))"
   ]
  },
  {
   "cell_type": "markdown",
   "id": "00b2606c",
   "metadata": {
    "id": "00b2606c"
   },
   "source": [
    "### Prediciendo con una nueva imágen"
   ]
  },
  {
   "cell_type": "code",
   "execution_count": 58,
   "id": "8c320c98",
   "metadata": {
    "ExecuteTime": {
     "end_time": "2021-08-07T14:52:39.881908Z",
     "start_time": "2021-08-07T14:52:39.861552Z"
    },
    "id": "8c320c98"
   },
   "outputs": [],
   "source": [
    "test_image = load_img('/home/balvirde/Documentos/Prueba/phone91.jpg',\n",
    "                            target_size=(200,200))"
   ]
  },
  {
   "cell_type": "code",
   "execution_count": 59,
   "id": "c1caec1f",
   "metadata": {
    "ExecuteTime": {
     "end_time": "2021-08-07T14:53:04.572218Z",
     "start_time": "2021-08-07T14:53:04.569210Z"
    },
    "id": "c1caec1f"
   },
   "outputs": [],
   "source": [
    "images = img_to_array(test_image)"
   ]
  },
  {
   "cell_type": "code",
   "execution_count": 60,
   "id": "ccfae277",
   "metadata": {
    "ExecuteTime": {
     "end_time": "2021-08-07T14:53:10.320255Z",
     "start_time": "2021-08-07T14:53:10.312713Z"
    },
    "id": "ccfae277",
    "outputId": "e0d0bc5d-5950-45ed-f3fc-3320cb4ed6af"
   },
   "outputs": [
    {
     "data": {
      "text/plain": [
       "(200, 200, 3)"
      ]
     },
     "execution_count": 60,
     "metadata": {},
     "output_type": "execute_result"
    }
   ],
   "source": [
    "images.shape"
   ]
  },
  {
   "cell_type": "code",
   "execution_count": 61,
   "id": "f9426229",
   "metadata": {
    "ExecuteTime": {
     "end_time": "2021-08-07T14:53:37.673815Z",
     "start_time": "2021-08-07T14:53:37.665627Z"
    },
    "id": "f9426229"
   },
   "outputs": [],
   "source": [
    "images = np.expand_dims(images, axis=0)"
   ]
  },
  {
   "cell_type": "code",
   "execution_count": 62,
   "id": "ab44fce5",
   "metadata": {
    "ExecuteTime": {
     "end_time": "2021-08-07T14:53:42.896962Z",
     "start_time": "2021-08-07T14:53:42.891356Z"
    },
    "id": "ab44fce5",
    "outputId": "10e39736-15a3-4b7d-fc21-8edb32bdb3f2"
   },
   "outputs": [
    {
     "data": {
      "text/plain": [
       "(1, 200, 200, 3)"
      ]
     },
     "execution_count": 62,
     "metadata": {},
     "output_type": "execute_result"
    }
   ],
   "source": [
    "images.shape"
   ]
  },
  {
   "cell_type": "code",
   "execution_count": 63,
   "id": "4f5cb305",
   "metadata": {
    "ExecuteTime": {
     "end_time": "2021-08-07T14:53:53.871591Z",
     "start_time": "2021-08-07T14:53:53.648809Z"
    },
    "id": "4f5cb305"
   },
   "outputs": [],
   "source": [
    "prediction = model.predict(images)"
   ]
  },
  {
   "cell_type": "code",
   "execution_count": 64,
   "id": "0f4f9228",
   "metadata": {
    "ExecuteTime": {
     "end_time": "2021-08-07T14:54:01.290925Z",
     "start_time": "2021-08-07T14:54:01.285711Z"
    },
    "id": "0f4f9228",
    "outputId": "a6087688-a876-4a8d-94fe-d2503c0ced44"
   },
   "outputs": [
    {
     "name": "stdout",
     "output_type": "stream",
     "text": [
      "No serviciable\n"
     ]
    }
   ],
   "source": [
    "if prediction == 0:\n",
    "    print('No serviciable')\n",
    "else:\n",
    "    print('Serviciable')"
   ]
  },
  {
   "cell_type": "code",
   "execution_count": 65,
   "id": "566e78bc",
   "metadata": {
    "ExecuteTime": {
     "end_time": "2021-08-07T15:02:16.586205Z",
     "start_time": "2021-08-07T15:02:15.112825Z"
    },
    "id": "566e78bc"
   },
   "outputs": [],
   "source": [
    "model.save(\"cnn_phone.h5\")"
   ]
  },
  {
   "cell_type": "code",
   "execution_count": null,
   "id": "9cc207cd",
   "metadata": {
    "id": "9cc207cd"
   },
   "outputs": [],
   "source": []
  }
 ],
 "metadata": {
  "colab": {
   "name": "COVID-19 CNN.ipynb",
   "provenance": []
  },
  "kernelspec": {
   "display_name": "Python 3",
   "language": "python",
   "name": "python3"
  },
  "language_info": {
   "codemirror_mode": {
    "name": "ipython",
    "version": 3
   },
   "file_extension": ".py",
   "mimetype": "text/x-python",
   "name": "python",
   "nbconvert_exporter": "python",
   "pygments_lexer": "ipython3",
   "version": "3.8.10"
  }
 },
 "nbformat": 4,
 "nbformat_minor": 5
}
