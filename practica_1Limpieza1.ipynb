{
 "cells": [
  {
   "cell_type": "markdown",
   "metadata": {},
   "source": [
    "# Práctica 1"
   ]
  },
  {
   "cell_type": "code",
   "execution_count": 1,
   "metadata": {
    "ExecuteTime": {
     "end_time": "2021-01-19T08:22:06.349066Z",
     "start_time": "2021-01-19T08:22:05.304362Z"
    }
   },
   "outputs": [],
   "source": [
    "#Librerias Necesarias\n",
    "import pandas as pd\n",
    "import numpy as np\n",
    "import unicodedata\n",
    "import re"
   ]
  },
  {
   "cell_type": "code",
   "execution_count": 2,
   "metadata": {
    "ExecuteTime": {
     "end_time": "2021-01-19T08:22:06.358423Z",
     "start_time": "2021-01-19T08:22:06.350918Z"
    }
   },
   "outputs": [],
   "source": [
    "#Funciones\n",
    "def raname_columns(df,feats,prefix):\n",
    "    feats_new=[prefix+x for x in feats]\n",
    "    df=df.rename(columns=dict(zip(feats,feats_new)))\n",
    "    return df\n",
    "\n",
    "def completitud(df):\n",
    "    comp=pd.DataFrame(df.isnull().sum())\n",
    "    comp.reset_index(inplace=True)\n",
    "    comp=comp.rename(columns={\"index\":\"columna\",0:\"total\"})\n",
    "    comp[\"completitud\"]=(1-comp[\"total\"]/df.shape[0])*100\n",
    "    comp=comp.sort_values(by=\"completitud\",ascending=True)\n",
    "    comp.reset_index(drop=True,inplace=True)\n",
    "    return comp\n",
    "#Funcion para limpiar caracteres especiales\n",
    "def clean_text(text, pattern=\"[^a-zA-Z0-9 ]\",replace=\" \"):\n",
    "    cleaned_text = unicodedata.normalize('NFD', text).encode('ascii', 'ignore')\n",
    "    cleaned_text = re.sub(pattern, replace, cleaned_text.decode(\"utf-8\"), flags=re.UNICODE)\n",
    "    cleaned_text = u' '.join(cleaned_text.strip().lower().split())\n",
    "    return cleaned_text"
   ]
  },
  {
   "cell_type": "code",
   "execution_count": 3,
   "metadata": {
    "ExecuteTime": {
     "end_time": "2021-01-19T08:22:07.200398Z",
     "start_time": "2021-01-19T08:22:06.362694Z"
    }
   },
   "outputs": [
    {
     "name": "stderr",
     "output_type": "stream",
     "text": [
      "/home/carlita/envs/diplomado/lib/python3.6/site-packages/IPython/core/interactiveshell.py:3072: DtypeWarning: Columns (18,19) have mixed types.Specify dtype option on import or set low_memory=False.\n",
      "  interactivity=interactivity, compiler=compiler, result=result)\n"
     ]
    }
   ],
   "source": [
    "#Datasets\n",
    "df=pd.read_csv(\"spotify_practica.csv\")\n",
    "zips=pd.read_csv(\"zips_practica.csv\")"
   ]
  },
  {
   "cell_type": "markdown",
   "metadata": {},
   "source": [
    "<h2 style=\"color:green\">(a) Realiza el etiquetado de las variables de acuerdo a su tipo de variable <h2/>"
   ]
  },
  {
   "cell_type": "code",
   "execution_count": 4,
   "metadata": {
    "ExecuteTime": {
     "end_time": "2021-01-19T08:22:07.217170Z",
     "start_time": "2021-01-19T08:22:07.201999Z"
    }
   },
   "outputs": [
    {
     "data": {
      "text/plain": [
       "0.0      27183\n",
       "42.0      3202\n",
       "43.0      3048\n",
       "40.0      3002\n",
       "44.0      2976\n",
       "         ...  \n",
       "93.0         3\n",
       "97.0         1\n",
       "99.0         1\n",
       "96.0         1\n",
       "100.0        1\n",
       "Name: popularity, Length: 100, dtype: int64"
      ]
     },
     "execution_count": 4,
     "metadata": {},
     "output_type": "execute_result"
    }
   ],
   "source": [
    "df[\"popularity\"].value_counts()"
   ]
  },
  {
   "cell_type": "code",
   "execution_count": 5,
   "metadata": {
    "ExecuteTime": {
     "end_time": "2021-01-19T08:22:07.373139Z",
     "start_time": "2021-01-19T08:22:07.219529Z"
    }
   },
   "outputs": [],
   "source": [
    "#Continuas\n",
    "c_feats=[\"duration_ms\",\"loudness\",\"tempo\",\"speechiness\",\"acousticness\",\"danceability\",\n",
    "        \"energy\",\"instrumentalness\",\"liveness\",\"valence\",\"zip Code\"]\n",
    "#Discretas\n",
    "v_feats=[\"explicit\",\"key\",\"mode\",\"popularity\",\"genero\"]\n",
    "#Fechas\n",
    "d_feats=[\"release_date\"] \n",
    "#Texto\n",
    "t_feats=[\"artists\",\"name\"] \n",
    "\n",
    "df=raname_columns(df,c_feats,\"c_\")\n",
    "df=raname_columns(df,v_feats,\"v_\")\n",
    "df=raname_columns(df,t_feats,\"t_\")\n",
    "df=raname_columns(df,d_feats,\"d_\")\n"
   ]
  },
  {
   "cell_type": "code",
   "execution_count": 6,
   "metadata": {
    "ExecuteTime": {
     "end_time": "2021-01-19T08:22:07.394709Z",
     "start_time": "2021-01-19T08:22:07.374495Z"
    }
   },
   "outputs": [
    {
     "data": {
      "text/html": [
       "<div>\n",
       "<style scoped>\n",
       "    .dataframe tbody tr th:only-of-type {\n",
       "        vertical-align: middle;\n",
       "    }\n",
       "\n",
       "    .dataframe tbody tr th {\n",
       "        vertical-align: top;\n",
       "    }\n",
       "\n",
       "    .dataframe thead th {\n",
       "        text-align: right;\n",
       "    }\n",
       "</style>\n",
       "<table border=\"1\" class=\"dataframe\">\n",
       "  <thead>\n",
       "    <tr style=\"text-align: right;\">\n",
       "      <th></th>\n",
       "      <th>c_acousticness</th>\n",
       "      <th>t_artists</th>\n",
       "      <th>c_danceability</th>\n",
       "      <th>c_duration_ms</th>\n",
       "      <th>c_energy</th>\n",
       "      <th>v_explicit</th>\n",
       "      <th>id</th>\n",
       "      <th>c_instrumentalness</th>\n",
       "      <th>v_key</th>\n",
       "      <th>c_liveness</th>\n",
       "      <th>c_loudness</th>\n",
       "      <th>v_mode</th>\n",
       "      <th>t_name</th>\n",
       "      <th>v_popularity</th>\n",
       "      <th>d_release_date</th>\n",
       "      <th>c_speechiness</th>\n",
       "      <th>c_tempo</th>\n",
       "      <th>c_valence</th>\n",
       "      <th>c_zip Code</th>\n",
       "      <th>v_genero</th>\n",
       "    </tr>\n",
       "  </thead>\n",
       "  <tbody>\n",
       "    <tr>\n",
       "      <th>0</th>\n",
       "      <td>0.764</td>\n",
       "      <td>['Shel Silverstein']</td>\n",
       "      <td>0.669</td>\n",
       "      <td>210387</td>\n",
       "      <td>0.1720</td>\n",
       "      <td>NaN</td>\n",
       "      <td>1r3N7MoEGPHJyCjBlWCsx3</td>\n",
       "      <td>0.000000</td>\n",
       "      <td>2.0</td>\n",
       "      <td>0.1280</td>\n",
       "      <td>-13.075</td>\n",
       "      <td>1</td>\n",
       "      <td>The Unicorn</td>\n",
       "      <td>12.0</td>\n",
       "      <td>1962-10-13 00:00:00</td>\n",
       "      <td>0.3270</td>\n",
       "      <td>97.079</td>\n",
       "      <td>0.333</td>\n",
       "      <td>38ee029</td>\n",
       "      <td>NaN</td>\n",
       "    </tr>\n",
       "    <tr>\n",
       "      <th>1</th>\n",
       "      <td>0.917</td>\n",
       "      <td>['Mose Allison']</td>\n",
       "      <td>0.693</td>\n",
       "      <td>149547</td>\n",
       "      <td>0.2410</td>\n",
       "      <td>NaN</td>\n",
       "      <td>2RL8EkOOu0QhAikhUUvIRi</td>\n",
       "      <td>0.000014</td>\n",
       "      <td>NaN</td>\n",
       "      <td>0.0824</td>\n",
       "      <td>-14.605</td>\n",
       "      <td>0</td>\n",
       "      <td>If You Live</td>\n",
       "      <td>19.0</td>\n",
       "      <td>1963-04-14 00:00:00</td>\n",
       "      <td>0.0350</td>\n",
       "      <td>120.890</td>\n",
       "      <td>0.715</td>\n",
       "      <td>9p2304</td>\n",
       "      <td>NaN</td>\n",
       "    </tr>\n",
       "    <tr>\n",
       "      <th>2</th>\n",
       "      <td>0.926</td>\n",
       "      <td>['水柳仙']</td>\n",
       "      <td>0.183</td>\n",
       "      <td>207173</td>\n",
       "      <td>0.0854</td>\n",
       "      <td>0.0</td>\n",
       "      <td>3kKKEghp2EMh8992pWFylr</td>\n",
       "      <td>0.704000</td>\n",
       "      <td>7.0</td>\n",
       "      <td>0.1120</td>\n",
       "      <td>-26.598</td>\n",
       "      <td>1</td>\n",
       "      <td>鴛鴦夢</td>\n",
       "      <td>23.0</td>\n",
       "      <td>1963-11-14 00:00:00</td>\n",
       "      <td>0.0392</td>\n",
       "      <td>101.482</td>\n",
       "      <td>0.131</td>\n",
       "      <td>2166ee6</td>\n",
       "      <td>NaN</td>\n",
       "    </tr>\n",
       "    <tr>\n",
       "      <th>3</th>\n",
       "      <td>0.976</td>\n",
       "      <td>['Dean Martin']</td>\n",
       "      <td>0.472</td>\n",
       "      <td>182653</td>\n",
       "      <td>0.0314</td>\n",
       "      <td>NaN</td>\n",
       "      <td>0j3ideT0tRuIyRhOOUQjYa</td>\n",
       "      <td>0.000015</td>\n",
       "      <td>7.0</td>\n",
       "      <td>0.1500</td>\n",
       "      <td>-18.006</td>\n",
       "      <td>1</td>\n",
       "      <td>Fools Rush In</td>\n",
       "      <td>21.0</td>\n",
       "      <td>1964-06-07 00:00:00</td>\n",
       "      <td>0.0364</td>\n",
       "      <td>135.555</td>\n",
       "      <td>0.194</td>\n",
       "      <td>67t06</td>\n",
       "      <td>NaN</td>\n",
       "    </tr>\n",
       "    <tr>\n",
       "      <th>4</th>\n",
       "      <td>0.892</td>\n",
       "      <td>['Doris Day']</td>\n",
       "      <td>0.243</td>\n",
       "      <td>171400</td>\n",
       "      <td>0.3360</td>\n",
       "      <td>NaN</td>\n",
       "      <td>0od9zbD6Bcc8b7dCMRFWBZ</td>\n",
       "      <td>0.000049</td>\n",
       "      <td>2.0</td>\n",
       "      <td>0.1310</td>\n",
       "      <td>-9.812</td>\n",
       "      <td>0</td>\n",
       "      <td>The Christmas Waltz</td>\n",
       "      <td>22.0</td>\n",
       "      <td>1964-08-07 00:00:00</td>\n",
       "      <td>0.0282</td>\n",
       "      <td>89.158</td>\n",
       "      <td>0.238</td>\n",
       "      <td>804p53</td>\n",
       "      <td>NaN</td>\n",
       "    </tr>\n",
       "  </tbody>\n",
       "</table>\n",
       "</div>"
      ],
      "text/plain": [
       "   c_acousticness             t_artists  c_danceability  c_duration_ms  \\\n",
       "0           0.764  ['Shel Silverstein']           0.669         210387   \n",
       "1           0.917      ['Mose Allison']           0.693         149547   \n",
       "2           0.926               ['水柳仙']           0.183         207173   \n",
       "3           0.976       ['Dean Martin']           0.472         182653   \n",
       "4           0.892         ['Doris Day']           0.243         171400   \n",
       "\n",
       "   c_energy  v_explicit                      id  c_instrumentalness  v_key  \\\n",
       "0    0.1720         NaN  1r3N7MoEGPHJyCjBlWCsx3            0.000000    2.0   \n",
       "1    0.2410         NaN  2RL8EkOOu0QhAikhUUvIRi            0.000014    NaN   \n",
       "2    0.0854         0.0  3kKKEghp2EMh8992pWFylr            0.704000    7.0   \n",
       "3    0.0314         NaN  0j3ideT0tRuIyRhOOUQjYa            0.000015    7.0   \n",
       "4    0.3360         NaN  0od9zbD6Bcc8b7dCMRFWBZ            0.000049    2.0   \n",
       "\n",
       "   c_liveness  c_loudness  v_mode               t_name  v_popularity  \\\n",
       "0      0.1280     -13.075       1          The Unicorn          12.0   \n",
       "1      0.0824     -14.605       0          If You Live          19.0   \n",
       "2      0.1120     -26.598       1                  鴛鴦夢          23.0   \n",
       "3      0.1500     -18.006       1        Fools Rush In          21.0   \n",
       "4      0.1310      -9.812       0  The Christmas Waltz          22.0   \n",
       "\n",
       "        d_release_date  c_speechiness  c_tempo  c_valence c_zip Code v_genero  \n",
       "0  1962-10-13 00:00:00         0.3270   97.079      0.333    38ee029      NaN  \n",
       "1  1963-04-14 00:00:00         0.0350  120.890      0.715     9p2304      NaN  \n",
       "2  1963-11-14 00:00:00         0.0392  101.482      0.131    2166ee6      NaN  \n",
       "3  1964-06-07 00:00:00         0.0364  135.555      0.194      67t06      NaN  \n",
       "4  1964-08-07 00:00:00         0.0282   89.158      0.238     804p53      NaN  "
      ]
     },
     "execution_count": 6,
     "metadata": {},
     "output_type": "execute_result"
    }
   ],
   "source": [
    "df.head()"
   ]
  },
  {
   "cell_type": "markdown",
   "metadata": {},
   "source": [
    "<h2 style=\"color:green\">(b) Eliminar duplicados <h2/>"
   ]
  },
  {
   "cell_type": "code",
   "execution_count": 7,
   "metadata": {
    "ExecuteTime": {
     "end_time": "2021-01-19T08:22:07.699531Z",
     "start_time": "2021-01-19T08:22:07.396370Z"
    },
    "scrolled": true
   },
   "outputs": [
    {
     "data": {
      "text/plain": [
       "364"
      ]
     },
     "execution_count": 7,
     "metadata": {},
     "output_type": "execute_result"
    }
   ],
   "source": [
    "#Número de Duplicados \n",
    "df.duplicated().sum()"
   ]
  },
  {
   "cell_type": "code",
   "execution_count": 8,
   "metadata": {
    "ExecuteTime": {
     "end_time": "2021-01-19T08:22:07.994798Z",
     "start_time": "2021-01-19T08:22:07.701168Z"
    }
   },
   "outputs": [],
   "source": [
    "#Eliminar duplicados\n",
    "df.drop_duplicates(inplace=True)"
   ]
  },
  {
   "cell_type": "code",
   "execution_count": 9,
   "metadata": {
    "ExecuteTime": {
     "end_time": "2021-01-19T08:22:08.038254Z",
     "start_time": "2021-01-19T08:22:07.996766Z"
    }
   },
   "outputs": [
    {
     "data": {
      "text/plain": [
       "76"
      ]
     },
     "execution_count": 9,
     "metadata": {},
     "output_type": "execute_result"
    }
   ],
   "source": [
    "#Duplicados por id\n",
    "df.duplicated(subset=['id']).sum()"
   ]
  },
  {
   "cell_type": "code",
   "execution_count": 10,
   "metadata": {
    "ExecuteTime": {
     "end_time": "2021-01-19T08:22:08.148146Z",
     "start_time": "2021-01-19T08:22:08.039975Z"
    }
   },
   "outputs": [],
   "source": [
    "#Eliminar uplicados por id\n",
    "df.drop_duplicates(subset=['id'],inplace=True)"
   ]
  },
  {
   "cell_type": "code",
   "execution_count": 11,
   "metadata": {
    "ExecuteTime": {
     "end_time": "2021-01-19T08:22:08.158256Z",
     "start_time": "2021-01-19T08:22:08.149534Z"
    }
   },
   "outputs": [],
   "source": [
    "df.reset_index(drop=True,inplace=True)"
   ]
  },
  {
   "cell_type": "markdown",
   "metadata": {},
   "source": [
    "<h2 style=\"color:green\">(c) Completitud<h2/>"
   ]
  },
  {
   "cell_type": "code",
   "execution_count": 12,
   "metadata": {
    "ExecuteTime": {
     "end_time": "2021-01-19T08:22:08.277076Z",
     "start_time": "2021-01-19T08:22:08.159941Z"
    },
    "scrolled": true
   },
   "outputs": [
    {
     "data": {
      "text/html": [
       "<div>\n",
       "<style scoped>\n",
       "    .dataframe tbody tr th:only-of-type {\n",
       "        vertical-align: middle;\n",
       "    }\n",
       "\n",
       "    .dataframe tbody tr th {\n",
       "        vertical-align: top;\n",
       "    }\n",
       "\n",
       "    .dataframe thead th {\n",
       "        text-align: right;\n",
       "    }\n",
       "</style>\n",
       "<table border=\"1\" class=\"dataframe\">\n",
       "  <thead>\n",
       "    <tr style=\"text-align: right;\">\n",
       "      <th></th>\n",
       "      <th>columna</th>\n",
       "      <th>total</th>\n",
       "      <th>completitud</th>\n",
       "    </tr>\n",
       "  </thead>\n",
       "  <tbody>\n",
       "    <tr>\n",
       "      <th>0</th>\n",
       "      <td>v_explicit</td>\n",
       "      <td>62883</td>\n",
       "      <td>62.990189</td>\n",
       "    </tr>\n",
       "    <tr>\n",
       "      <th>1</th>\n",
       "      <td>v_key</td>\n",
       "      <td>35746</td>\n",
       "      <td>78.961679</td>\n",
       "    </tr>\n",
       "    <tr>\n",
       "      <th>2</th>\n",
       "      <td>v_popularity</td>\n",
       "      <td>3500</td>\n",
       "      <td>97.940074</td>\n",
       "    </tr>\n",
       "    <tr>\n",
       "      <th>3</th>\n",
       "      <td>v_genero</td>\n",
       "      <td>1698</td>\n",
       "      <td>99.000642</td>\n",
       "    </tr>\n",
       "    <tr>\n",
       "      <th>4</th>\n",
       "      <td>c_valence</td>\n",
       "      <td>0</td>\n",
       "      <td>100.000000</td>\n",
       "    </tr>\n",
       "    <tr>\n",
       "      <th>5</th>\n",
       "      <td>c_tempo</td>\n",
       "      <td>0</td>\n",
       "      <td>100.000000</td>\n",
       "    </tr>\n",
       "    <tr>\n",
       "      <th>6</th>\n",
       "      <td>c_speechiness</td>\n",
       "      <td>0</td>\n",
       "      <td>100.000000</td>\n",
       "    </tr>\n",
       "    <tr>\n",
       "      <th>7</th>\n",
       "      <td>d_release_date</td>\n",
       "      <td>0</td>\n",
       "      <td>100.000000</td>\n",
       "    </tr>\n",
       "    <tr>\n",
       "      <th>8</th>\n",
       "      <td>t_name</td>\n",
       "      <td>0</td>\n",
       "      <td>100.000000</td>\n",
       "    </tr>\n",
       "    <tr>\n",
       "      <th>9</th>\n",
       "      <td>v_mode</td>\n",
       "      <td>0</td>\n",
       "      <td>100.000000</td>\n",
       "    </tr>\n",
       "    <tr>\n",
       "      <th>10</th>\n",
       "      <td>c_acousticness</td>\n",
       "      <td>0</td>\n",
       "      <td>100.000000</td>\n",
       "    </tr>\n",
       "    <tr>\n",
       "      <th>11</th>\n",
       "      <td>c_zip Code</td>\n",
       "      <td>0</td>\n",
       "      <td>100.000000</td>\n",
       "    </tr>\n",
       "    <tr>\n",
       "      <th>12</th>\n",
       "      <td>c_instrumentalness</td>\n",
       "      <td>0</td>\n",
       "      <td>100.000000</td>\n",
       "    </tr>\n",
       "    <tr>\n",
       "      <th>13</th>\n",
       "      <td>id</td>\n",
       "      <td>0</td>\n",
       "      <td>100.000000</td>\n",
       "    </tr>\n",
       "    <tr>\n",
       "      <th>14</th>\n",
       "      <td>c_energy</td>\n",
       "      <td>0</td>\n",
       "      <td>100.000000</td>\n",
       "    </tr>\n",
       "    <tr>\n",
       "      <th>15</th>\n",
       "      <td>c_duration_ms</td>\n",
       "      <td>0</td>\n",
       "      <td>100.000000</td>\n",
       "    </tr>\n",
       "    <tr>\n",
       "      <th>16</th>\n",
       "      <td>c_danceability</td>\n",
       "      <td>0</td>\n",
       "      <td>100.000000</td>\n",
       "    </tr>\n",
       "    <tr>\n",
       "      <th>17</th>\n",
       "      <td>t_artists</td>\n",
       "      <td>0</td>\n",
       "      <td>100.000000</td>\n",
       "    </tr>\n",
       "    <tr>\n",
       "      <th>18</th>\n",
       "      <td>c_loudness</td>\n",
       "      <td>0</td>\n",
       "      <td>100.000000</td>\n",
       "    </tr>\n",
       "    <tr>\n",
       "      <th>19</th>\n",
       "      <td>c_liveness</td>\n",
       "      <td>0</td>\n",
       "      <td>100.000000</td>\n",
       "    </tr>\n",
       "  </tbody>\n",
       "</table>\n",
       "</div>"
      ],
      "text/plain": [
       "               columna  total  completitud\n",
       "0           v_explicit  62883    62.990189\n",
       "1                v_key  35746    78.961679\n",
       "2         v_popularity   3500    97.940074\n",
       "3             v_genero   1698    99.000642\n",
       "4            c_valence      0   100.000000\n",
       "5              c_tempo      0   100.000000\n",
       "6        c_speechiness      0   100.000000\n",
       "7       d_release_date      0   100.000000\n",
       "8               t_name      0   100.000000\n",
       "9               v_mode      0   100.000000\n",
       "10      c_acousticness      0   100.000000\n",
       "11          c_zip Code      0   100.000000\n",
       "12  c_instrumentalness      0   100.000000\n",
       "13                  id      0   100.000000\n",
       "14            c_energy      0   100.000000\n",
       "15       c_duration_ms      0   100.000000\n",
       "16      c_danceability      0   100.000000\n",
       "17           t_artists      0   100.000000\n",
       "18          c_loudness      0   100.000000\n",
       "19          c_liveness      0   100.000000"
      ]
     },
     "execution_count": 12,
     "metadata": {},
     "output_type": "execute_result"
    }
   ],
   "source": [
    "completitud(df)"
   ]
  },
  {
   "cell_type": "markdown",
   "metadata": {},
   "source": [
    "\n",
    "<h2 style=\"color:green\">(d) Elimina las variables que tengan el 20 % o mas de valores ausentes <h2/>\n"
   ]
  },
  {
   "cell_type": "code",
   "execution_count": 13,
   "metadata": {
    "ExecuteTime": {
     "end_time": "2021-01-19T08:22:08.367627Z",
     "start_time": "2021-01-19T08:22:08.343973Z"
    }
   },
   "outputs": [
    {
     "data": {
      "text/plain": [
       "(169909, 18)"
      ]
     },
     "execution_count": 13,
     "metadata": {},
     "output_type": "execute_result"
    }
   ],
   "source": [
    "#Columnas que tengan una completitud inferior al 80%\n",
    "df.drop(columns=[\"v_explicit\",\"v_key\"],inplace=True)\n",
    "df.shape"
   ]
  },
  {
   "cell_type": "markdown",
   "metadata": {},
   "source": [
    "<h2 style=\"color:green\">(e) ¿Cuantos de los registros en la variable ”zip Code” son valores no validos? , es decir, contienen letras<h2/>"
   ]
  },
  {
   "cell_type": "code",
   "execution_count": 14,
   "metadata": {
    "ExecuteTime": {
     "end_time": "2021-01-19T08:22:08.725124Z",
     "start_time": "2021-01-19T08:22:08.666137Z"
    }
   },
   "outputs": [
    {
     "data": {
      "text/plain": [
       "4341"
      ]
     },
     "execution_count": 14,
     "metadata": {},
     "output_type": "execute_result"
    }
   ],
   "source": [
    "#Registros que contienen letras\n",
    "df[~df[\"c_zip Code\"].map(lambda x:str(x).isdigit())].shape[0]"
   ]
  },
  {
   "cell_type": "code",
   "execution_count": 15,
   "metadata": {
    "ExecuteTime": {
     "end_time": "2021-01-19T08:22:08.924952Z",
     "start_time": "2021-01-19T08:22:08.837318Z"
    }
   },
   "outputs": [
    {
     "data": {
      "text/plain": [
       "165568"
      ]
     },
     "execution_count": 15,
     "metadata": {},
     "output_type": "execute_result"
    }
   ],
   "source": [
    "#Registros que no contienen letras\n",
    "df[df[\"c_zip Code\"].map(lambda x:str(x).isdigit())][\"c_zip Code\"].shape[0]"
   ]
  },
  {
   "cell_type": "markdown",
   "metadata": {},
   "source": [
    "<h2 style=\"color:green\">(f) Elimina los registros que no tengas un ”zip Code” valido, es decir contenga letras en los valores<h2/>"
   ]
  },
  {
   "cell_type": "code",
   "execution_count": 16,
   "metadata": {
    "ExecuteTime": {
     "end_time": "2021-01-19T08:22:09.245084Z",
     "start_time": "2021-01-19T08:22:09.140866Z"
    }
   },
   "outputs": [],
   "source": [
    "#Elimina los registros no validos\n",
    "df=df[df[\"c_zip Code\"].map(lambda x:str(x).isdigit())].reset_index(drop=True)"
   ]
  },
  {
   "cell_type": "code",
   "execution_count": 17,
   "metadata": {
    "ExecuteTime": {
     "end_time": "2021-01-19T08:22:09.351361Z",
     "start_time": "2021-01-19T08:22:09.347801Z"
    }
   },
   "outputs": [
    {
     "data": {
      "text/plain": [
       "(165568, 18)"
      ]
     },
     "execution_count": 17,
     "metadata": {},
     "output_type": "execute_result"
    }
   ],
   "source": [
    "df.shape"
   ]
  },
  {
   "cell_type": "markdown",
   "metadata": {},
   "source": [
    "<h2 style=\"color:green\">(g) ¿Cuantos de los registros en la variable ”genero” son valores no validos? , es decir, contienen letras<h2/>"
   ]
  },
  {
   "cell_type": "code",
   "execution_count": 18,
   "metadata": {
    "ExecuteTime": {
     "end_time": "2021-01-19T08:22:09.688320Z",
     "start_time": "2021-01-19T08:22:09.656325Z"
    }
   },
   "outputs": [],
   "source": [
    "aux1=df[df[\"v_genero\"].isnull()]\n",
    "aux2=df[df[\"v_genero\"].notnull()]"
   ]
  },
  {
   "cell_type": "code",
   "execution_count": 19,
   "metadata": {
    "ExecuteTime": {
     "end_time": "2021-01-19T08:22:10.007019Z",
     "start_time": "2021-01-19T08:22:09.822526Z"
    },
    "scrolled": true
   },
   "outputs": [
    {
     "data": {
      "text/html": [
       "<div>\n",
       "<style scoped>\n",
       "    .dataframe tbody tr th:only-of-type {\n",
       "        vertical-align: middle;\n",
       "    }\n",
       "\n",
       "    .dataframe tbody tr th {\n",
       "        vertical-align: top;\n",
       "    }\n",
       "\n",
       "    .dataframe thead th {\n",
       "        text-align: right;\n",
       "    }\n",
       "</style>\n",
       "<table border=\"1\" class=\"dataframe\">\n",
       "  <thead>\n",
       "    <tr style=\"text-align: right;\">\n",
       "      <th></th>\n",
       "      <th>c_acousticness</th>\n",
       "      <th>t_artists</th>\n",
       "      <th>c_danceability</th>\n",
       "      <th>c_duration_ms</th>\n",
       "      <th>c_energy</th>\n",
       "      <th>id</th>\n",
       "      <th>c_instrumentalness</th>\n",
       "      <th>c_liveness</th>\n",
       "      <th>c_loudness</th>\n",
       "      <th>v_mode</th>\n",
       "      <th>t_name</th>\n",
       "      <th>v_popularity</th>\n",
       "      <th>d_release_date</th>\n",
       "      <th>c_speechiness</th>\n",
       "      <th>c_tempo</th>\n",
       "      <th>c_valence</th>\n",
       "      <th>c_zip Code</th>\n",
       "      <th>v_genero</th>\n",
       "    </tr>\n",
       "  </thead>\n",
       "  <tbody>\n",
       "    <tr>\n",
       "      <th>7</th>\n",
       "      <td>0.000186</td>\n",
       "      <td>['Green Day']</td>\n",
       "      <td>0.494</td>\n",
       "      <td>128200</td>\n",
       "      <td>0.9320</td>\n",
       "      <td>2uARrCX71Zl7JspUN2KuPZ</td>\n",
       "      <td>0.00004</td>\n",
       "      <td>0.0248</td>\n",
       "      <td>-4.606</td>\n",
       "      <td>0</td>\n",
       "      <td>Bab's Uvula Who?</td>\n",
       "      <td>NaN</td>\n",
       "      <td>1995-01-18 00:00:00</td>\n",
       "      <td>0.0542</td>\n",
       "      <td>96.215</td>\n",
       "      <td>0.9720</td>\n",
       "      <td>74023</td>\n",
       "      <td>Часть 2.3 &amp; Часть 3.1</td>\n",
       "    </tr>\n",
       "    <tr>\n",
       "      <th>41</th>\n",
       "      <td>0.887000</td>\n",
       "      <td>['Max Bruch', 'Yehudi Menuhin', 'Charles Münch']</td>\n",
       "      <td>0.225</td>\n",
       "      <td>466440</td>\n",
       "      <td>0.3070</td>\n",
       "      <td>31VWjwLGWFmEV99kR2fOTF</td>\n",
       "      <td>0.55100</td>\n",
       "      <td>0.1180</td>\n",
       "      <td>-15.181</td>\n",
       "      <td>1</td>\n",
       "      <td>Violin Concerto No. 1 in G Minor, Op. 26: II. ...</td>\n",
       "      <td>0.0</td>\n",
       "      <td>1945-07-15 00:00:00</td>\n",
       "      <td>0.0406</td>\n",
       "      <td>102.523</td>\n",
       "      <td>0.1480</td>\n",
       "      <td>54889</td>\n",
       "      <td>3. Sure</td>\n",
       "    </tr>\n",
       "    <tr>\n",
       "      <th>1644</th>\n",
       "      <td>0.994000</td>\n",
       "      <td>['Robert Schumann', 'Vladimir Horowitz']</td>\n",
       "      <td>0.379</td>\n",
       "      <td>282133</td>\n",
       "      <td>0.0135</td>\n",
       "      <td>6KuQTIu1KoTTkLXKrwlLPV</td>\n",
       "      <td>0.90100</td>\n",
       "      <td>0.0763</td>\n",
       "      <td>-28.454</td>\n",
       "      <td>1</td>\n",
       "      <td>Fantasiestücke, Op. 111: Più tosto lento</td>\n",
       "      <td>0.0</td>\n",
       "      <td>1928-11-13 00:00:00</td>\n",
       "      <td>0.0462</td>\n",
       "      <td>83.972</td>\n",
       "      <td>0.0767</td>\n",
       "      <td>81655</td>\n",
       "      <td>Bebamos Juntos</td>\n",
       "    </tr>\n",
       "    <tr>\n",
       "      <th>1645</th>\n",
       "      <td>0.995000</td>\n",
       "      <td>['Francisco Canaro']</td>\n",
       "      <td>0.781</td>\n",
       "      <td>180760</td>\n",
       "      <td>0.1300</td>\n",
       "      <td>6M94FkXd15sOAOQYRnWPN8</td>\n",
       "      <td>0.88700</td>\n",
       "      <td>0.1110</td>\n",
       "      <td>-14.734</td>\n",
       "      <td>0</td>\n",
       "      <td>Bebamos Juntos - Instrumental (Remasterizado)</td>\n",
       "      <td>0.0</td>\n",
       "      <td>1928-04-13 00:00:00</td>\n",
       "      <td>0.0926</td>\n",
       "      <td>108.003</td>\n",
       "      <td>0.7200</td>\n",
       "      <td>75605</td>\n",
       "      <td>Cristian</td>\n",
       "    </tr>\n",
       "    <tr>\n",
       "      <th>1646</th>\n",
       "      <td>0.995000</td>\n",
       "      <td>['Felix Mendelssohn', 'Vladimir Horowitz']</td>\n",
       "      <td>0.424</td>\n",
       "      <td>352600</td>\n",
       "      <td>0.1200</td>\n",
       "      <td>6NxAf7M8DNHOBTmEd3JSO5</td>\n",
       "      <td>0.91100</td>\n",
       "      <td>0.0915</td>\n",
       "      <td>-19.242</td>\n",
       "      <td>0</td>\n",
       "      <td>Scherzo a capriccio: Presto</td>\n",
       "      <td>NaN</td>\n",
       "      <td>1928-04-10 00:00:00</td>\n",
       "      <td>0.0593</td>\n",
       "      <td>63.521</td>\n",
       "      <td>0.2660</td>\n",
       "      <td>16370</td>\n",
       "      <td>2Woitschach</td>\n",
       "    </tr>\n",
       "    <tr>\n",
       "      <th>1647</th>\n",
       "      <td>0.988000</td>\n",
       "      <td>['Carl Woitschach']</td>\n",
       "      <td>0.555</td>\n",
       "      <td>153967</td>\n",
       "      <td>0.4210</td>\n",
       "      <td>6OJjveoYwJdIt76y0Pxpxw</td>\n",
       "      <td>0.83600</td>\n",
       "      <td>0.1050</td>\n",
       "      <td>-9.878</td>\n",
       "      <td>1</td>\n",
       "      <td>Per aspera ad astra</td>\n",
       "      <td>0.0</td>\n",
       "      <td>1928-10-03 00:00:00</td>\n",
       "      <td>0.0474</td>\n",
       "      <td>123.310</td>\n",
       "      <td>0.8570</td>\n",
       "      <td>61274</td>\n",
       "      <td>Fantasiestücke</td>\n",
       "    </tr>\n",
       "    <tr>\n",
       "      <th>1648</th>\n",
       "      <td>0.990000</td>\n",
       "      <td>['Samuel Barber', 'Vladimir Horowitz']</td>\n",
       "      <td>0.359</td>\n",
       "      <td>338333</td>\n",
       "      <td>0.0435</td>\n",
       "      <td>6QgdUySTRGVkNo3KwbHpK3</td>\n",
       "      <td>0.89900</td>\n",
       "      <td>0.1090</td>\n",
       "      <td>-20.858</td>\n",
       "      <td>1</td>\n",
       "      <td>Piano Sonata in E-Flat Minor, Op. 26: III. Ada...</td>\n",
       "      <td>0.0</td>\n",
       "      <td>1928-03-16 00:00:00</td>\n",
       "      <td>0.0424</td>\n",
       "      <td>96.645</td>\n",
       "      <td>0.0420</td>\n",
       "      <td>68875</td>\n",
       "      <td>Polonaise</td>\n",
       "    </tr>\n",
       "    <tr>\n",
       "      <th>1649</th>\n",
       "      <td>0.975000</td>\n",
       "      <td>['Frédéric Chopin', 'Vladimir Horowitz']</td>\n",
       "      <td>0.277</td>\n",
       "      <td>245440</td>\n",
       "      <td>0.0900</td>\n",
       "      <td>6VUm7Dg5sufmG01IYcoJE3</td>\n",
       "      <td>0.94900</td>\n",
       "      <td>0.1250</td>\n",
       "      <td>-26.188</td>\n",
       "      <td>1</td>\n",
       "      <td>Andante spianato in E-Flat Major, Op. 22</td>\n",
       "      <td>0.0</td>\n",
       "      <td>1928-03-01 00:00:00</td>\n",
       "      <td>0.0316</td>\n",
       "      <td>105.031</td>\n",
       "      <td>0.1680</td>\n",
       "      <td>99009</td>\n",
       "      <td>6N6tiFZ9vLTSOIxkj8qKrd</td>\n",
       "    </tr>\n",
       "    <tr>\n",
       "      <th>1650</th>\n",
       "      <td>0.987000</td>\n",
       "      <td>['Samuel Barber', 'Vladimir Horowitz']</td>\n",
       "      <td>0.242</td>\n",
       "      <td>115627</td>\n",
       "      <td>0.1490</td>\n",
       "      <td>6v13FCz4z385EbNyPaXYCU</td>\n",
       "      <td>0.87700</td>\n",
       "      <td>0.1340</td>\n",
       "      <td>-26.742</td>\n",
       "      <td>1</td>\n",
       "      <td>Piano Sonata in E-Flat Minor, Op. 26: II. Alle...</td>\n",
       "      <td>0.0</td>\n",
       "      <td>1928-09-24 00:00:00</td>\n",
       "      <td>0.0369</td>\n",
       "      <td>88.188</td>\n",
       "      <td>0.2790</td>\n",
       "      <td>55066</td>\n",
       "      <td>6L63VW0PibdM1HDSBoqnoM</td>\n",
       "    </tr>\n",
       "    <tr>\n",
       "      <th>1651</th>\n",
       "      <td>0.990000</td>\n",
       "      <td>['Frédéric Chopin', 'Vladimir Horowitz']</td>\n",
       "      <td>0.272</td>\n",
       "      <td>473227</td>\n",
       "      <td>0.2810</td>\n",
       "      <td>6wt8PKNBSqNFqdOxgexvKu</td>\n",
       "      <td>0.86700</td>\n",
       "      <td>0.0870</td>\n",
       "      <td>-16.228</td>\n",
       "      <td>0</td>\n",
       "      <td>Piano Sonata No. 2, Op. 35: I. Grave - Doppio ...</td>\n",
       "      <td>0.0</td>\n",
       "      <td>1928-08-19 00:00:00</td>\n",
       "      <td>0.0365</td>\n",
       "      <td>99.270</td>\n",
       "      <td>0.0775</td>\n",
       "      <td>7040</td>\n",
       "      <td>Хемингуэй</td>\n",
       "    </tr>\n",
       "  </tbody>\n",
       "</table>\n",
       "</div>"
      ],
      "text/plain": [
       "      c_acousticness                                         t_artists  \\\n",
       "7           0.000186                                     ['Green Day']   \n",
       "41          0.887000  ['Max Bruch', 'Yehudi Menuhin', 'Charles Münch']   \n",
       "1644        0.994000          ['Robert Schumann', 'Vladimir Horowitz']   \n",
       "1645        0.995000                              ['Francisco Canaro']   \n",
       "1646        0.995000        ['Felix Mendelssohn', 'Vladimir Horowitz']   \n",
       "1647        0.988000                               ['Carl Woitschach']   \n",
       "1648        0.990000            ['Samuel Barber', 'Vladimir Horowitz']   \n",
       "1649        0.975000          ['Frédéric Chopin', 'Vladimir Horowitz']   \n",
       "1650        0.987000            ['Samuel Barber', 'Vladimir Horowitz']   \n",
       "1651        0.990000          ['Frédéric Chopin', 'Vladimir Horowitz']   \n",
       "\n",
       "      c_danceability  c_duration_ms  c_energy                      id  \\\n",
       "7              0.494         128200    0.9320  2uARrCX71Zl7JspUN2KuPZ   \n",
       "41             0.225         466440    0.3070  31VWjwLGWFmEV99kR2fOTF   \n",
       "1644           0.379         282133    0.0135  6KuQTIu1KoTTkLXKrwlLPV   \n",
       "1645           0.781         180760    0.1300  6M94FkXd15sOAOQYRnWPN8   \n",
       "1646           0.424         352600    0.1200  6NxAf7M8DNHOBTmEd3JSO5   \n",
       "1647           0.555         153967    0.4210  6OJjveoYwJdIt76y0Pxpxw   \n",
       "1648           0.359         338333    0.0435  6QgdUySTRGVkNo3KwbHpK3   \n",
       "1649           0.277         245440    0.0900  6VUm7Dg5sufmG01IYcoJE3   \n",
       "1650           0.242         115627    0.1490  6v13FCz4z385EbNyPaXYCU   \n",
       "1651           0.272         473227    0.2810  6wt8PKNBSqNFqdOxgexvKu   \n",
       "\n",
       "      c_instrumentalness  c_liveness  c_loudness  v_mode  \\\n",
       "7                0.00004      0.0248      -4.606       0   \n",
       "41               0.55100      0.1180     -15.181       1   \n",
       "1644             0.90100      0.0763     -28.454       1   \n",
       "1645             0.88700      0.1110     -14.734       0   \n",
       "1646             0.91100      0.0915     -19.242       0   \n",
       "1647             0.83600      0.1050      -9.878       1   \n",
       "1648             0.89900      0.1090     -20.858       1   \n",
       "1649             0.94900      0.1250     -26.188       1   \n",
       "1650             0.87700      0.1340     -26.742       1   \n",
       "1651             0.86700      0.0870     -16.228       0   \n",
       "\n",
       "                                                 t_name  v_popularity  \\\n",
       "7                                      Bab's Uvula Who?           NaN   \n",
       "41    Violin Concerto No. 1 in G Minor, Op. 26: II. ...           0.0   \n",
       "1644           Fantasiestücke, Op. 111: Più tosto lento           0.0   \n",
       "1645      Bebamos Juntos - Instrumental (Remasterizado)           0.0   \n",
       "1646                        Scherzo a capriccio: Presto           NaN   \n",
       "1647                                Per aspera ad astra           0.0   \n",
       "1648  Piano Sonata in E-Flat Minor, Op. 26: III. Ada...           0.0   \n",
       "1649           Andante spianato in E-Flat Major, Op. 22           0.0   \n",
       "1650  Piano Sonata in E-Flat Minor, Op. 26: II. Alle...           0.0   \n",
       "1651  Piano Sonata No. 2, Op. 35: I. Grave - Doppio ...           0.0   \n",
       "\n",
       "           d_release_date  c_speechiness  c_tempo  c_valence c_zip Code  \\\n",
       "7     1995-01-18 00:00:00         0.0542   96.215     0.9720      74023   \n",
       "41    1945-07-15 00:00:00         0.0406  102.523     0.1480      54889   \n",
       "1644  1928-11-13 00:00:00         0.0462   83.972     0.0767      81655   \n",
       "1645  1928-04-13 00:00:00         0.0926  108.003     0.7200      75605   \n",
       "1646  1928-04-10 00:00:00         0.0593   63.521     0.2660      16370   \n",
       "1647  1928-10-03 00:00:00         0.0474  123.310     0.8570      61274   \n",
       "1648  1928-03-16 00:00:00         0.0424   96.645     0.0420      68875   \n",
       "1649  1928-03-01 00:00:00         0.0316  105.031     0.1680      99009   \n",
       "1650  1928-09-24 00:00:00         0.0369   88.188     0.2790      55066   \n",
       "1651  1928-08-19 00:00:00         0.0365   99.270     0.0775       7040   \n",
       "\n",
       "                    v_genero  \n",
       "7      Часть 2.3 & Часть 3.1  \n",
       "41                  3. Sure   \n",
       "1644         Bebamos Juntos   \n",
       "1645                Cristian  \n",
       "1646             2Woitschach  \n",
       "1647          Fantasiestücke  \n",
       "1648               Polonaise  \n",
       "1649  6N6tiFZ9vLTSOIxkj8qKrd  \n",
       "1650  6L63VW0PibdM1HDSBoqnoM  \n",
       "1651               Хемингуэй  "
      ]
     },
     "execution_count": 19,
     "metadata": {},
     "output_type": "execute_result"
    }
   ],
   "source": [
    "#Registros que contienen letras\n",
    "aux2[aux2[\"v_genero\"].map(lambda x:sum([x.isalpha() for x in str(x).replace(\".\",\"\")])>0)]"
   ]
  },
  {
   "cell_type": "code",
   "execution_count": 20,
   "metadata": {
    "ExecuteTime": {
     "end_time": "2021-01-19T08:22:10.176426Z",
     "start_time": "2021-01-19T08:22:10.009252Z"
    },
    "scrolled": true
   },
   "outputs": [
    {
     "data": {
      "text/plain": [
       "10"
      ]
     },
     "execution_count": 20,
     "metadata": {},
     "output_type": "execute_result"
    }
   ],
   "source": [
    "#Número de registros que contienen letras\n",
    "aux2[aux2[\"v_genero\"].map(lambda x:sum([x.isalpha() for x in str(x).replace(\".\",\"\")])>0)].shape[0]"
   ]
  },
  {
   "cell_type": "markdown",
   "metadata": {},
   "source": [
    "<h2 style=\"color:green\">(h) Elimina los registros que no tengas un ”genero” valido, es decir contenga letras en los valores<h2/>\n"
   ]
  },
  {
   "cell_type": "code",
   "execution_count": 21,
   "metadata": {
    "ExecuteTime": {
     "end_time": "2021-01-19T08:22:10.555023Z",
     "start_time": "2021-01-19T08:22:10.334957Z"
    }
   },
   "outputs": [
    {
     "name": "stdout",
     "output_type": "stream",
     "text": [
      "(163926, 18)\n",
      "(163916, 18)\n"
     ]
    }
   ],
   "source": [
    "#Elimina los registros no validos\n",
    "print(aux2.shape)\n",
    "aux2=aux2[~aux2[\"v_genero\"].map(lambda x:sum([y.isalpha() for y in str(x)])>0)].reset_index(drop=True)\n",
    "print(aux2.shape)"
   ]
  },
  {
   "cell_type": "code",
   "execution_count": 22,
   "metadata": {
    "ExecuteTime": {
     "end_time": "2021-01-19T08:22:10.616298Z",
     "start_time": "2021-01-19T08:22:10.556400Z"
    }
   },
   "outputs": [
    {
     "name": "stdout",
     "output_type": "stream",
     "text": [
      "(165568, 18)\n",
      "(165558, 18)\n"
     ]
    }
   ],
   "source": [
    "print(df.shape)\n",
    "df=pd.concat([aux2,aux1],ignore_index=True)\n",
    "print(df.shape)"
   ]
  },
  {
   "cell_type": "markdown",
   "metadata": {},
   "source": [
    "<h2 style=\"color:green\">(i) Haz una limpieza de la variable ”name” , elimina caracteres especiales y todo debe estar en minusculas<h2/>"
   ]
  },
  {
   "cell_type": "code",
   "execution_count": 23,
   "metadata": {
    "ExecuteTime": {
     "end_time": "2021-01-19T08:22:11.388521Z",
     "start_time": "2021-01-19T08:22:10.896815Z"
    }
   },
   "outputs": [
    {
     "data": {
      "text/plain": [
       "0    sunless saturday\n",
       "1        read my lips\n",
       "2         rain forest\n",
       "3     praise of death\n",
       "4       swingin party\n",
       "Name: t_name, dtype: object"
      ]
     },
     "execution_count": 23,
     "metadata": {},
     "output_type": "execute_result"
    }
   ],
   "source": [
    "#Limpieza variable name\n",
    "df[\"t_name\"]=df[\"t_name\"].map(lambda x:clean_text(x.lower(),replace=\" \"))\n",
    "df[\"t_name\"].head()"
   ]
  },
  {
   "cell_type": "markdown",
   "metadata": {},
   "source": [
    "<h2 style=\"color:green\">\n",
    "(j) De la variable ”artist” selecciona solo al primer artista que aparezca en la lista, ademas de eliminar caracteres especiales<h2/>\n",
    "\n"
   ]
  },
  {
   "cell_type": "code",
   "execution_count": 24,
   "metadata": {
    "ExecuteTime": {
     "end_time": "2021-01-19T08:22:12.213355Z",
     "start_time": "2021-01-19T08:22:11.390896Z"
    }
   },
   "outputs": [
    {
     "data": {
      "text/plain": [
       "0                    Fishbone\n",
       "1              Michael Franks\n",
       "2                  Paul Speer\n",
       "3                      Slayer\n",
       "4            The Replacements\n",
       "                 ...         \n",
       "165553              Pop Smoke\n",
       "165554           Lil Uzi Vert\n",
       "165555     Alexander Scriabin\n",
       "165556    Seweryn Goszczyński\n",
       "165557            The Merlons\n",
       "Name: t_artists, Length: 165558, dtype: object"
      ]
     },
     "execution_count": 24,
     "metadata": {},
     "output_type": "execute_result"
    }
   ],
   "source": [
    "#Utilizamos \"eval\" para convertir los strings \"[1]\" a una lista en python y poder hacer seleccion de elementos\n",
    "df[\"t_artists\"].map(lambda x:eval(x)[0]) "
   ]
  },
  {
   "cell_type": "code",
   "execution_count": 25,
   "metadata": {
    "ExecuteTime": {
     "end_time": "2021-01-19T08:22:13.047715Z",
     "start_time": "2021-01-19T08:22:12.214946Z"
    }
   },
   "outputs": [],
   "source": [
    "df[\"t_artists\"]=df[\"t_artists\"].map(lambda x:eval(x)[0]) "
   ]
  },
  {
   "cell_type": "code",
   "execution_count": 26,
   "metadata": {
    "ExecuteTime": {
     "end_time": "2021-01-19T08:22:13.422144Z",
     "start_time": "2021-01-19T08:22:13.049153Z"
    }
   },
   "outputs": [],
   "source": [
    "#Limpiamos la variable\n",
    "df[\"t_artists\"]=df[\"t_artists\"].map(lambda x:clean_text(x,replace=\" \"))"
   ]
  },
  {
   "cell_type": "code",
   "execution_count": 27,
   "metadata": {
    "ExecuteTime": {
     "end_time": "2021-01-19T08:22:13.442878Z",
     "start_time": "2021-01-19T08:22:13.425280Z"
    },
    "scrolled": true
   },
   "outputs": [
    {
     "data": {
      "text/html": [
       "<div>\n",
       "<style scoped>\n",
       "    .dataframe tbody tr th:only-of-type {\n",
       "        vertical-align: middle;\n",
       "    }\n",
       "\n",
       "    .dataframe tbody tr th {\n",
       "        vertical-align: top;\n",
       "    }\n",
       "\n",
       "    .dataframe thead th {\n",
       "        text-align: right;\n",
       "    }\n",
       "</style>\n",
       "<table border=\"1\" class=\"dataframe\">\n",
       "  <thead>\n",
       "    <tr style=\"text-align: right;\">\n",
       "      <th></th>\n",
       "      <th>c_acousticness</th>\n",
       "      <th>t_artists</th>\n",
       "      <th>c_danceability</th>\n",
       "      <th>c_duration_ms</th>\n",
       "      <th>c_energy</th>\n",
       "      <th>id</th>\n",
       "      <th>c_instrumentalness</th>\n",
       "      <th>c_liveness</th>\n",
       "      <th>c_loudness</th>\n",
       "      <th>v_mode</th>\n",
       "      <th>t_name</th>\n",
       "      <th>v_popularity</th>\n",
       "      <th>d_release_date</th>\n",
       "      <th>c_speechiness</th>\n",
       "      <th>c_tempo</th>\n",
       "      <th>c_valence</th>\n",
       "      <th>c_zip Code</th>\n",
       "      <th>v_genero</th>\n",
       "    </tr>\n",
       "  </thead>\n",
       "  <tbody>\n",
       "    <tr>\n",
       "      <th>0</th>\n",
       "      <td>0.000069</td>\n",
       "      <td>fishbone</td>\n",
       "      <td>0.451</td>\n",
       "      <td>258440</td>\n",
       "      <td>0.970</td>\n",
       "      <td>4dtBF3w1v4NLzkO6ePwvue</td>\n",
       "      <td>0.10300</td>\n",
       "      <td>0.1360</td>\n",
       "      <td>-4.622</td>\n",
       "      <td>1</td>\n",
       "      <td>sunless saturday</td>\n",
       "      <td>31.0</td>\n",
       "      <td>1985-03-10 00:00:00</td>\n",
       "      <td>0.1360</td>\n",
       "      <td>144.071</td>\n",
       "      <td>0.3960</td>\n",
       "      <td>65774</td>\n",
       "      <td>47.0</td>\n",
       "    </tr>\n",
       "    <tr>\n",
       "      <th>1</th>\n",
       "      <td>0.068200</td>\n",
       "      <td>michael franks</td>\n",
       "      <td>0.861</td>\n",
       "      <td>222107</td>\n",
       "      <td>0.726</td>\n",
       "      <td>68LFkY4TMwgKqfOtnNEZ1j</td>\n",
       "      <td>0.00013</td>\n",
       "      <td>0.0922</td>\n",
       "      <td>-12.759</td>\n",
       "      <td>1</td>\n",
       "      <td>read my lips</td>\n",
       "      <td>35.0</td>\n",
       "      <td>1985-11-24 00:00:00</td>\n",
       "      <td>0.0743</td>\n",
       "      <td>118.005</td>\n",
       "      <td>0.8980</td>\n",
       "      <td>92586</td>\n",
       "      <td>20.0</td>\n",
       "    </tr>\n",
       "    <tr>\n",
       "      <th>2</th>\n",
       "      <td>0.936000</td>\n",
       "      <td>paul speer</td>\n",
       "      <td>0.605</td>\n",
       "      <td>258000</td>\n",
       "      <td>0.229</td>\n",
       "      <td>6FZfxmeVhsdqkD8WJfP83n</td>\n",
       "      <td>0.86000</td>\n",
       "      <td>0.1000</td>\n",
       "      <td>-16.300</td>\n",
       "      <td>1</td>\n",
       "      <td>rain forest</td>\n",
       "      <td>32.0</td>\n",
       "      <td>1985-02-27 00:00:00</td>\n",
       "      <td>0.0340</td>\n",
       "      <td>127.295</td>\n",
       "      <td>0.0634</td>\n",
       "      <td>918</td>\n",
       "      <td>50.0</td>\n",
       "    </tr>\n",
       "    <tr>\n",
       "      <th>3</th>\n",
       "      <td>0.001650</td>\n",
       "      <td>slayer</td>\n",
       "      <td>0.267</td>\n",
       "      <td>321040</td>\n",
       "      <td>0.957</td>\n",
       "      <td>6hIroseB9TaxU9a5lhO4sD</td>\n",
       "      <td>0.40800</td>\n",
       "      <td>0.0897</td>\n",
       "      <td>-7.754</td>\n",
       "      <td>0</td>\n",
       "      <td>praise of death</td>\n",
       "      <td>33.0</td>\n",
       "      <td>1985-07-05 00:00:00</td>\n",
       "      <td>0.0812</td>\n",
       "      <td>104.683</td>\n",
       "      <td>0.1410</td>\n",
       "      <td>59247</td>\n",
       "      <td>50.0</td>\n",
       "    </tr>\n",
       "    <tr>\n",
       "      <th>4</th>\n",
       "      <td>0.028900</td>\n",
       "      <td>the replacements</td>\n",
       "      <td>0.644</td>\n",
       "      <td>231267</td>\n",
       "      <td>0.629</td>\n",
       "      <td>789VjU3oh8sxOfBN4fupqH</td>\n",
       "      <td>0.00000</td>\n",
       "      <td>0.0662</td>\n",
       "      <td>-11.646</td>\n",
       "      <td>0</td>\n",
       "      <td>swingin party</td>\n",
       "      <td>27.0</td>\n",
       "      <td>1985-06-09 00:00:00</td>\n",
       "      <td>0.0473</td>\n",
       "      <td>117.489</td>\n",
       "      <td>0.7480</td>\n",
       "      <td>2919</td>\n",
       "      <td>20.0</td>\n",
       "    </tr>\n",
       "  </tbody>\n",
       "</table>\n",
       "</div>"
      ],
      "text/plain": [
       "   c_acousticness         t_artists  c_danceability  c_duration_ms  c_energy  \\\n",
       "0        0.000069          fishbone           0.451         258440     0.970   \n",
       "1        0.068200    michael franks           0.861         222107     0.726   \n",
       "2        0.936000        paul speer           0.605         258000     0.229   \n",
       "3        0.001650            slayer           0.267         321040     0.957   \n",
       "4        0.028900  the replacements           0.644         231267     0.629   \n",
       "\n",
       "                       id  c_instrumentalness  c_liveness  c_loudness  v_mode  \\\n",
       "0  4dtBF3w1v4NLzkO6ePwvue             0.10300      0.1360      -4.622       1   \n",
       "1  68LFkY4TMwgKqfOtnNEZ1j             0.00013      0.0922     -12.759       1   \n",
       "2  6FZfxmeVhsdqkD8WJfP83n             0.86000      0.1000     -16.300       1   \n",
       "3  6hIroseB9TaxU9a5lhO4sD             0.40800      0.0897      -7.754       0   \n",
       "4  789VjU3oh8sxOfBN4fupqH             0.00000      0.0662     -11.646       0   \n",
       "\n",
       "             t_name  v_popularity       d_release_date  c_speechiness  \\\n",
       "0  sunless saturday          31.0  1985-03-10 00:00:00         0.1360   \n",
       "1      read my lips          35.0  1985-11-24 00:00:00         0.0743   \n",
       "2       rain forest          32.0  1985-02-27 00:00:00         0.0340   \n",
       "3   praise of death          33.0  1985-07-05 00:00:00         0.0812   \n",
       "4     swingin party          27.0  1985-06-09 00:00:00         0.0473   \n",
       "\n",
       "   c_tempo  c_valence c_zip Code v_genero  \n",
       "0  144.071     0.3960      65774     47.0  \n",
       "1  118.005     0.8980      92586     20.0  \n",
       "2  127.295     0.0634        918     50.0  \n",
       "3  104.683     0.1410      59247     50.0  \n",
       "4  117.489     0.7480       2919     20.0  "
      ]
     },
     "execution_count": 27,
     "metadata": {},
     "output_type": "execute_result"
    }
   ],
   "source": [
    "df.head()"
   ]
  },
  {
   "cell_type": "markdown",
   "metadata": {},
   "source": [
    "<h2 style=\"color:green\">(k) Normaliza la variable ”genero” de tal forma que obtengas solo * categorıas<h2/>"
   ]
  },
  {
   "cell_type": "code",
   "execution_count": 28,
   "metadata": {
    "ExecuteTime": {
     "end_time": "2021-01-19T08:22:13.628713Z",
     "start_time": "2021-01-19T08:22:13.444331Z"
    },
    "scrolled": true
   },
   "outputs": [
    {
     "data": {
      "text/plain": [
       "47.0    27167\n",
       "20.0    24855\n",
       "50.0    20144\n",
       "12.0    18301\n",
       "16.0    18054\n",
       "21.0    17829\n",
       "47.0     5812\n",
       "20.0     5398\n",
       "50.0     4247\n",
       "21.0     3899\n",
       "16.0     3843\n",
       "12.0     3774\n",
       "30.0     2653\n",
       "49.0     2627\n",
       "48.0     2565\n",
       "30.0      579\n",
       "49.0      566\n",
       "48.0      551\n",
       "3.0       448\n",
       "2.0       285\n",
       "1.0       147\n",
       "3.0        84\n",
       "2.0        65\n",
       "1.0        23\n",
       "Name: v_genero, dtype: int64"
      ]
     },
     "execution_count": 28,
     "metadata": {},
     "output_type": "execute_result"
    }
   ],
   "source": [
    "df[\"v_genero\"].value_counts()"
   ]
  },
  {
   "cell_type": "code",
   "execution_count": 29,
   "metadata": {
    "ExecuteTime": {
     "end_time": "2021-01-19T08:22:13.734843Z",
     "start_time": "2021-01-19T08:22:13.630317Z"
    }
   },
   "outputs": [],
   "source": [
    "#Valores de genero a tipo flotante\n",
    "df[\"v_genero\"]=df[\"v_genero\"].map(float)"
   ]
  },
  {
   "cell_type": "code",
   "execution_count": 30,
   "metadata": {
    "ExecuteTime": {
     "end_time": "2021-01-19T08:22:13.812777Z",
     "start_time": "2021-01-19T08:22:13.736270Z"
    }
   },
   "outputs": [
    {
     "data": {
      "text/plain": [
       "47.0    0.201195\n",
       "20.0    0.184564\n",
       "50.0    0.148802\n",
       "12.0    0.134673\n",
       "16.0    0.133587\n",
       "21.0    0.132556\n",
       "30.0    0.019717\n",
       "49.0    0.019479\n",
       "48.0    0.019010\n",
       "3.0     0.003246\n",
       "2.0     0.002135\n",
       "1.0     0.001037\n",
       "Name: v_genero, dtype: float64"
      ]
     },
     "execution_count": 30,
     "metadata": {},
     "output_type": "execute_result"
    }
   ],
   "source": [
    "#Presencia de las categorias\n",
    "df[\"v_genero\"].value_counts(1)"
   ]
  },
  {
   "cell_type": "code",
   "execution_count": 31,
   "metadata": {
    "ExecuteTime": {
     "end_time": "2021-01-19T08:22:13.915350Z",
     "start_time": "2021-01-19T08:22:13.814414Z"
    }
   },
   "outputs": [],
   "source": [
    "#Las ultimas tres valores categorias las agrupamos en una categoria \"otros\", de tal forma que represente el porcenntaje mas pequeño\n",
    "dictio=dict(zip(list(df[\"v_genero\"].value_counts(1).index.tolist()[-3:]),[\"otros\"]*3))"
   ]
  },
  {
   "cell_type": "code",
   "execution_count": 32,
   "metadata": {
    "ExecuteTime": {
     "end_time": "2021-01-19T08:22:14.322343Z",
     "start_time": "2021-01-19T08:22:13.916518Z"
    }
   },
   "outputs": [],
   "source": [
    "#Reemplazamos la categoria de \"otros\"\n",
    "df[\"v_genero\"]=df[\"v_genero\"].replace(dictio)"
   ]
  },
  {
   "cell_type": "code",
   "execution_count": 33,
   "metadata": {
    "ExecuteTime": {
     "end_time": "2021-01-19T08:22:14.428056Z",
     "start_time": "2021-01-19T08:22:14.325540Z"
    }
   },
   "outputs": [
    {
     "data": {
      "text/plain": [
       "47.0     32979\n",
       "20.0     30253\n",
       "50.0     24391\n",
       "12.0     22075\n",
       "16.0     21897\n",
       "21.0     21728\n",
       "30.0      3232\n",
       "49.0      3193\n",
       "48.0      3116\n",
       "otros     1052\n",
       "Name: v_genero, dtype: int64"
      ]
     },
     "execution_count": 33,
     "metadata": {},
     "output_type": "execute_result"
    }
   ],
   "source": [
    "#Categorias obtenidas\n",
    "df[\"v_genero\"].value_counts()"
   ]
  },
  {
   "cell_type": "markdown",
   "metadata": {},
   "source": [
    "<h2 style=\"color:green\">(l) Añade las siguientes columnas a tu tabla base: zip, lat, lng, city, state name utilizando la tabla zips practica<h2/>"
   ]
  },
  {
   "cell_type": "code",
   "execution_count": 34,
   "metadata": {
    "ExecuteTime": {
     "end_time": "2021-01-19T08:22:14.561363Z",
     "start_time": "2021-01-19T08:22:14.429574Z"
    }
   },
   "outputs": [
    {
     "data": {
      "text/plain": [
       "dtype('int64')"
      ]
     },
     "execution_count": 34,
     "metadata": {},
     "output_type": "execute_result"
    }
   ],
   "source": [
    "#Mismo tipo de dato que zip_code\n",
    "df[\"c_zip Code\"]=df[\"c_zip Code\"].astype(int)\n",
    "df[\"c_zip Code\"].dtype"
   ]
  },
  {
   "cell_type": "code",
   "execution_count": 35,
   "metadata": {
    "ExecuteTime": {
     "end_time": "2021-01-19T08:22:14.663424Z",
     "start_time": "2021-01-19T08:22:14.563813Z"
    }
   },
   "outputs": [
    {
     "data": {
      "text/html": [
       "<div>\n",
       "<style scoped>\n",
       "    .dataframe tbody tr th:only-of-type {\n",
       "        vertical-align: middle;\n",
       "    }\n",
       "\n",
       "    .dataframe tbody tr th {\n",
       "        vertical-align: top;\n",
       "    }\n",
       "\n",
       "    .dataframe thead th {\n",
       "        text-align: right;\n",
       "    }\n",
       "</style>\n",
       "<table border=\"1\" class=\"dataframe\">\n",
       "  <thead>\n",
       "    <tr style=\"text-align: right;\">\n",
       "      <th></th>\n",
       "      <th>zip</th>\n",
       "      <th>lat</th>\n",
       "      <th>lng</th>\n",
       "      <th>city</th>\n",
       "      <th>state_name</th>\n",
       "    </tr>\n",
       "  </thead>\n",
       "  <tbody>\n",
       "    <tr>\n",
       "      <th>0</th>\n",
       "      <td>601</td>\n",
       "      <td>18.18004</td>\n",
       "      <td>-66.75218</td>\n",
       "      <td>Adjunta28s</td>\n",
       "      <td>Puerto 345Rico</td>\n",
       "    </tr>\n",
       "    <tr>\n",
       "      <th>1</th>\n",
       "      <td>602</td>\n",
       "      <td>18.36073</td>\n",
       "      <td>-67.17517</td>\n",
       "      <td>A543guada</td>\n",
       "      <td>P733uerto Rico</td>\n",
       "    </tr>\n",
       "    <tr>\n",
       "      <th>2</th>\n",
       "      <td>603</td>\n",
       "      <td>18.45439</td>\n",
       "      <td>-67.12202</td>\n",
       "      <td>Ag188uadilla</td>\n",
       "      <td>Pue888rto Rico</td>\n",
       "    </tr>\n",
       "    <tr>\n",
       "      <th>3</th>\n",
       "      <td>606</td>\n",
       "      <td>18.16724</td>\n",
       "      <td>-66.93828</td>\n",
       "      <td>Ma297ricao</td>\n",
       "      <td>Puerto Ric683o</td>\n",
       "    </tr>\n",
       "    <tr>\n",
       "      <th>4</th>\n",
       "      <td>610</td>\n",
       "      <td>18.29032</td>\n",
       "      <td>-67.12243</td>\n",
       "      <td>Anasc449o</td>\n",
       "      <td>P753uerto Rico</td>\n",
       "    </tr>\n",
       "    <tr>\n",
       "      <th>...</th>\n",
       "      <td>...</td>\n",
       "      <td>...</td>\n",
       "      <td>...</td>\n",
       "      <td>...</td>\n",
       "      <td>...</td>\n",
       "    </tr>\n",
       "    <tr>\n",
       "      <th>33094</th>\n",
       "      <td>99923</td>\n",
       "      <td>55.97796</td>\n",
       "      <td>-130.03671</td>\n",
       "      <td>H481yder</td>\n",
       "      <td>A540laska</td>\n",
       "    </tr>\n",
       "    <tr>\n",
       "      <th>33095</th>\n",
       "      <td>99925</td>\n",
       "      <td>55.55767</td>\n",
       "      <td>-132.97627</td>\n",
       "      <td>442Klawock</td>\n",
       "      <td>Alask533a</td>\n",
       "    </tr>\n",
       "    <tr>\n",
       "      <th>33096</th>\n",
       "      <td>99926</td>\n",
       "      <td>55.12617</td>\n",
       "      <td>-131.48928</td>\n",
       "      <td>M165etlakatla</td>\n",
       "      <td>797Alaska</td>\n",
       "    </tr>\n",
       "    <tr>\n",
       "      <th>33097</th>\n",
       "      <td>99927</td>\n",
       "      <td>56.25100</td>\n",
       "      <td>-133.37571</td>\n",
       "      <td>Po905int Baker</td>\n",
       "      <td>Alask349a</td>\n",
       "    </tr>\n",
       "    <tr>\n",
       "      <th>33098</th>\n",
       "      <td>99929</td>\n",
       "      <td>56.36950</td>\n",
       "      <td>-131.93648</td>\n",
       "      <td>Wrange821ll</td>\n",
       "      <td>Alas486ka</td>\n",
       "    </tr>\n",
       "  </tbody>\n",
       "</table>\n",
       "<p>33099 rows × 5 columns</p>\n",
       "</div>"
      ],
      "text/plain": [
       "         zip       lat        lng            city      state_name\n",
       "0        601  18.18004  -66.75218      Adjunta28s  Puerto 345Rico\n",
       "1        602  18.36073  -67.17517       A543guada  P733uerto Rico\n",
       "2        603  18.45439  -67.12202    Ag188uadilla  Pue888rto Rico\n",
       "3        606  18.16724  -66.93828      Ma297ricao  Puerto Ric683o\n",
       "4        610  18.29032  -67.12243       Anasc449o  P753uerto Rico\n",
       "...      ...       ...        ...             ...             ...\n",
       "33094  99923  55.97796 -130.03671        H481yder       A540laska\n",
       "33095  99925  55.55767 -132.97627      442Klawock       Alask533a\n",
       "33096  99926  55.12617 -131.48928   M165etlakatla       797Alaska\n",
       "33097  99927  56.25100 -133.37571  Po905int Baker       Alask349a\n",
       "33098  99929  56.36950 -131.93648     Wrange821ll       Alas486ka\n",
       "\n",
       "[33099 rows x 5 columns]"
      ]
     },
     "execution_count": 35,
     "metadata": {},
     "output_type": "execute_result"
    }
   ],
   "source": [
    "#Seleccionamos solo las variables necesarias\n",
    "zips=zips[['zip','lat','lng','city','state_name']]\n",
    "zips"
   ]
  },
  {
   "cell_type": "code",
   "execution_count": 36,
   "metadata": {
    "ExecuteTime": {
     "end_time": "2021-01-19T08:22:14.904540Z",
     "start_time": "2021-01-19T08:22:14.665004Z"
    }
   },
   "outputs": [],
   "source": [
    "#Merge de los zips a la tabla base\n",
    "df=pd.merge(df,zips,left_on='c_zip Code',right_on='zip',how='left')"
   ]
  },
  {
   "cell_type": "code",
   "execution_count": 37,
   "metadata": {
    "ExecuteTime": {
     "end_time": "2021-01-19T08:22:14.936602Z",
     "start_time": "2021-01-19T08:22:14.906861Z"
    }
   },
   "outputs": [
    {
     "data": {
      "text/html": [
       "<div>\n",
       "<style scoped>\n",
       "    .dataframe tbody tr th:only-of-type {\n",
       "        vertical-align: middle;\n",
       "    }\n",
       "\n",
       "    .dataframe tbody tr th {\n",
       "        vertical-align: top;\n",
       "    }\n",
       "\n",
       "    .dataframe thead th {\n",
       "        text-align: right;\n",
       "    }\n",
       "</style>\n",
       "<table border=\"1\" class=\"dataframe\">\n",
       "  <thead>\n",
       "    <tr style=\"text-align: right;\">\n",
       "      <th></th>\n",
       "      <th>c_acousticness</th>\n",
       "      <th>t_artists</th>\n",
       "      <th>c_danceability</th>\n",
       "      <th>c_duration_ms</th>\n",
       "      <th>c_energy</th>\n",
       "      <th>id</th>\n",
       "      <th>c_instrumentalness</th>\n",
       "      <th>c_liveness</th>\n",
       "      <th>c_loudness</th>\n",
       "      <th>v_mode</th>\n",
       "      <th>...</th>\n",
       "      <th>c_speechiness</th>\n",
       "      <th>c_tempo</th>\n",
       "      <th>c_valence</th>\n",
       "      <th>c_zip Code</th>\n",
       "      <th>v_genero</th>\n",
       "      <th>zip</th>\n",
       "      <th>lat</th>\n",
       "      <th>lng</th>\n",
       "      <th>city</th>\n",
       "      <th>state_name</th>\n",
       "    </tr>\n",
       "  </thead>\n",
       "  <tbody>\n",
       "    <tr>\n",
       "      <th>0</th>\n",
       "      <td>0.000069</td>\n",
       "      <td>fishbone</td>\n",
       "      <td>0.451</td>\n",
       "      <td>258440</td>\n",
       "      <td>0.970</td>\n",
       "      <td>4dtBF3w1v4NLzkO6ePwvue</td>\n",
       "      <td>0.10300</td>\n",
       "      <td>0.1360</td>\n",
       "      <td>-4.622</td>\n",
       "      <td>1</td>\n",
       "      <td>...</td>\n",
       "      <td>0.1360</td>\n",
       "      <td>144.071</td>\n",
       "      <td>0.3960</td>\n",
       "      <td>65774</td>\n",
       "      <td>47</td>\n",
       "      <td>65774</td>\n",
       "      <td>37.92914</td>\n",
       "      <td>-93.49222</td>\n",
       "      <td>We801aubleau</td>\n",
       "      <td>Misso551uri</td>\n",
       "    </tr>\n",
       "    <tr>\n",
       "      <th>1</th>\n",
       "      <td>0.068200</td>\n",
       "      <td>michael franks</td>\n",
       "      <td>0.861</td>\n",
       "      <td>222107</td>\n",
       "      <td>0.726</td>\n",
       "      <td>68LFkY4TMwgKqfOtnNEZ1j</td>\n",
       "      <td>0.00013</td>\n",
       "      <td>0.0922</td>\n",
       "      <td>-12.759</td>\n",
       "      <td>1</td>\n",
       "      <td>...</td>\n",
       "      <td>0.0743</td>\n",
       "      <td>118.005</td>\n",
       "      <td>0.8980</td>\n",
       "      <td>92586</td>\n",
       "      <td>20</td>\n",
       "      <td>92586</td>\n",
       "      <td>33.70901</td>\n",
       "      <td>-117.19889</td>\n",
       "      <td>Menife875e</td>\n",
       "      <td>Cali972fornia</td>\n",
       "    </tr>\n",
       "    <tr>\n",
       "      <th>2</th>\n",
       "      <td>0.936000</td>\n",
       "      <td>paul speer</td>\n",
       "      <td>0.605</td>\n",
       "      <td>258000</td>\n",
       "      <td>0.229</td>\n",
       "      <td>6FZfxmeVhsdqkD8WJfP83n</td>\n",
       "      <td>0.86000</td>\n",
       "      <td>0.1000</td>\n",
       "      <td>-16.300</td>\n",
       "      <td>1</td>\n",
       "      <td>...</td>\n",
       "      <td>0.0340</td>\n",
       "      <td>127.295</td>\n",
       "      <td>0.0634</td>\n",
       "      <td>918</td>\n",
       "      <td>50</td>\n",
       "      <td>918</td>\n",
       "      <td>18.42138</td>\n",
       "      <td>-66.06588</td>\n",
       "      <td>San706 Juan</td>\n",
       "      <td>Puerto Ri109co</td>\n",
       "    </tr>\n",
       "    <tr>\n",
       "      <th>3</th>\n",
       "      <td>0.001650</td>\n",
       "      <td>slayer</td>\n",
       "      <td>0.267</td>\n",
       "      <td>321040</td>\n",
       "      <td>0.957</td>\n",
       "      <td>6hIroseB9TaxU9a5lhO4sD</td>\n",
       "      <td>0.40800</td>\n",
       "      <td>0.0897</td>\n",
       "      <td>-7.754</td>\n",
       "      <td>0</td>\n",
       "      <td>...</td>\n",
       "      <td>0.0812</td>\n",
       "      <td>104.683</td>\n",
       "      <td>0.1410</td>\n",
       "      <td>59247</td>\n",
       "      <td>50</td>\n",
       "      <td>59247</td>\n",
       "      <td>48.51172</td>\n",
       "      <td>-104.53507</td>\n",
       "      <td>Medic882ine Lake</td>\n",
       "      <td>Mo655ntana</td>\n",
       "    </tr>\n",
       "    <tr>\n",
       "      <th>4</th>\n",
       "      <td>0.028900</td>\n",
       "      <td>the replacements</td>\n",
       "      <td>0.644</td>\n",
       "      <td>231267</td>\n",
       "      <td>0.629</td>\n",
       "      <td>789VjU3oh8sxOfBN4fupqH</td>\n",
       "      <td>0.00000</td>\n",
       "      <td>0.0662</td>\n",
       "      <td>-11.646</td>\n",
       "      <td>0</td>\n",
       "      <td>...</td>\n",
       "      <td>0.0473</td>\n",
       "      <td>117.489</td>\n",
       "      <td>0.7480</td>\n",
       "      <td>2919</td>\n",
       "      <td>20</td>\n",
       "      <td>2919</td>\n",
       "      <td>41.82737</td>\n",
       "      <td>-71.51998</td>\n",
       "      <td>Joh127nston</td>\n",
       "      <td>Rhode Is658land</td>\n",
       "    </tr>\n",
       "  </tbody>\n",
       "</table>\n",
       "<p>5 rows × 23 columns</p>\n",
       "</div>"
      ],
      "text/plain": [
       "   c_acousticness         t_artists  c_danceability  c_duration_ms  c_energy  \\\n",
       "0        0.000069          fishbone           0.451         258440     0.970   \n",
       "1        0.068200    michael franks           0.861         222107     0.726   \n",
       "2        0.936000        paul speer           0.605         258000     0.229   \n",
       "3        0.001650            slayer           0.267         321040     0.957   \n",
       "4        0.028900  the replacements           0.644         231267     0.629   \n",
       "\n",
       "                       id  c_instrumentalness  c_liveness  c_loudness  v_mode  \\\n",
       "0  4dtBF3w1v4NLzkO6ePwvue             0.10300      0.1360      -4.622       1   \n",
       "1  68LFkY4TMwgKqfOtnNEZ1j             0.00013      0.0922     -12.759       1   \n",
       "2  6FZfxmeVhsdqkD8WJfP83n             0.86000      0.1000     -16.300       1   \n",
       "3  6hIroseB9TaxU9a5lhO4sD             0.40800      0.0897      -7.754       0   \n",
       "4  789VjU3oh8sxOfBN4fupqH             0.00000      0.0662     -11.646       0   \n",
       "\n",
       "   ... c_speechiness  c_tempo c_valence  c_zip Code  v_genero    zip  \\\n",
       "0  ...        0.1360  144.071    0.3960       65774        47  65774   \n",
       "1  ...        0.0743  118.005    0.8980       92586        20  92586   \n",
       "2  ...        0.0340  127.295    0.0634         918        50    918   \n",
       "3  ...        0.0812  104.683    0.1410       59247        50  59247   \n",
       "4  ...        0.0473  117.489    0.7480        2919        20   2919   \n",
       "\n",
       "        lat        lng              city       state_name  \n",
       "0  37.92914  -93.49222      We801aubleau      Misso551uri  \n",
       "1  33.70901 -117.19889        Menife875e    Cali972fornia  \n",
       "2  18.42138  -66.06588       San706 Juan   Puerto Ri109co  \n",
       "3  48.51172 -104.53507  Medic882ine Lake       Mo655ntana  \n",
       "4  41.82737  -71.51998       Joh127nston  Rhode Is658land  \n",
       "\n",
       "[5 rows x 23 columns]"
      ]
     },
     "execution_count": 37,
     "metadata": {},
     "output_type": "execute_result"
    }
   ],
   "source": [
    "df.head()"
   ]
  },
  {
   "cell_type": "code",
   "execution_count": 38,
   "metadata": {
    "ExecuteTime": {
     "end_time": "2021-01-19T08:22:15.096739Z",
     "start_time": "2021-01-19T08:22:14.938139Z"
    }
   },
   "outputs": [],
   "source": [
    "#Añadimos prefijo a las nuevas variables\n",
    "df=raname_columns(df,[\"lat\",\"lng\"],\"c_\")\n",
    "df=raname_columns(df,[\"city\",\"state_name\"],\"t_\")"
   ]
  },
  {
   "cell_type": "code",
   "execution_count": 39,
   "metadata": {
    "ExecuteTime": {
     "end_time": "2021-01-19T08:22:15.329750Z",
     "start_time": "2021-01-19T08:22:15.098241Z"
    },
    "scrolled": true
   },
   "outputs": [
    {
     "data": {
      "text/html": [
       "<div>\n",
       "<style scoped>\n",
       "    .dataframe tbody tr th:only-of-type {\n",
       "        vertical-align: middle;\n",
       "    }\n",
       "\n",
       "    .dataframe tbody tr th {\n",
       "        vertical-align: top;\n",
       "    }\n",
       "\n",
       "    .dataframe thead th {\n",
       "        text-align: right;\n",
       "    }\n",
       "</style>\n",
       "<table border=\"1\" class=\"dataframe\">\n",
       "  <thead>\n",
       "    <tr style=\"text-align: right;\">\n",
       "      <th></th>\n",
       "      <th>c_acousticness</th>\n",
       "      <th>t_artists</th>\n",
       "      <th>c_danceability</th>\n",
       "      <th>c_duration_ms</th>\n",
       "      <th>c_energy</th>\n",
       "      <th>id</th>\n",
       "      <th>c_instrumentalness</th>\n",
       "      <th>c_liveness</th>\n",
       "      <th>c_loudness</th>\n",
       "      <th>v_mode</th>\n",
       "      <th>...</th>\n",
       "      <th>c_speechiness</th>\n",
       "      <th>c_tempo</th>\n",
       "      <th>c_valence</th>\n",
       "      <th>c_zip Code</th>\n",
       "      <th>v_genero</th>\n",
       "      <th>zip</th>\n",
       "      <th>c_lat</th>\n",
       "      <th>c_lng</th>\n",
       "      <th>t_city</th>\n",
       "      <th>t_state_name</th>\n",
       "    </tr>\n",
       "  </thead>\n",
       "  <tbody>\n",
       "    <tr>\n",
       "      <th>0</th>\n",
       "      <td>0.000069</td>\n",
       "      <td>fishbone</td>\n",
       "      <td>0.451</td>\n",
       "      <td>258440</td>\n",
       "      <td>0.970</td>\n",
       "      <td>4dtBF3w1v4NLzkO6ePwvue</td>\n",
       "      <td>0.10300</td>\n",
       "      <td>0.1360</td>\n",
       "      <td>-4.622</td>\n",
       "      <td>1</td>\n",
       "      <td>...</td>\n",
       "      <td>0.1360</td>\n",
       "      <td>144.071</td>\n",
       "      <td>0.3960</td>\n",
       "      <td>65774</td>\n",
       "      <td>47</td>\n",
       "      <td>65774</td>\n",
       "      <td>37.92914</td>\n",
       "      <td>-93.49222</td>\n",
       "      <td>We801aubleau</td>\n",
       "      <td>Misso551uri</td>\n",
       "    </tr>\n",
       "    <tr>\n",
       "      <th>1</th>\n",
       "      <td>0.068200</td>\n",
       "      <td>michael franks</td>\n",
       "      <td>0.861</td>\n",
       "      <td>222107</td>\n",
       "      <td>0.726</td>\n",
       "      <td>68LFkY4TMwgKqfOtnNEZ1j</td>\n",
       "      <td>0.00013</td>\n",
       "      <td>0.0922</td>\n",
       "      <td>-12.759</td>\n",
       "      <td>1</td>\n",
       "      <td>...</td>\n",
       "      <td>0.0743</td>\n",
       "      <td>118.005</td>\n",
       "      <td>0.8980</td>\n",
       "      <td>92586</td>\n",
       "      <td>20</td>\n",
       "      <td>92586</td>\n",
       "      <td>33.70901</td>\n",
       "      <td>-117.19889</td>\n",
       "      <td>Menife875e</td>\n",
       "      <td>Cali972fornia</td>\n",
       "    </tr>\n",
       "    <tr>\n",
       "      <th>2</th>\n",
       "      <td>0.936000</td>\n",
       "      <td>paul speer</td>\n",
       "      <td>0.605</td>\n",
       "      <td>258000</td>\n",
       "      <td>0.229</td>\n",
       "      <td>6FZfxmeVhsdqkD8WJfP83n</td>\n",
       "      <td>0.86000</td>\n",
       "      <td>0.1000</td>\n",
       "      <td>-16.300</td>\n",
       "      <td>1</td>\n",
       "      <td>...</td>\n",
       "      <td>0.0340</td>\n",
       "      <td>127.295</td>\n",
       "      <td>0.0634</td>\n",
       "      <td>918</td>\n",
       "      <td>50</td>\n",
       "      <td>918</td>\n",
       "      <td>18.42138</td>\n",
       "      <td>-66.06588</td>\n",
       "      <td>San706 Juan</td>\n",
       "      <td>Puerto Ri109co</td>\n",
       "    </tr>\n",
       "    <tr>\n",
       "      <th>3</th>\n",
       "      <td>0.001650</td>\n",
       "      <td>slayer</td>\n",
       "      <td>0.267</td>\n",
       "      <td>321040</td>\n",
       "      <td>0.957</td>\n",
       "      <td>6hIroseB9TaxU9a5lhO4sD</td>\n",
       "      <td>0.40800</td>\n",
       "      <td>0.0897</td>\n",
       "      <td>-7.754</td>\n",
       "      <td>0</td>\n",
       "      <td>...</td>\n",
       "      <td>0.0812</td>\n",
       "      <td>104.683</td>\n",
       "      <td>0.1410</td>\n",
       "      <td>59247</td>\n",
       "      <td>50</td>\n",
       "      <td>59247</td>\n",
       "      <td>48.51172</td>\n",
       "      <td>-104.53507</td>\n",
       "      <td>Medic882ine Lake</td>\n",
       "      <td>Mo655ntana</td>\n",
       "    </tr>\n",
       "    <tr>\n",
       "      <th>4</th>\n",
       "      <td>0.028900</td>\n",
       "      <td>the replacements</td>\n",
       "      <td>0.644</td>\n",
       "      <td>231267</td>\n",
       "      <td>0.629</td>\n",
       "      <td>789VjU3oh8sxOfBN4fupqH</td>\n",
       "      <td>0.00000</td>\n",
       "      <td>0.0662</td>\n",
       "      <td>-11.646</td>\n",
       "      <td>0</td>\n",
       "      <td>...</td>\n",
       "      <td>0.0473</td>\n",
       "      <td>117.489</td>\n",
       "      <td>0.7480</td>\n",
       "      <td>2919</td>\n",
       "      <td>20</td>\n",
       "      <td>2919</td>\n",
       "      <td>41.82737</td>\n",
       "      <td>-71.51998</td>\n",
       "      <td>Joh127nston</td>\n",
       "      <td>Rhode Is658land</td>\n",
       "    </tr>\n",
       "    <tr>\n",
       "      <th>...</th>\n",
       "      <td>...</td>\n",
       "      <td>...</td>\n",
       "      <td>...</td>\n",
       "      <td>...</td>\n",
       "      <td>...</td>\n",
       "      <td>...</td>\n",
       "      <td>...</td>\n",
       "      <td>...</td>\n",
       "      <td>...</td>\n",
       "      <td>...</td>\n",
       "      <td>...</td>\n",
       "      <td>...</td>\n",
       "      <td>...</td>\n",
       "      <td>...</td>\n",
       "      <td>...</td>\n",
       "      <td>...</td>\n",
       "      <td>...</td>\n",
       "      <td>...</td>\n",
       "      <td>...</td>\n",
       "      <td>...</td>\n",
       "      <td>...</td>\n",
       "    </tr>\n",
       "    <tr>\n",
       "      <th>165553</th>\n",
       "      <td>0.143000</td>\n",
       "      <td>pop smoke</td>\n",
       "      <td>0.836</td>\n",
       "      <td>194680</td>\n",
       "      <td>0.627</td>\n",
       "      <td>1dnsojUNfvhiztcITLzruj</td>\n",
       "      <td>0.00000</td>\n",
       "      <td>0.0657</td>\n",
       "      <td>-4.377</td>\n",
       "      <td>0</td>\n",
       "      <td>...</td>\n",
       "      <td>0.1970</td>\n",
       "      <td>142.990</td>\n",
       "      <td>0.6520</td>\n",
       "      <td>41004</td>\n",
       "      <td>NaN</td>\n",
       "      <td>41004</td>\n",
       "      <td>38.65389</td>\n",
       "      <td>-84.10655</td>\n",
       "      <td>Brooksv160ille</td>\n",
       "      <td>Ke50ntucky</td>\n",
       "    </tr>\n",
       "    <tr>\n",
       "      <th>165554</th>\n",
       "      <td>0.023600</td>\n",
       "      <td>lil uzi vert</td>\n",
       "      <td>0.775</td>\n",
       "      <td>234627</td>\n",
       "      <td>0.720</td>\n",
       "      <td>1Xd0PWZV3LCEGzc7fkjTeu</td>\n",
       "      <td>0.00000</td>\n",
       "      <td>0.1140</td>\n",
       "      <td>-5.353</td>\n",
       "      <td>0</td>\n",
       "      <td>...</td>\n",
       "      <td>0.1930</td>\n",
       "      <td>155.086</td>\n",
       "      <td>0.4900</td>\n",
       "      <td>82001</td>\n",
       "      <td>NaN</td>\n",
       "      <td>82001</td>\n",
       "      <td>41.09146</td>\n",
       "      <td>-104.93445</td>\n",
       "      <td>Che214yenne</td>\n",
       "      <td>Wyomin654g</td>\n",
       "    </tr>\n",
       "    <tr>\n",
       "      <th>165555</th>\n",
       "      <td>0.996000</td>\n",
       "      <td>alexander scriabin</td>\n",
       "      <td>0.319</td>\n",
       "      <td>326067</td>\n",
       "      <td>0.155</td>\n",
       "      <td>6T0mZB7p3qzOifdXZ3Su9P</td>\n",
       "      <td>0.91700</td>\n",
       "      <td>0.1260</td>\n",
       "      <td>-18.728</td>\n",
       "      <td>1</td>\n",
       "      <td>...</td>\n",
       "      <td>0.0360</td>\n",
       "      <td>66.947</td>\n",
       "      <td>0.0488</td>\n",
       "      <td>12935</td>\n",
       "      <td>NaN</td>\n",
       "      <td>12935</td>\n",
       "      <td>44.83473</td>\n",
       "      <td>-73.78753</td>\n",
       "      <td>Ellenburg 249Depot</td>\n",
       "      <td>Ne100w York</td>\n",
       "    </tr>\n",
       "    <tr>\n",
       "      <th>165556</th>\n",
       "      <td>0.732000</td>\n",
       "      <td>seweryn goszczynski</td>\n",
       "      <td>0.720</td>\n",
       "      <td>100700</td>\n",
       "      <td>0.286</td>\n",
       "      <td>6qxoAGlWUrVYbvq3x6S08C</td>\n",
       "      <td>0.00000</td>\n",
       "      <td>0.2920</td>\n",
       "      <td>-15.861</td>\n",
       "      <td>1</td>\n",
       "      <td>...</td>\n",
       "      <td>0.9390</td>\n",
       "      <td>114.059</td>\n",
       "      <td>0.6950</td>\n",
       "      <td>7058</td>\n",
       "      <td>NaN</td>\n",
       "      <td>7058</td>\n",
       "      <td>40.86728</td>\n",
       "      <td>-74.34275</td>\n",
       "      <td>Pine Br352ook</td>\n",
       "      <td>677New Jersey</td>\n",
       "    </tr>\n",
       "    <tr>\n",
       "      <th>165557</th>\n",
       "      <td>0.779000</td>\n",
       "      <td>the merlons</td>\n",
       "      <td>0.427</td>\n",
       "      <td>128707</td>\n",
       "      <td>0.531</td>\n",
       "      <td>41wmjlc9ChMBHZ8fB0btdM</td>\n",
       "      <td>0.97800</td>\n",
       "      <td>0.1450</td>\n",
       "      <td>-16.675</td>\n",
       "      <td>1</td>\n",
       "      <td>...</td>\n",
       "      <td>0.0325</td>\n",
       "      <td>110.993</td>\n",
       "      <td>0.3530</td>\n",
       "      <td>38879</td>\n",
       "      <td>NaN</td>\n",
       "      <td>38879</td>\n",
       "      <td>34.18708</td>\n",
       "      <td>-88.71688</td>\n",
       "      <td>Ver709ona</td>\n",
       "      <td>222Mississippi</td>\n",
       "    </tr>\n",
       "  </tbody>\n",
       "</table>\n",
       "<p>165558 rows × 23 columns</p>\n",
       "</div>"
      ],
      "text/plain": [
       "        c_acousticness            t_artists  c_danceability  c_duration_ms  \\\n",
       "0             0.000069             fishbone           0.451         258440   \n",
       "1             0.068200       michael franks           0.861         222107   \n",
       "2             0.936000           paul speer           0.605         258000   \n",
       "3             0.001650               slayer           0.267         321040   \n",
       "4             0.028900     the replacements           0.644         231267   \n",
       "...                ...                  ...             ...            ...   \n",
       "165553        0.143000            pop smoke           0.836         194680   \n",
       "165554        0.023600         lil uzi vert           0.775         234627   \n",
       "165555        0.996000   alexander scriabin           0.319         326067   \n",
       "165556        0.732000  seweryn goszczynski           0.720         100700   \n",
       "165557        0.779000          the merlons           0.427         128707   \n",
       "\n",
       "        c_energy                      id  c_instrumentalness  c_liveness  \\\n",
       "0          0.970  4dtBF3w1v4NLzkO6ePwvue             0.10300      0.1360   \n",
       "1          0.726  68LFkY4TMwgKqfOtnNEZ1j             0.00013      0.0922   \n",
       "2          0.229  6FZfxmeVhsdqkD8WJfP83n             0.86000      0.1000   \n",
       "3          0.957  6hIroseB9TaxU9a5lhO4sD             0.40800      0.0897   \n",
       "4          0.629  789VjU3oh8sxOfBN4fupqH             0.00000      0.0662   \n",
       "...          ...                     ...                 ...         ...   \n",
       "165553     0.627  1dnsojUNfvhiztcITLzruj             0.00000      0.0657   \n",
       "165554     0.720  1Xd0PWZV3LCEGzc7fkjTeu             0.00000      0.1140   \n",
       "165555     0.155  6T0mZB7p3qzOifdXZ3Su9P             0.91700      0.1260   \n",
       "165556     0.286  6qxoAGlWUrVYbvq3x6S08C             0.00000      0.2920   \n",
       "165557     0.531  41wmjlc9ChMBHZ8fB0btdM             0.97800      0.1450   \n",
       "\n",
       "        c_loudness  v_mode  ... c_speechiness  c_tempo c_valence  c_zip Code  \\\n",
       "0           -4.622       1  ...        0.1360  144.071    0.3960       65774   \n",
       "1          -12.759       1  ...        0.0743  118.005    0.8980       92586   \n",
       "2          -16.300       1  ...        0.0340  127.295    0.0634         918   \n",
       "3           -7.754       0  ...        0.0812  104.683    0.1410       59247   \n",
       "4          -11.646       0  ...        0.0473  117.489    0.7480        2919   \n",
       "...            ...     ...  ...           ...      ...       ...         ...   \n",
       "165553      -4.377       0  ...        0.1970  142.990    0.6520       41004   \n",
       "165554      -5.353       0  ...        0.1930  155.086    0.4900       82001   \n",
       "165555     -18.728       1  ...        0.0360   66.947    0.0488       12935   \n",
       "165556     -15.861       1  ...        0.9390  114.059    0.6950        7058   \n",
       "165557     -16.675       1  ...        0.0325  110.993    0.3530       38879   \n",
       "\n",
       "        v_genero    zip     c_lat      c_lng              t_city  \\\n",
       "0             47  65774  37.92914  -93.49222        We801aubleau   \n",
       "1             20  92586  33.70901 -117.19889          Menife875e   \n",
       "2             50    918  18.42138  -66.06588         San706 Juan   \n",
       "3             50  59247  48.51172 -104.53507    Medic882ine Lake   \n",
       "4             20   2919  41.82737  -71.51998         Joh127nston   \n",
       "...          ...    ...       ...        ...                 ...   \n",
       "165553       NaN  41004  38.65389  -84.10655      Brooksv160ille   \n",
       "165554       NaN  82001  41.09146 -104.93445         Che214yenne   \n",
       "165555       NaN  12935  44.83473  -73.78753  Ellenburg 249Depot   \n",
       "165556       NaN   7058  40.86728  -74.34275       Pine Br352ook   \n",
       "165557       NaN  38879  34.18708  -88.71688           Ver709ona   \n",
       "\n",
       "           t_state_name  \n",
       "0           Misso551uri  \n",
       "1         Cali972fornia  \n",
       "2        Puerto Ri109co  \n",
       "3            Mo655ntana  \n",
       "4       Rhode Is658land  \n",
       "...                 ...  \n",
       "165553       Ke50ntucky  \n",
       "165554       Wyomin654g  \n",
       "165555      Ne100w York  \n",
       "165556    677New Jersey  \n",
       "165557   222Mississippi  \n",
       "\n",
       "[165558 rows x 23 columns]"
      ]
     },
     "execution_count": 39,
     "metadata": {},
     "output_type": "execute_result"
    }
   ],
   "source": [
    "df"
   ]
  },
  {
   "cell_type": "markdown",
   "metadata": {},
   "source": [
    "<h2 style=\"color:green\"> (m) Convierte las variables ”lat” y ”lng” en tipo flotante y valida que la informacion sea consistente.<h2/>"
   ]
  },
  {
   "cell_type": "code",
   "execution_count": 40,
   "metadata": {
    "ExecuteTime": {
     "end_time": "2021-01-19T08:22:15.335876Z",
     "start_time": "2021-01-19T08:22:15.331854Z"
    }
   },
   "outputs": [],
   "source": [
    "#Vriable lat a tipo flotante\n",
    "df[\"c_lat\"]=df[\"c_lat\"].astype(float)"
   ]
  },
  {
   "cell_type": "code",
   "execution_count": 41,
   "metadata": {
    "ExecuteTime": {
     "end_time": "2021-01-19T08:22:15.625483Z",
     "start_time": "2021-01-19T08:22:15.533371Z"
    }
   },
   "outputs": [
    {
     "data": {
      "text/html": [
       "<div>\n",
       "<style scoped>\n",
       "    .dataframe tbody tr th:only-of-type {\n",
       "        vertical-align: middle;\n",
       "    }\n",
       "\n",
       "    .dataframe tbody tr th {\n",
       "        vertical-align: top;\n",
       "    }\n",
       "\n",
       "    .dataframe thead th {\n",
       "        text-align: right;\n",
       "    }\n",
       "</style>\n",
       "<table border=\"1\" class=\"dataframe\">\n",
       "  <thead>\n",
       "    <tr style=\"text-align: right;\">\n",
       "      <th></th>\n",
       "      <th>c_acousticness</th>\n",
       "      <th>t_artists</th>\n",
       "      <th>c_danceability</th>\n",
       "      <th>c_duration_ms</th>\n",
       "      <th>c_energy</th>\n",
       "      <th>id</th>\n",
       "      <th>c_instrumentalness</th>\n",
       "      <th>c_liveness</th>\n",
       "      <th>c_loudness</th>\n",
       "      <th>v_mode</th>\n",
       "      <th>...</th>\n",
       "      <th>c_speechiness</th>\n",
       "      <th>c_tempo</th>\n",
       "      <th>c_valence</th>\n",
       "      <th>c_zip Code</th>\n",
       "      <th>v_genero</th>\n",
       "      <th>zip</th>\n",
       "      <th>c_lat</th>\n",
       "      <th>c_lng</th>\n",
       "      <th>t_city</th>\n",
       "      <th>t_state_name</th>\n",
       "    </tr>\n",
       "  </thead>\n",
       "  <tbody>\n",
       "  </tbody>\n",
       "</table>\n",
       "<p>0 rows × 23 columns</p>\n",
       "</div>"
      ],
      "text/plain": [
       "Empty DataFrame\n",
       "Columns: [c_acousticness, t_artists, c_danceability, c_duration_ms, c_energy, id, c_instrumentalness, c_liveness, c_loudness, v_mode, t_name, v_popularity, d_release_date, c_speechiness, c_tempo, c_valence, c_zip Code, v_genero, zip, c_lat, c_lng, t_city, t_state_name]\n",
       "Index: []\n",
       "\n",
       "[0 rows x 23 columns]"
      ]
     },
     "execution_count": 41,
     "metadata": {},
     "output_type": "execute_result"
    }
   ],
   "source": [
    "#Validamos la informacion (latitud solo toma valores mayores o igual a -90 y menores a 90)\n",
    "\n",
    "df[(df[\"c_lat\"]<-90)|(df[\"c_lat\"]>90)]"
   ]
  },
  {
   "cell_type": "code",
   "execution_count": 42,
   "metadata": {
    "ExecuteTime": {
     "end_time": "2021-01-19T08:22:15.772943Z",
     "start_time": "2021-01-19T08:22:15.762684Z"
    }
   },
   "outputs": [],
   "source": [
    "#Variable longitud a tipo flotante\n",
    "df[\"c_lng\"]=df[\"c_lng\"].astype(float)"
   ]
  },
  {
   "cell_type": "code",
   "execution_count": 43,
   "metadata": {
    "ExecuteTime": {
     "end_time": "2021-01-19T08:22:16.023668Z",
     "start_time": "2021-01-19T08:22:15.972284Z"
    }
   },
   "outputs": [
    {
     "data": {
      "text/plain": [
       "count    165558.000000\n",
       "mean        -91.209638\n",
       "std          16.185693\n",
       "min        -331.846760\n",
       "25%         -97.279790\n",
       "50%         -88.259090\n",
       "75%         -80.222950\n",
       "max         -65.290170\n",
       "Name: c_lng, dtype: float64"
      ]
     },
     "execution_count": 43,
     "metadata": {},
     "output_type": "execute_result"
    }
   ],
   "source": [
    "\n",
    "df[\"c_lng\"].describe()"
   ]
  },
  {
   "cell_type": "code",
   "execution_count": 44,
   "metadata": {
    "ExecuteTime": {
     "end_time": "2021-01-19T08:22:16.229770Z",
     "start_time": "2021-01-19T08:22:16.183219Z"
    },
    "scrolled": true
   },
   "outputs": [
    {
     "data": {
      "text/html": [
       "<div>\n",
       "<style scoped>\n",
       "    .dataframe tbody tr th:only-of-type {\n",
       "        vertical-align: middle;\n",
       "    }\n",
       "\n",
       "    .dataframe tbody tr th {\n",
       "        vertical-align: top;\n",
       "    }\n",
       "\n",
       "    .dataframe thead th {\n",
       "        text-align: right;\n",
       "    }\n",
       "</style>\n",
       "<table border=\"1\" class=\"dataframe\">\n",
       "  <thead>\n",
       "    <tr style=\"text-align: right;\">\n",
       "      <th></th>\n",
       "      <th>c_acousticness</th>\n",
       "      <th>t_artists</th>\n",
       "      <th>c_danceability</th>\n",
       "      <th>c_duration_ms</th>\n",
       "      <th>c_energy</th>\n",
       "      <th>id</th>\n",
       "      <th>c_instrumentalness</th>\n",
       "      <th>c_liveness</th>\n",
       "      <th>c_loudness</th>\n",
       "      <th>v_mode</th>\n",
       "      <th>...</th>\n",
       "      <th>c_speechiness</th>\n",
       "      <th>c_tempo</th>\n",
       "      <th>c_valence</th>\n",
       "      <th>c_zip Code</th>\n",
       "      <th>v_genero</th>\n",
       "      <th>zip</th>\n",
       "      <th>c_lat</th>\n",
       "      <th>c_lng</th>\n",
       "      <th>t_city</th>\n",
       "      <th>t_state_name</th>\n",
       "    </tr>\n",
       "  </thead>\n",
       "  <tbody>\n",
       "    <tr>\n",
       "      <th>1116</th>\n",
       "      <td>0.25500</td>\n",
       "      <td>men at work</td>\n",
       "      <td>0.708</td>\n",
       "      <td>271707</td>\n",
       "      <td>0.605</td>\n",
       "      <td>5xNmWMhsZncmM9zziHww42</td>\n",
       "      <td>0.000022</td>\n",
       "      <td>0.0838</td>\n",
       "      <td>-4.710</td>\n",
       "      <td>1</td>\n",
       "      <td>...</td>\n",
       "      <td>0.0287</td>\n",
       "      <td>106.297</td>\n",
       "      <td>0.9360</td>\n",
       "      <td>14714</td>\n",
       "      <td>16</td>\n",
       "      <td>14714</td>\n",
       "      <td>42.28999</td>\n",
       "      <td>-258.23324</td>\n",
       "      <td>Bla805ck Creek</td>\n",
       "      <td>New 276York</td>\n",
       "    </tr>\n",
       "    <tr>\n",
       "      <th>1318</th>\n",
       "      <td>0.52100</td>\n",
       "      <td>fred neil</td>\n",
       "      <td>0.671</td>\n",
       "      <td>164600</td>\n",
       "      <td>0.299</td>\n",
       "      <td>7GrpcaiW2YyqUH3n1F6Q6s</td>\n",
       "      <td>0.000288</td>\n",
       "      <td>0.1500</td>\n",
       "      <td>-13.215</td>\n",
       "      <td>1</td>\n",
       "      <td>...</td>\n",
       "      <td>0.0315</td>\n",
       "      <td>120.112</td>\n",
       "      <td>0.5740</td>\n",
       "      <td>61075</td>\n",
       "      <td>20</td>\n",
       "      <td>61075</td>\n",
       "      <td>42.46444</td>\n",
       "      <td>-270.25896</td>\n",
       "      <td>485Scales Mound</td>\n",
       "      <td>Ill85inois</td>\n",
       "    </tr>\n",
       "    <tr>\n",
       "      <th>2599</th>\n",
       "      <td>0.44200</td>\n",
       "      <td>alexandre desplat</td>\n",
       "      <td>0.321</td>\n",
       "      <td>144200</td>\n",
       "      <td>0.241</td>\n",
       "      <td>775OxWq9wfVzmVDS0n3zff</td>\n",
       "      <td>0.888000</td>\n",
       "      <td>0.1050</td>\n",
       "      <td>-20.495</td>\n",
       "      <td>1</td>\n",
       "      <td>...</td>\n",
       "      <td>0.0373</td>\n",
       "      <td>128.980</td>\n",
       "      <td>0.0795</td>\n",
       "      <td>61243</td>\n",
       "      <td>47</td>\n",
       "      <td>61243</td>\n",
       "      <td>41.61876</td>\n",
       "      <td>-269.68295</td>\n",
       "      <td>Deer Gro891ve</td>\n",
       "      <td>Illino520is</td>\n",
       "    </tr>\n",
       "    <tr>\n",
       "      <th>2673</th>\n",
       "      <td>0.05910</td>\n",
       "      <td>mumford sons</td>\n",
       "      <td>0.454</td>\n",
       "      <td>290813</td>\n",
       "      <td>0.415</td>\n",
       "      <td>0cBDCol7TFmvpT4A4YpxV3</td>\n",
       "      <td>0.003610</td>\n",
       "      <td>0.0831</td>\n",
       "      <td>-9.554</td>\n",
       "      <td>1</td>\n",
       "      <td>...</td>\n",
       "      <td>0.0359</td>\n",
       "      <td>129.621</td>\n",
       "      <td>0.1360</td>\n",
       "      <td>38069</td>\n",
       "      <td>50</td>\n",
       "      <td>38069</td>\n",
       "      <td>35.46389</td>\n",
       "      <td>-269.36435</td>\n",
       "      <td>56Stanton</td>\n",
       "      <td>T65ennessee</td>\n",
       "    </tr>\n",
       "    <tr>\n",
       "      <th>2732</th>\n",
       "      <td>0.12000</td>\n",
       "      <td>luke benward</td>\n",
       "      <td>0.703</td>\n",
       "      <td>203320</td>\n",
       "      <td>0.691</td>\n",
       "      <td>686IBfvmRBy1eFjYLPIJFr</td>\n",
       "      <td>0.000000</td>\n",
       "      <td>0.0830</td>\n",
       "      <td>-7.294</td>\n",
       "      <td>1</td>\n",
       "      <td>...</td>\n",
       "      <td>0.0315</td>\n",
       "      <td>121.016</td>\n",
       "      <td>0.9060</td>\n",
       "      <td>61243</td>\n",
       "      <td>20</td>\n",
       "      <td>61243</td>\n",
       "      <td>41.61876</td>\n",
       "      <td>-269.68295</td>\n",
       "      <td>Deer Gro891ve</td>\n",
       "      <td>Illino520is</td>\n",
       "    </tr>\n",
       "    <tr>\n",
       "      <th>...</th>\n",
       "      <td>...</td>\n",
       "      <td>...</td>\n",
       "      <td>...</td>\n",
       "      <td>...</td>\n",
       "      <td>...</td>\n",
       "      <td>...</td>\n",
       "      <td>...</td>\n",
       "      <td>...</td>\n",
       "      <td>...</td>\n",
       "      <td>...</td>\n",
       "      <td>...</td>\n",
       "      <td>...</td>\n",
       "      <td>...</td>\n",
       "      <td>...</td>\n",
       "      <td>...</td>\n",
       "      <td>...</td>\n",
       "      <td>...</td>\n",
       "      <td>...</td>\n",
       "      <td>...</td>\n",
       "      <td>...</td>\n",
       "      <td>...</td>\n",
       "    </tr>\n",
       "    <tr>\n",
       "      <th>160882</th>\n",
       "      <td>0.84300</td>\n",
       "      <td>ella mae morse</td>\n",
       "      <td>0.761</td>\n",
       "      <td>182227</td>\n",
       "      <td>0.182</td>\n",
       "      <td>5A0SH2AUQa0iyaVkTs1wDu</td>\n",
       "      <td>0.000022</td>\n",
       "      <td>0.0761</td>\n",
       "      <td>-12.773</td>\n",
       "      <td>0</td>\n",
       "      <td>...</td>\n",
       "      <td>0.1030</td>\n",
       "      <td>128.326</td>\n",
       "      <td>0.5860</td>\n",
       "      <td>48173</td>\n",
       "      <td>16</td>\n",
       "      <td>48173</td>\n",
       "      <td>42.07512</td>\n",
       "      <td>-263.21466</td>\n",
       "      <td>R330ockwood</td>\n",
       "      <td>Michig181an</td>\n",
       "    </tr>\n",
       "    <tr>\n",
       "      <th>160929</th>\n",
       "      <td>0.88400</td>\n",
       "      <td>the fleetwoods</td>\n",
       "      <td>0.588</td>\n",
       "      <td>128867</td>\n",
       "      <td>0.158</td>\n",
       "      <td>6uQlc0WC4jGIJhIKCIfHJo</td>\n",
       "      <td>0.000648</td>\n",
       "      <td>0.1110</td>\n",
       "      <td>-17.737</td>\n",
       "      <td>1</td>\n",
       "      <td>...</td>\n",
       "      <td>0.0341</td>\n",
       "      <td>105.659</td>\n",
       "      <td>0.4720</td>\n",
       "      <td>48173</td>\n",
       "      <td>16</td>\n",
       "      <td>48173</td>\n",
       "      <td>42.07512</td>\n",
       "      <td>-263.21466</td>\n",
       "      <td>R330ockwood</td>\n",
       "      <td>Michig181an</td>\n",
       "    </tr>\n",
       "    <tr>\n",
       "      <th>161434</th>\n",
       "      <td>0.00239</td>\n",
       "      <td>dave simon</td>\n",
       "      <td>0.458</td>\n",
       "      <td>286567</td>\n",
       "      <td>0.955</td>\n",
       "      <td>0IM4J8XbrTKxe6xMiHYEFD</td>\n",
       "      <td>0.000002</td>\n",
       "      <td>0.1350</td>\n",
       "      <td>-4.335</td>\n",
       "      <td>0</td>\n",
       "      <td>...</td>\n",
       "      <td>0.0413</td>\n",
       "      <td>157.998</td>\n",
       "      <td>0.7070</td>\n",
       "      <td>61243</td>\n",
       "      <td>16</td>\n",
       "      <td>61243</td>\n",
       "      <td>41.61876</td>\n",
       "      <td>-269.68295</td>\n",
       "      <td>Deer Gro891ve</td>\n",
       "      <td>Illino520is</td>\n",
       "    </tr>\n",
       "    <tr>\n",
       "      <th>162205</th>\n",
       "      <td>0.07170</td>\n",
       "      <td>mary j blige</td>\n",
       "      <td>0.726</td>\n",
       "      <td>246333</td>\n",
       "      <td>0.700</td>\n",
       "      <td>6Y3WvyUG9iE5bQYg38SPtQ</td>\n",
       "      <td>0.000000</td>\n",
       "      <td>0.2620</td>\n",
       "      <td>-5.881</td>\n",
       "      <td>0</td>\n",
       "      <td>...</td>\n",
       "      <td>0.0998</td>\n",
       "      <td>146.559</td>\n",
       "      <td>0.6730</td>\n",
       "      <td>99756</td>\n",
       "      <td>12</td>\n",
       "      <td>99756</td>\n",
       "      <td>64.58632</td>\n",
       "      <td>-331.84676</td>\n",
       "      <td>Manley Hot Sprin273gs</td>\n",
       "      <td>Alask655a</td>\n",
       "    </tr>\n",
       "    <tr>\n",
       "      <th>163720</th>\n",
       "      <td>0.98900</td>\n",
       "      <td>perchicot</td>\n",
       "      <td>0.769</td>\n",
       "      <td>140267</td>\n",
       "      <td>0.442</td>\n",
       "      <td>6ZWi1fuonJCUlt4p6o9Uzs</td>\n",
       "      <td>0.000001</td>\n",
       "      <td>0.1670</td>\n",
       "      <td>-12.697</td>\n",
       "      <td>0</td>\n",
       "      <td>...</td>\n",
       "      <td>0.2730</td>\n",
       "      <td>132.125</td>\n",
       "      <td>0.9340</td>\n",
       "      <td>99756</td>\n",
       "      <td>20</td>\n",
       "      <td>99756</td>\n",
       "      <td>64.58632</td>\n",
       "      <td>-331.84676</td>\n",
       "      <td>Manley Hot Sprin273gs</td>\n",
       "      <td>Alask655a</td>\n",
       "    </tr>\n",
       "  </tbody>\n",
       "</table>\n",
       "<p>173 rows × 23 columns</p>\n",
       "</div>"
      ],
      "text/plain": [
       "        c_acousticness          t_artists  c_danceability  c_duration_ms  \\\n",
       "1116           0.25500        men at work           0.708         271707   \n",
       "1318           0.52100          fred neil           0.671         164600   \n",
       "2599           0.44200  alexandre desplat           0.321         144200   \n",
       "2673           0.05910       mumford sons           0.454         290813   \n",
       "2732           0.12000       luke benward           0.703         203320   \n",
       "...                ...                ...             ...            ...   \n",
       "160882         0.84300     ella mae morse           0.761         182227   \n",
       "160929         0.88400     the fleetwoods           0.588         128867   \n",
       "161434         0.00239         dave simon           0.458         286567   \n",
       "162205         0.07170       mary j blige           0.726         246333   \n",
       "163720         0.98900          perchicot           0.769         140267   \n",
       "\n",
       "        c_energy                      id  c_instrumentalness  c_liveness  \\\n",
       "1116       0.605  5xNmWMhsZncmM9zziHww42            0.000022      0.0838   \n",
       "1318       0.299  7GrpcaiW2YyqUH3n1F6Q6s            0.000288      0.1500   \n",
       "2599       0.241  775OxWq9wfVzmVDS0n3zff            0.888000      0.1050   \n",
       "2673       0.415  0cBDCol7TFmvpT4A4YpxV3            0.003610      0.0831   \n",
       "2732       0.691  686IBfvmRBy1eFjYLPIJFr            0.000000      0.0830   \n",
       "...          ...                     ...                 ...         ...   \n",
       "160882     0.182  5A0SH2AUQa0iyaVkTs1wDu            0.000022      0.0761   \n",
       "160929     0.158  6uQlc0WC4jGIJhIKCIfHJo            0.000648      0.1110   \n",
       "161434     0.955  0IM4J8XbrTKxe6xMiHYEFD            0.000002      0.1350   \n",
       "162205     0.700  6Y3WvyUG9iE5bQYg38SPtQ            0.000000      0.2620   \n",
       "163720     0.442  6ZWi1fuonJCUlt4p6o9Uzs            0.000001      0.1670   \n",
       "\n",
       "        c_loudness  v_mode  ... c_speechiness  c_tempo c_valence  c_zip Code  \\\n",
       "1116        -4.710       1  ...        0.0287  106.297    0.9360       14714   \n",
       "1318       -13.215       1  ...        0.0315  120.112    0.5740       61075   \n",
       "2599       -20.495       1  ...        0.0373  128.980    0.0795       61243   \n",
       "2673        -9.554       1  ...        0.0359  129.621    0.1360       38069   \n",
       "2732        -7.294       1  ...        0.0315  121.016    0.9060       61243   \n",
       "...            ...     ...  ...           ...      ...       ...         ...   \n",
       "160882     -12.773       0  ...        0.1030  128.326    0.5860       48173   \n",
       "160929     -17.737       1  ...        0.0341  105.659    0.4720       48173   \n",
       "161434      -4.335       0  ...        0.0413  157.998    0.7070       61243   \n",
       "162205      -5.881       0  ...        0.0998  146.559    0.6730       99756   \n",
       "163720     -12.697       0  ...        0.2730  132.125    0.9340       99756   \n",
       "\n",
       "        v_genero    zip     c_lat      c_lng                 t_city  \\\n",
       "1116          16  14714  42.28999 -258.23324         Bla805ck Creek   \n",
       "1318          20  61075  42.46444 -270.25896        485Scales Mound   \n",
       "2599          47  61243  41.61876 -269.68295          Deer Gro891ve   \n",
       "2673          50  38069  35.46389 -269.36435              56Stanton   \n",
       "2732          20  61243  41.61876 -269.68295          Deer Gro891ve   \n",
       "...          ...    ...       ...        ...                    ...   \n",
       "160882        16  48173  42.07512 -263.21466            R330ockwood   \n",
       "160929        16  48173  42.07512 -263.21466            R330ockwood   \n",
       "161434        16  61243  41.61876 -269.68295          Deer Gro891ve   \n",
       "162205        12  99756  64.58632 -331.84676  Manley Hot Sprin273gs   \n",
       "163720        20  99756  64.58632 -331.84676  Manley Hot Sprin273gs   \n",
       "\n",
       "        t_state_name  \n",
       "1116     New 276York  \n",
       "1318      Ill85inois  \n",
       "2599     Illino520is  \n",
       "2673     T65ennessee  \n",
       "2732     Illino520is  \n",
       "...              ...  \n",
       "160882   Michig181an  \n",
       "160929   Michig181an  \n",
       "161434   Illino520is  \n",
       "162205     Alask655a  \n",
       "163720     Alask655a  \n",
       "\n",
       "[173 rows x 23 columns]"
      ]
     },
     "execution_count": 44,
     "metadata": {},
     "output_type": "execute_result"
    }
   ],
   "source": [
    "#Observamos valores menores que -180\n",
    "df[(df[\"c_lng\"]<-180)|(df[\"c_lng\"]>180)]"
   ]
  },
  {
   "cell_type": "code",
   "execution_count": 45,
   "metadata": {
    "ExecuteTime": {
     "end_time": "2021-01-19T08:22:16.419941Z",
     "start_time": "2021-01-19T08:22:16.413618Z"
    }
   },
   "outputs": [
    {
     "data": {
      "text/plain": [
       "173"
      ]
     },
     "execution_count": 45,
     "metadata": {},
     "output_type": "execute_result"
    }
   ],
   "source": [
    "#Número de registros no validos en longitud\n",
    "df[(df[\"c_lng\"]<-180)|(df[\"c_lng\"]>180)].shape[0]"
   ]
  },
  {
   "cell_type": "code",
   "execution_count": 46,
   "metadata": {
    "ExecuteTime": {
     "end_time": "2021-01-19T08:22:16.669609Z",
     "start_time": "2021-01-19T08:22:16.654734Z"
    }
   },
   "outputs": [
    {
     "data": {
      "text/plain": [
       "165558"
      ]
     },
     "execution_count": 46,
     "metadata": {},
     "output_type": "execute_result"
    }
   ],
   "source": [
    "df.shape[0]"
   ]
  },
  {
   "cell_type": "code",
   "execution_count": 47,
   "metadata": {
    "ExecuteTime": {
     "end_time": "2021-01-19T08:22:16.984001Z",
     "start_time": "2021-01-19T08:22:16.888589Z"
    }
   },
   "outputs": [],
   "source": [
    "#Eliminamos los registro no validos\n",
    "df=df[~(df[\"c_lng\"]<-180)|(df[\"c_lng\"]>180)].reset_index(drop=True)"
   ]
  },
  {
   "cell_type": "code",
   "execution_count": 48,
   "metadata": {
    "ExecuteTime": {
     "end_time": "2021-01-19T08:22:18.230328Z",
     "start_time": "2021-01-19T08:22:17.116182Z"
    }
   },
   "outputs": [
    {
     "data": {
      "text/plain": [
       "(165385, 23)"
      ]
     },
     "execution_count": 48,
     "metadata": {},
     "output_type": "execute_result"
    }
   ],
   "source": [
    "df.shape"
   ]
  },
  {
   "cell_type": "markdown",
   "metadata": {},
   "source": [
    "<h2 style=\"color:green\">(n) De la variable ”city” y ”state” elimina los dıgitos que se encuentran dentro de las cadenas de texto<h2/>"
   ]
  },
  {
   "cell_type": "code",
   "execution_count": 49,
   "metadata": {
    "ExecuteTime": {
     "end_time": "2021-01-19T08:22:19.502214Z",
     "start_time": "2021-01-19T08:22:18.232914Z"
    }
   },
   "outputs": [
    {
     "data": {
      "text/plain": [
       "0               weaubleau\n",
       "1                 menifee\n",
       "2                san juan\n",
       "3           medicine lake\n",
       "4                johnston\n",
       "               ...       \n",
       "165380        brooksville\n",
       "165381           cheyenne\n",
       "165382    ellenburg depot\n",
       "165383         pine brook\n",
       "165384             verona\n",
       "Name: t_city, Length: 165385, dtype: object"
      ]
     },
     "execution_count": 49,
     "metadata": {},
     "output_type": "execute_result"
    }
   ],
   "source": [
    "#Utilizamos clean_text y modificamos el pattern para que solo seleccione letras y los números los modifique por \"\"\n",
    "df[\"t_city\"].map(lambda x:clean_text(x, pattern=\"[^a-zA-Z ]\",replace=\"\"))"
   ]
  },
  {
   "cell_type": "code",
   "execution_count": 50,
   "metadata": {
    "ExecuteTime": {
     "end_time": "2021-01-19T08:22:20.047942Z",
     "start_time": "2021-01-19T08:22:19.504885Z"
    }
   },
   "outputs": [],
   "source": [
    "df[\"t_city\"]=df[\"t_city\"].map(lambda x:clean_text(x, pattern=\"[^a-zA-Z ]\",replace=\"\"))"
   ]
  },
  {
   "cell_type": "code",
   "execution_count": 51,
   "metadata": {
    "ExecuteTime": {
     "end_time": "2021-01-19T08:22:20.994177Z",
     "start_time": "2021-01-19T08:22:20.049779Z"
    }
   },
   "outputs": [
    {
     "data": {
      "text/plain": [
       "0             missouri\n",
       "1           california\n",
       "2          puerto rico\n",
       "3              montana\n",
       "4         rhode island\n",
       "              ...     \n",
       "165380        kentucky\n",
       "165381         wyoming\n",
       "165382        new york\n",
       "165383      new jersey\n",
       "165384     mississippi\n",
       "Name: t_state_name, Length: 165385, dtype: object"
      ]
     },
     "execution_count": 51,
     "metadata": {},
     "output_type": "execute_result"
    }
   ],
   "source": [
    "df[\"t_state_name\"].map(lambda x:clean_text(x, pattern=\"[^a-zA-Z ]\",replace=\"\"))"
   ]
  },
  {
   "cell_type": "code",
   "execution_count": 52,
   "metadata": {
    "ExecuteTime": {
     "end_time": "2021-01-19T08:22:22.297213Z",
     "start_time": "2021-01-19T08:22:20.995788Z"
    }
   },
   "outputs": [],
   "source": [
    "df[\"t_state_name\"]=df[\"t_state_name\"].map(lambda x:clean_text(x, pattern=\"[^a-zA-Z ]\",replace=\"\"))"
   ]
  },
  {
   "cell_type": "markdown",
   "metadata": {},
   "source": [
    "<h2 style=\"color:green\">(o) Crea una nueva variable llamada ”state” que este conformada por ”city”,”state name”<h2/>"
   ]
  },
  {
   "cell_type": "code",
   "execution_count": 53,
   "metadata": {
    "ExecuteTime": {
     "end_time": "2021-01-19T08:22:23.467129Z",
     "start_time": "2021-01-19T08:22:22.298728Z"
    },
    "scrolled": true
   },
   "outputs": [
    {
     "data": {
      "text/html": [
       "<div>\n",
       "<style scoped>\n",
       "    .dataframe tbody tr th:only-of-type {\n",
       "        vertical-align: middle;\n",
       "    }\n",
       "\n",
       "    .dataframe tbody tr th {\n",
       "        vertical-align: top;\n",
       "    }\n",
       "\n",
       "    .dataframe thead th {\n",
       "        text-align: right;\n",
       "    }\n",
       "</style>\n",
       "<table border=\"1\" class=\"dataframe\">\n",
       "  <thead>\n",
       "    <tr style=\"text-align: right;\">\n",
       "      <th></th>\n",
       "      <th>c_acousticness</th>\n",
       "      <th>t_artists</th>\n",
       "      <th>c_danceability</th>\n",
       "      <th>c_duration_ms</th>\n",
       "      <th>c_energy</th>\n",
       "      <th>id</th>\n",
       "      <th>c_instrumentalness</th>\n",
       "      <th>c_liveness</th>\n",
       "      <th>c_loudness</th>\n",
       "      <th>v_mode</th>\n",
       "      <th>...</th>\n",
       "      <th>c_tempo</th>\n",
       "      <th>c_valence</th>\n",
       "      <th>c_zip Code</th>\n",
       "      <th>v_genero</th>\n",
       "      <th>zip</th>\n",
       "      <th>c_lat</th>\n",
       "      <th>c_lng</th>\n",
       "      <th>t_city</th>\n",
       "      <th>t_state_name</th>\n",
       "      <th>t_state</th>\n",
       "    </tr>\n",
       "  </thead>\n",
       "  <tbody>\n",
       "    <tr>\n",
       "      <th>0</th>\n",
       "      <td>0.000069</td>\n",
       "      <td>fishbone</td>\n",
       "      <td>0.451</td>\n",
       "      <td>258440</td>\n",
       "      <td>0.970</td>\n",
       "      <td>4dtBF3w1v4NLzkO6ePwvue</td>\n",
       "      <td>0.10300</td>\n",
       "      <td>0.1360</td>\n",
       "      <td>-4.622</td>\n",
       "      <td>1</td>\n",
       "      <td>...</td>\n",
       "      <td>144.071</td>\n",
       "      <td>0.3960</td>\n",
       "      <td>65774</td>\n",
       "      <td>47</td>\n",
       "      <td>65774</td>\n",
       "      <td>37.92914</td>\n",
       "      <td>-93.49222</td>\n",
       "      <td>weaubleau</td>\n",
       "      <td>missouri</td>\n",
       "      <td>weaubleau, missouri</td>\n",
       "    </tr>\n",
       "    <tr>\n",
       "      <th>1</th>\n",
       "      <td>0.068200</td>\n",
       "      <td>michael franks</td>\n",
       "      <td>0.861</td>\n",
       "      <td>222107</td>\n",
       "      <td>0.726</td>\n",
       "      <td>68LFkY4TMwgKqfOtnNEZ1j</td>\n",
       "      <td>0.00013</td>\n",
       "      <td>0.0922</td>\n",
       "      <td>-12.759</td>\n",
       "      <td>1</td>\n",
       "      <td>...</td>\n",
       "      <td>118.005</td>\n",
       "      <td>0.8980</td>\n",
       "      <td>92586</td>\n",
       "      <td>20</td>\n",
       "      <td>92586</td>\n",
       "      <td>33.70901</td>\n",
       "      <td>-117.19889</td>\n",
       "      <td>menifee</td>\n",
       "      <td>california</td>\n",
       "      <td>menifee, california</td>\n",
       "    </tr>\n",
       "    <tr>\n",
       "      <th>2</th>\n",
       "      <td>0.936000</td>\n",
       "      <td>paul speer</td>\n",
       "      <td>0.605</td>\n",
       "      <td>258000</td>\n",
       "      <td>0.229</td>\n",
       "      <td>6FZfxmeVhsdqkD8WJfP83n</td>\n",
       "      <td>0.86000</td>\n",
       "      <td>0.1000</td>\n",
       "      <td>-16.300</td>\n",
       "      <td>1</td>\n",
       "      <td>...</td>\n",
       "      <td>127.295</td>\n",
       "      <td>0.0634</td>\n",
       "      <td>918</td>\n",
       "      <td>50</td>\n",
       "      <td>918</td>\n",
       "      <td>18.42138</td>\n",
       "      <td>-66.06588</td>\n",
       "      <td>san juan</td>\n",
       "      <td>puerto rico</td>\n",
       "      <td>san juan, puerto rico</td>\n",
       "    </tr>\n",
       "    <tr>\n",
       "      <th>3</th>\n",
       "      <td>0.001650</td>\n",
       "      <td>slayer</td>\n",
       "      <td>0.267</td>\n",
       "      <td>321040</td>\n",
       "      <td>0.957</td>\n",
       "      <td>6hIroseB9TaxU9a5lhO4sD</td>\n",
       "      <td>0.40800</td>\n",
       "      <td>0.0897</td>\n",
       "      <td>-7.754</td>\n",
       "      <td>0</td>\n",
       "      <td>...</td>\n",
       "      <td>104.683</td>\n",
       "      <td>0.1410</td>\n",
       "      <td>59247</td>\n",
       "      <td>50</td>\n",
       "      <td>59247</td>\n",
       "      <td>48.51172</td>\n",
       "      <td>-104.53507</td>\n",
       "      <td>medicine lake</td>\n",
       "      <td>montana</td>\n",
       "      <td>medicine lake, montana</td>\n",
       "    </tr>\n",
       "    <tr>\n",
       "      <th>4</th>\n",
       "      <td>0.028900</td>\n",
       "      <td>the replacements</td>\n",
       "      <td>0.644</td>\n",
       "      <td>231267</td>\n",
       "      <td>0.629</td>\n",
       "      <td>789VjU3oh8sxOfBN4fupqH</td>\n",
       "      <td>0.00000</td>\n",
       "      <td>0.0662</td>\n",
       "      <td>-11.646</td>\n",
       "      <td>0</td>\n",
       "      <td>...</td>\n",
       "      <td>117.489</td>\n",
       "      <td>0.7480</td>\n",
       "      <td>2919</td>\n",
       "      <td>20</td>\n",
       "      <td>2919</td>\n",
       "      <td>41.82737</td>\n",
       "      <td>-71.51998</td>\n",
       "      <td>johnston</td>\n",
       "      <td>rhode island</td>\n",
       "      <td>johnston, rhode island</td>\n",
       "    </tr>\n",
       "  </tbody>\n",
       "</table>\n",
       "<p>5 rows × 24 columns</p>\n",
       "</div>"
      ],
      "text/plain": [
       "   c_acousticness         t_artists  c_danceability  c_duration_ms  c_energy  \\\n",
       "0        0.000069          fishbone           0.451         258440     0.970   \n",
       "1        0.068200    michael franks           0.861         222107     0.726   \n",
       "2        0.936000        paul speer           0.605         258000     0.229   \n",
       "3        0.001650            slayer           0.267         321040     0.957   \n",
       "4        0.028900  the replacements           0.644         231267     0.629   \n",
       "\n",
       "                       id  c_instrumentalness  c_liveness  c_loudness  v_mode  \\\n",
       "0  4dtBF3w1v4NLzkO6ePwvue             0.10300      0.1360      -4.622       1   \n",
       "1  68LFkY4TMwgKqfOtnNEZ1j             0.00013      0.0922     -12.759       1   \n",
       "2  6FZfxmeVhsdqkD8WJfP83n             0.86000      0.1000     -16.300       1   \n",
       "3  6hIroseB9TaxU9a5lhO4sD             0.40800      0.0897      -7.754       0   \n",
       "4  789VjU3oh8sxOfBN4fupqH             0.00000      0.0662     -11.646       0   \n",
       "\n",
       "   ...  c_tempo  c_valence c_zip Code  v_genero    zip     c_lat      c_lng  \\\n",
       "0  ...  144.071     0.3960      65774        47  65774  37.92914  -93.49222   \n",
       "1  ...  118.005     0.8980      92586        20  92586  33.70901 -117.19889   \n",
       "2  ...  127.295     0.0634        918        50    918  18.42138  -66.06588   \n",
       "3  ...  104.683     0.1410      59247        50  59247  48.51172 -104.53507   \n",
       "4  ...  117.489     0.7480       2919        20   2919  41.82737  -71.51998   \n",
       "\n",
       "          t_city  t_state_name                 t_state  \n",
       "0      weaubleau      missouri     weaubleau, missouri  \n",
       "1        menifee    california     menifee, california  \n",
       "2       san juan   puerto rico   san juan, puerto rico  \n",
       "3  medicine lake       montana  medicine lake, montana  \n",
       "4       johnston  rhode island  johnston, rhode island  \n",
       "\n",
       "[5 rows x 24 columns]"
      ]
     },
     "execution_count": 53,
     "metadata": {},
     "output_type": "execute_result"
    }
   ],
   "source": [
    "df[\"t_state\"]=df[\"t_city\"]+ \", \" + df[\"t_state_name\"]\n",
    "\n",
    "df.head()"
   ]
  },
  {
   "cell_type": "markdown",
   "metadata": {},
   "source": [
    "<h2 style=\"color:green\">(p) Los valores de la nueva variable ”state” modificalos de cierta forma que todas sean minusculas y sin acentos<h2/>"
   ]
  },
  {
   "cell_type": "code",
   "execution_count": 54,
   "metadata": {
    "ExecuteTime": {
     "end_time": "2021-01-19T08:22:24.118893Z",
     "start_time": "2021-01-19T08:22:23.470030Z"
    }
   },
   "outputs": [
    {
     "data": {
      "text/plain": [
       "0       weaubleau, missouri\n",
       "1       menifee, california\n",
       "2     san juan, puerto rico\n",
       "3    medicine lake, montana\n",
       "4    johnston, rhode island\n",
       "Name: t_state, dtype: object"
      ]
     },
     "execution_count": 54,
     "metadata": {},
     "output_type": "execute_result"
    }
   ],
   "source": [
    "#Ya se eliminaron acentos en las variables city y state_name y solo verificamos que sean minusculas\n",
    "df[\"t_state\"]=df[\"t_state\"].map(lambda x:x.lower())\n",
    "df[\"t_state\"].head()"
   ]
  },
  {
   "cell_type": "markdown",
   "metadata": {},
   "source": [
    "<h2 style=\"color:green\">(q) Convierte los valores en la variable ”release date” a tipo datetime , ademas haz el conteo de las que no tienen la estructura necesaria para ser convertida en datetime y elimina esos registros<h2/>"
   ]
  },
  {
   "cell_type": "code",
   "execution_count": 55,
   "metadata": {
    "ExecuteTime": {
     "end_time": "2021-01-19T08:22:24.716187Z",
     "start_time": "2021-01-19T08:22:24.122522Z"
    }
   },
   "outputs": [],
   "source": [
    "#Convertimos a datetime\n",
    "df[\"d_release_date\"]=pd.to_datetime(df[\"d_release_date\"])"
   ]
  },
  {
   "cell_type": "markdown",
   "metadata": {},
   "source": [
    "<h2 style=\"color:orange\">2.(a) Obten un DataFrame donde se muestre el conteo de registros por genero<h2/>"
   ]
  },
  {
   "cell_type": "code",
   "execution_count": 56,
   "metadata": {
    "ExecuteTime": {
     "end_time": "2021-01-19T08:22:25.350371Z",
     "start_time": "2021-01-19T08:22:24.721007Z"
    }
   },
   "outputs": [],
   "source": [
    "conteo_genero=df[[\"v_genero\",\"id\"]].groupby(\"v_genero\").count().reset_index().rename({\"id\":\"Conteo\"})"
   ]
  },
  {
   "cell_type": "code",
   "execution_count": 57,
   "metadata": {
    "ExecuteTime": {
     "end_time": "2021-01-19T08:22:25.846068Z",
     "start_time": "2021-01-19T08:22:25.352705Z"
    }
   },
   "outputs": [
    {
     "data": {
      "text/html": [
       "<div>\n",
       "<style scoped>\n",
       "    .dataframe tbody tr th:only-of-type {\n",
       "        vertical-align: middle;\n",
       "    }\n",
       "\n",
       "    .dataframe tbody tr th {\n",
       "        vertical-align: top;\n",
       "    }\n",
       "\n",
       "    .dataframe thead th {\n",
       "        text-align: right;\n",
       "    }\n",
       "</style>\n",
       "<table border=\"1\" class=\"dataframe\">\n",
       "  <thead>\n",
       "    <tr style=\"text-align: right;\">\n",
       "      <th></th>\n",
       "      <th>v_genero</th>\n",
       "      <th>id</th>\n",
       "    </tr>\n",
       "  </thead>\n",
       "  <tbody>\n",
       "    <tr>\n",
       "      <th>0</th>\n",
       "      <td>12</td>\n",
       "      <td>22051</td>\n",
       "    </tr>\n",
       "    <tr>\n",
       "      <th>1</th>\n",
       "      <td>16</td>\n",
       "      <td>21876</td>\n",
       "    </tr>\n",
       "    <tr>\n",
       "      <th>2</th>\n",
       "      <td>20</td>\n",
       "      <td>30224</td>\n",
       "    </tr>\n",
       "    <tr>\n",
       "      <th>3</th>\n",
       "      <td>21</td>\n",
       "      <td>21709</td>\n",
       "    </tr>\n",
       "    <tr>\n",
       "      <th>4</th>\n",
       "      <td>30</td>\n",
       "      <td>3225</td>\n",
       "    </tr>\n",
       "    <tr>\n",
       "      <th>5</th>\n",
       "      <td>47</td>\n",
       "      <td>32944</td>\n",
       "    </tr>\n",
       "    <tr>\n",
       "      <th>6</th>\n",
       "      <td>48</td>\n",
       "      <td>3113</td>\n",
       "    </tr>\n",
       "    <tr>\n",
       "      <th>7</th>\n",
       "      <td>49</td>\n",
       "      <td>3189</td>\n",
       "    </tr>\n",
       "    <tr>\n",
       "      <th>8</th>\n",
       "      <td>50</td>\n",
       "      <td>24361</td>\n",
       "    </tr>\n",
       "    <tr>\n",
       "      <th>9</th>\n",
       "      <td>otros</td>\n",
       "      <td>1051</td>\n",
       "    </tr>\n",
       "  </tbody>\n",
       "</table>\n",
       "</div>"
      ],
      "text/plain": [
       "  v_genero     id\n",
       "0       12  22051\n",
       "1       16  21876\n",
       "2       20  30224\n",
       "3       21  21709\n",
       "4       30   3225\n",
       "5       47  32944\n",
       "6       48   3113\n",
       "7       49   3189\n",
       "8       50  24361\n",
       "9    otros   1051"
      ]
     },
     "execution_count": 57,
     "metadata": {},
     "output_type": "execute_result"
    }
   ],
   "source": [
    "conteo_genero"
   ]
  },
  {
   "cell_type": "markdown",
   "metadata": {},
   "source": [
    "<h2 style=\"color:orange\">2.(b) Genera una nueva variable que se llame ”duration minutos” que sea el valor de la variable ”duration ms” en minutos<h2/>"
   ]
  },
  {
   "cell_type": "code",
   "execution_count": 58,
   "metadata": {
    "ExecuteTime": {
     "end_time": "2021-01-19T08:22:26.429232Z",
     "start_time": "2021-01-19T08:22:25.854705Z"
    }
   },
   "outputs": [],
   "source": [
    "#Definimos una funcion para convertir milisegundos a minutos\n",
    "def minu(x):\n",
    "    ms = int(x)\n",
    "    s=(ms/1000)%60\n",
    "    s = int(s)\n",
    "    minutes=(ms/(1000*60))%60\n",
    "    return minutes"
   ]
  },
  {
   "cell_type": "code",
   "execution_count": 59,
   "metadata": {
    "ExecuteTime": {
     "end_time": "2021-01-19T08:22:26.948662Z",
     "start_time": "2021-01-19T08:22:26.434467Z"
    }
   },
   "outputs": [
    {
     "data": {
      "text/plain": [
       "0         4\n",
       "1         3\n",
       "2         4\n",
       "3         5\n",
       "4         3\n",
       "         ..\n",
       "165380    3\n",
       "165381    3\n",
       "165382    5\n",
       "165383    1\n",
       "165384    2\n",
       "Name: c_duration_ms, Length: 165385, dtype: int64"
      ]
     },
     "execution_count": 59,
     "metadata": {},
     "output_type": "execute_result"
    }
   ],
   "source": [
    "#Dividimos los milisegundos por 60000 y lo convertimos a entero\n",
    "df[\"c_duration_ms\"].map(lambda x: int(x/60000))"
   ]
  },
  {
   "cell_type": "code",
   "execution_count": 60,
   "metadata": {
    "ExecuteTime": {
     "end_time": "2021-01-19T08:22:27.034522Z",
     "start_time": "2021-01-19T08:22:26.951184Z"
    }
   },
   "outputs": [],
   "source": [
    "df[\"c_duration_min\"]=df[\"c_duration_ms\"].map(lambda x: int(x/60000))"
   ]
  },
  {
   "cell_type": "markdown",
   "metadata": {},
   "source": [
    "<h2 style=\"color:orange\">2.(c) ¿Cuales son las 10 canciones mas populares?<h2/>"
   ]
  },
  {
   "cell_type": "code",
   "execution_count": 61,
   "metadata": {
    "ExecuteTime": {
     "end_time": "2021-01-19T08:22:28.302242Z",
     "start_time": "2021-01-19T08:22:27.038103Z"
    }
   },
   "outputs": [
    {
     "data": {
      "text/html": [
       "<div>\n",
       "<style scoped>\n",
       "    .dataframe tbody tr th:only-of-type {\n",
       "        vertical-align: middle;\n",
       "    }\n",
       "\n",
       "    .dataframe tbody tr th {\n",
       "        vertical-align: top;\n",
       "    }\n",
       "\n",
       "    .dataframe thead th {\n",
       "        text-align: right;\n",
       "    }\n",
       "</style>\n",
       "<table border=\"1\" class=\"dataframe\">\n",
       "  <thead>\n",
       "    <tr style=\"text-align: right;\">\n",
       "      <th></th>\n",
       "      <th>v_popularity</th>\n",
       "    </tr>\n",
       "    <tr>\n",
       "      <th>t_name</th>\n",
       "      <th></th>\n",
       "    </tr>\n",
       "  </thead>\n",
       "  <tbody>\n",
       "    <tr>\n",
       "      <th>blinding lights</th>\n",
       "      <td>100.0</td>\n",
       "    </tr>\n",
       "    <tr>\n",
       "      <th>rockstar feat roddy ricch</th>\n",
       "      <td>99.0</td>\n",
       "    </tr>\n",
       "    <tr>\n",
       "      <th>death bed coffee for your head feat beabadoobee</th>\n",
       "      <td>97.0</td>\n",
       "    </tr>\n",
       "    <tr>\n",
       "      <th>the scotts</th>\n",
       "      <td>96.0</td>\n",
       "    </tr>\n",
       "    <tr>\n",
       "      <th>the box</th>\n",
       "      <td>95.0</td>\n",
       "    </tr>\n",
       "    <tr>\n",
       "      <th>toosie slide</th>\n",
       "      <td>95.0</td>\n",
       "    </tr>\n",
       "    <tr>\n",
       "      <th>supalonely</th>\n",
       "      <td>95.0</td>\n",
       "    </tr>\n",
       "    <tr>\n",
       "      <th>ily i love you baby feat emilee</th>\n",
       "      <td>95.0</td>\n",
       "    </tr>\n",
       "    <tr>\n",
       "      <th>dance monkey</th>\n",
       "      <td>94.0</td>\n",
       "    </tr>\n",
       "    <tr>\n",
       "      <th>stuck with u with justin bieber</th>\n",
       "      <td>94.0</td>\n",
       "    </tr>\n",
       "  </tbody>\n",
       "</table>\n",
       "</div>"
      ],
      "text/plain": [
       "                                                 v_popularity\n",
       "t_name                                                       \n",
       "blinding lights                                         100.0\n",
       "rockstar feat roddy ricch                                99.0\n",
       "death bed coffee for your head feat beabadoobee          97.0\n",
       "the scotts                                               96.0\n",
       "the box                                                  95.0\n",
       "toosie slide                                             95.0\n",
       "supalonely                                               95.0\n",
       "ily i love you baby feat emilee                          95.0\n",
       "dance monkey                                             94.0\n",
       "stuck with u with justin bieber                          94.0"
      ]
     },
     "execution_count": 61,
     "metadata": {},
     "output_type": "execute_result"
    }
   ],
   "source": [
    "#Agrupamos por nombre de la cancion y buscamos el maximo de popularidad\n",
    "df[['v_popularity','t_name']].groupby(\"t_name\").agg(\"max\").sort_values('v_popularity', ascending=False).head(10)"
   ]
  },
  {
   "cell_type": "markdown",
   "metadata": {},
   "source": [
    "<h2 style=\"color:orange\">2.(d) ¿Cual es el promedio de duracion en minutos y milisegundos?<h2/>"
   ]
  },
  {
   "cell_type": "code",
   "execution_count": 62,
   "metadata": {
    "ExecuteTime": {
     "end_time": "2021-01-19T08:22:29.143685Z",
     "start_time": "2021-01-19T08:22:28.303976Z"
    }
   },
   "outputs": [
    {
     "name": "stdout",
     "output_type": "stream",
     "text": [
      "El promedio de duracion en minutos es : 3.36\n"
     ]
    }
   ],
   "source": [
    "print(f\"El promedio de duracion en minutos es : {round(df['c_duration_min'].mean(),2)}\")\n"
   ]
  },
  {
   "cell_type": "code",
   "execution_count": 63,
   "metadata": {
    "ExecuteTime": {
     "end_time": "2021-01-19T08:22:30.372074Z",
     "start_time": "2021-01-19T08:22:29.148873Z"
    }
   },
   "outputs": [
    {
     "name": "stdout",
     "output_type": "stream",
     "text": [
      "El promedio de duracion en milisegundos es : 231413.97\n"
     ]
    }
   ],
   "source": [
    "\n",
    "print(f\"El promedio de duracion en milisegundos es : {round(df['c_duration_ms'].mean(),2)}\")"
   ]
  },
  {
   "cell_type": "markdown",
   "metadata": {},
   "source": [
    "<h2 style=\"color:orange\">2.(e) ¿Cual es el promedio y conteo de ”energy” por ”genero”?<h2/>"
   ]
  },
  {
   "cell_type": "code",
   "execution_count": 64,
   "metadata": {
    "ExecuteTime": {
     "end_time": "2021-01-19T08:22:31.906853Z",
     "start_time": "2021-01-19T08:22:30.376729Z"
    },
    "scrolled": true
   },
   "outputs": [
    {
     "data": {
      "text/html": [
       "<div>\n",
       "<style scoped>\n",
       "    .dataframe tbody tr th:only-of-type {\n",
       "        vertical-align: middle;\n",
       "    }\n",
       "\n",
       "    .dataframe tbody tr th {\n",
       "        vertical-align: top;\n",
       "    }\n",
       "\n",
       "    .dataframe thead tr th {\n",
       "        text-align: left;\n",
       "    }\n",
       "\n",
       "    .dataframe thead tr:last-of-type th {\n",
       "        text-align: right;\n",
       "    }\n",
       "</style>\n",
       "<table border=\"1\" class=\"dataframe\">\n",
       "  <thead>\n",
       "    <tr>\n",
       "      <th></th>\n",
       "      <th colspan=\"2\" halign=\"left\">c_energy</th>\n",
       "    </tr>\n",
       "    <tr>\n",
       "      <th></th>\n",
       "      <th>mean</th>\n",
       "      <th>count</th>\n",
       "    </tr>\n",
       "    <tr>\n",
       "      <th>v_genero</th>\n",
       "      <th></th>\n",
       "      <th></th>\n",
       "    </tr>\n",
       "  </thead>\n",
       "  <tbody>\n",
       "    <tr>\n",
       "      <th>12.0</th>\n",
       "      <td>0.493282</td>\n",
       "      <td>22051</td>\n",
       "    </tr>\n",
       "    <tr>\n",
       "      <th>16.0</th>\n",
       "      <td>0.488466</td>\n",
       "      <td>21876</td>\n",
       "    </tr>\n",
       "    <tr>\n",
       "      <th>20.0</th>\n",
       "      <td>0.488744</td>\n",
       "      <td>30224</td>\n",
       "    </tr>\n",
       "    <tr>\n",
       "      <th>21.0</th>\n",
       "      <td>0.489854</td>\n",
       "      <td>21709</td>\n",
       "    </tr>\n",
       "    <tr>\n",
       "      <th>30.0</th>\n",
       "      <td>0.488177</td>\n",
       "      <td>3225</td>\n",
       "    </tr>\n",
       "    <tr>\n",
       "      <th>47.0</th>\n",
       "      <td>0.491386</td>\n",
       "      <td>32944</td>\n",
       "    </tr>\n",
       "    <tr>\n",
       "      <th>48.0</th>\n",
       "      <td>0.493182</td>\n",
       "      <td>3113</td>\n",
       "    </tr>\n",
       "    <tr>\n",
       "      <th>49.0</th>\n",
       "      <td>0.489869</td>\n",
       "      <td>3189</td>\n",
       "    </tr>\n",
       "    <tr>\n",
       "      <th>50.0</th>\n",
       "      <td>0.492076</td>\n",
       "      <td>24361</td>\n",
       "    </tr>\n",
       "    <tr>\n",
       "      <th>otros</th>\n",
       "      <td>0.480729</td>\n",
       "      <td>1051</td>\n",
       "    </tr>\n",
       "  </tbody>\n",
       "</table>\n",
       "</div>"
      ],
      "text/plain": [
       "          c_energy       \n",
       "              mean  count\n",
       "v_genero                 \n",
       "12.0      0.493282  22051\n",
       "16.0      0.488466  21876\n",
       "20.0      0.488744  30224\n",
       "21.0      0.489854  21709\n",
       "30.0      0.488177   3225\n",
       "47.0      0.491386  32944\n",
       "48.0      0.493182   3113\n",
       "49.0      0.489869   3189\n",
       "50.0      0.492076  24361\n",
       "otros     0.480729   1051"
      ]
     },
     "execution_count": 64,
     "metadata": {},
     "output_type": "execute_result"
    }
   ],
   "source": [
    "df[[\"c_energy\",\"v_genero\"]].groupby(\"v_genero\").agg([\"mean\",\"count\"])"
   ]
  },
  {
   "cell_type": "markdown",
   "metadata": {},
   "source": [
    "<h2 style=\"color:orange\">2.(f) ¿Que cancion tiene el ”loudness” mas bajo y cual es la cancion que tiene el ”loudness” mas alto?<h2/>"
   ]
  },
  {
   "cell_type": "code",
   "execution_count": 65,
   "metadata": {
    "ExecuteTime": {
     "end_time": "2021-01-19T08:22:32.900484Z",
     "start_time": "2021-01-19T08:22:31.912462Z"
    }
   },
   "outputs": [
    {
     "data": {
      "text/html": [
       "<div>\n",
       "<style scoped>\n",
       "    .dataframe tbody tr th:only-of-type {\n",
       "        vertical-align: middle;\n",
       "    }\n",
       "\n",
       "    .dataframe tbody tr th {\n",
       "        vertical-align: top;\n",
       "    }\n",
       "\n",
       "    .dataframe thead th {\n",
       "        text-align: right;\n",
       "    }\n",
       "</style>\n",
       "<table border=\"1\" class=\"dataframe\">\n",
       "  <thead>\n",
       "    <tr style=\"text-align: right;\">\n",
       "      <th></th>\n",
       "      <th>c_loudness</th>\n",
       "    </tr>\n",
       "    <tr>\n",
       "      <th>t_name</th>\n",
       "      <th></th>\n",
       "    </tr>\n",
       "  </thead>\n",
       "  <tbody>\n",
       "    <tr>\n",
       "      <th>sold</th>\n",
       "      <td>3.855</td>\n",
       "    </tr>\n",
       "  </tbody>\n",
       "</table>\n",
       "</div>"
      ],
      "text/plain": [
       "        c_loudness\n",
       "t_name            \n",
       "sold         3.855"
      ]
     },
     "execution_count": 65,
     "metadata": {},
     "output_type": "execute_result"
    }
   ],
   "source": [
    "#Loudness mas alto - Cancion\n",
    "df[['c_loudness','t_name']].groupby(\"t_name\").agg(\"max\").sort_values('c_loudness', ascending=False).head(1)"
   ]
  },
  {
   "cell_type": "code",
   "execution_count": 66,
   "metadata": {
    "ExecuteTime": {
     "end_time": "2021-01-19T08:22:32.913240Z",
     "start_time": "2021-01-19T08:22:32.903347Z"
    },
    "scrolled": true
   },
   "outputs": [
    {
     "data": {
      "text/plain": [
       "37004                            hava nagilah\n",
       "43513                             pause track\n",
       "55878                            silent track\n",
       "56760                            silent track\n",
       "59349                       my yiddishe momme\n",
       "93434                        pause track live\n",
       "102717                       pause track live\n",
       "131150    staggerlee has his day at the beach\n",
       "139704                            pause track\n",
       "Name: t_name, dtype: object"
      ]
     },
     "execution_count": 66,
     "metadata": {},
     "output_type": "execute_result"
    }
   ],
   "source": [
    "#Cancion con el loudness mas bajo\n",
    "df[df[\"c_loudness\"]==df[\"c_loudness\"].min()][\"t_name\"]"
   ]
  },
  {
   "cell_type": "markdown",
   "metadata": {},
   "source": [
    "<h2 style=\"color:orange\">2.(g) Obtenga los 10 percentiles de las variables continuas<h2/>"
   ]
  },
  {
   "cell_type": "code",
   "execution_count": 67,
   "metadata": {
    "ExecuteTime": {
     "end_time": "2021-01-19T08:22:33.281973Z",
     "start_time": "2021-01-19T08:22:32.918680Z"
    }
   },
   "outputs": [
    {
     "data": {
      "text/html": [
       "<div>\n",
       "<style scoped>\n",
       "    .dataframe tbody tr th:only-of-type {\n",
       "        vertical-align: middle;\n",
       "    }\n",
       "\n",
       "    .dataframe tbody tr th {\n",
       "        vertical-align: top;\n",
       "    }\n",
       "\n",
       "    .dataframe thead th {\n",
       "        text-align: right;\n",
       "    }\n",
       "</style>\n",
       "<table border=\"1\" class=\"dataframe\">\n",
       "  <thead>\n",
       "    <tr style=\"text-align: right;\">\n",
       "      <th></th>\n",
       "      <th>c_acousticness</th>\n",
       "      <th>c_danceability</th>\n",
       "      <th>c_duration_ms</th>\n",
       "      <th>c_energy</th>\n",
       "      <th>c_instrumentalness</th>\n",
       "      <th>c_liveness</th>\n",
       "      <th>c_loudness</th>\n",
       "      <th>c_speechiness</th>\n",
       "      <th>c_tempo</th>\n",
       "      <th>c_valence</th>\n",
       "      <th>c_zip Code</th>\n",
       "      <th>c_lat</th>\n",
       "      <th>c_lng</th>\n",
       "      <th>c_duration_min</th>\n",
       "    </tr>\n",
       "  </thead>\n",
       "  <tbody>\n",
       "    <tr>\n",
       "      <th>count</th>\n",
       "      <td>165385.000000</td>\n",
       "      <td>165385.000000</td>\n",
       "      <td>1.653850e+05</td>\n",
       "      <td>165385.000000</td>\n",
       "      <td>165385.000000</td>\n",
       "      <td>165385.000000</td>\n",
       "      <td>165385.000000</td>\n",
       "      <td>165385.000000</td>\n",
       "      <td>165385.000000</td>\n",
       "      <td>165385.000000</td>\n",
       "      <td>165385.000000</td>\n",
       "      <td>165385.000000</td>\n",
       "      <td>165385.000000</td>\n",
       "      <td>165385.000000</td>\n",
       "    </tr>\n",
       "    <tr>\n",
       "      <th>mean</th>\n",
       "      <td>0.489770</td>\n",
       "      <td>0.539255</td>\n",
       "      <td>2.314140e+05</td>\n",
       "      <td>0.490662</td>\n",
       "      <td>0.160732</td>\n",
       "      <td>0.206409</td>\n",
       "      <td>-11.322550</td>\n",
       "      <td>0.094149</td>\n",
       "      <td>117.014726</td>\n",
       "      <td>0.532137</td>\n",
       "      <td>49678.013526</td>\n",
       "      <td>38.844631</td>\n",
       "      <td>-91.021895</td>\n",
       "      <td>3.358201</td>\n",
       "    </tr>\n",
       "    <tr>\n",
       "      <th>std</th>\n",
       "      <td>0.376817</td>\n",
       "      <td>0.175448</td>\n",
       "      <td>1.208784e+05</td>\n",
       "      <td>0.267560</td>\n",
       "      <td>0.308482</td>\n",
       "      <td>0.176539</td>\n",
       "      <td>5.666758</td>\n",
       "      <td>0.149633</td>\n",
       "      <td>30.736135</td>\n",
       "      <td>0.262245</td>\n",
       "      <td>27564.699930</td>\n",
       "      <td>5.336454</td>\n",
       "      <td>15.103526</td>\n",
       "      <td>2.035729</td>\n",
       "    </tr>\n",
       "    <tr>\n",
       "      <th>min</th>\n",
       "      <td>0.000000</td>\n",
       "      <td>0.000000</td>\n",
       "      <td>5.108000e+03</td>\n",
       "      <td>0.000000</td>\n",
       "      <td>0.000000</td>\n",
       "      <td>0.000000</td>\n",
       "      <td>-60.000000</td>\n",
       "      <td>0.000000</td>\n",
       "      <td>0.000000</td>\n",
       "      <td>0.000000</td>\n",
       "      <td>601.000000</td>\n",
       "      <td>17.966120</td>\n",
       "      <td>-176.631390</td>\n",
       "      <td>0.000000</td>\n",
       "    </tr>\n",
       "    <tr>\n",
       "      <th>10%</th>\n",
       "      <td>0.008710</td>\n",
       "      <td>0.299000</td>\n",
       "      <td>1.376530e+05</td>\n",
       "      <td>0.131000</td>\n",
       "      <td>0.000000</td>\n",
       "      <td>0.072900</td>\n",
       "      <td>-18.869000</td>\n",
       "      <td>0.030000</td>\n",
       "      <td>79.633000</td>\n",
       "      <td>0.159000</td>\n",
       "      <td>12494.000000</td>\n",
       "      <td>32.083210</td>\n",
       "      <td>-115.541160</td>\n",
       "      <td>2.000000</td>\n",
       "    </tr>\n",
       "    <tr>\n",
       "      <th>20%</th>\n",
       "      <td>0.051900</td>\n",
       "      <td>0.385000</td>\n",
       "      <td>1.625810e+05</td>\n",
       "      <td>0.222000</td>\n",
       "      <td>0.000000</td>\n",
       "      <td>0.091100</td>\n",
       "      <td>-15.565000</td>\n",
       "      <td>0.033400</td>\n",
       "      <td>89.268000</td>\n",
       "      <td>0.270800</td>\n",
       "      <td>21624.000000</td>\n",
       "      <td>34.309852</td>\n",
       "      <td>-99.660920</td>\n",
       "      <td>2.000000</td>\n",
       "    </tr>\n",
       "    <tr>\n",
       "      <th>30%</th>\n",
       "      <td>0.144000</td>\n",
       "      <td>0.448000</td>\n",
       "      <td>1.793046e+05</td>\n",
       "      <td>0.307000</td>\n",
       "      <td>0.000002</td>\n",
       "      <td>0.105000</td>\n",
       "      <td>-13.452000</td>\n",
       "      <td>0.036600</td>\n",
       "      <td>97.398200</td>\n",
       "      <td>0.367000</td>\n",
       "      <td>30669.000000</td>\n",
       "      <td>36.430390</td>\n",
       "      <td>-95.593110</td>\n",
       "      <td>2.000000</td>\n",
       "    </tr>\n",
       "    <tr>\n",
       "      <th>40%</th>\n",
       "      <td>0.289000</td>\n",
       "      <td>0.501000</td>\n",
       "      <td>1.936400e+05</td>\n",
       "      <td>0.396000</td>\n",
       "      <td>0.000020</td>\n",
       "      <td>0.116000</td>\n",
       "      <td>-11.855000</td>\n",
       "      <td>0.040400</td>\n",
       "      <td>106.043000</td>\n",
       "      <td>0.460000</td>\n",
       "      <td>40947.800000</td>\n",
       "      <td>38.155640</td>\n",
       "      <td>-91.911400</td>\n",
       "      <td>3.000000</td>\n",
       "    </tr>\n",
       "    <tr>\n",
       "      <th>50%</th>\n",
       "      <td>0.483000</td>\n",
       "      <td>0.549000</td>\n",
       "      <td>2.088750e+05</td>\n",
       "      <td>0.483000</td>\n",
       "      <td>0.000192</td>\n",
       "      <td>0.135000</td>\n",
       "      <td>-10.413000</td>\n",
       "      <td>0.045100</td>\n",
       "      <td>114.851000</td>\n",
       "      <td>0.544000</td>\n",
       "      <td>49807.000000</td>\n",
       "      <td>39.495250</td>\n",
       "      <td>-88.243500</td>\n",
       "      <td>3.000000</td>\n",
       "    </tr>\n",
       "    <tr>\n",
       "      <th>60%</th>\n",
       "      <td>0.680000</td>\n",
       "      <td>0.596000</td>\n",
       "      <td>2.275600e+05</td>\n",
       "      <td>0.572000</td>\n",
       "      <td>0.001940</td>\n",
       "      <td>0.167000</td>\n",
       "      <td>-9.066000</td>\n",
       "      <td>0.052200</td>\n",
       "      <td>122.720400</td>\n",
       "      <td>0.626000</td>\n",
       "      <td>58482.000000</td>\n",
       "      <td>40.602090</td>\n",
       "      <td>-84.602652</td>\n",
       "      <td>3.000000</td>\n",
       "    </tr>\n",
       "    <tr>\n",
       "      <th>70%</th>\n",
       "      <td>0.827000</td>\n",
       "      <td>0.643000</td>\n",
       "      <td>2.498670e+05</td>\n",
       "      <td>0.666000</td>\n",
       "      <td>0.022700</td>\n",
       "      <td>0.223000</td>\n",
       "      <td>-7.726000</td>\n",
       "      <td>0.064800</td>\n",
       "      <td>130.762800</td>\n",
       "      <td>0.708000</td>\n",
       "      <td>67065.000000</td>\n",
       "      <td>41.576180</td>\n",
       "      <td>-81.682180</td>\n",
       "      <td>4.000000</td>\n",
       "    </tr>\n",
       "    <tr>\n",
       "      <th>80%</th>\n",
       "      <td>0.932000</td>\n",
       "      <td>0.696000</td>\n",
       "      <td>2.798042e+05</td>\n",
       "      <td>0.761000</td>\n",
       "      <td>0.275000</td>\n",
       "      <td>0.305000</td>\n",
       "      <td>-6.406000</td>\n",
       "      <td>0.093300</td>\n",
       "      <td>141.187200</td>\n",
       "      <td>0.793000</td>\n",
       "      <td>76556.000000</td>\n",
       "      <td>42.770740</td>\n",
       "      <td>-78.377030</td>\n",
       "      <td>4.000000</td>\n",
       "    </tr>\n",
       "    <tr>\n",
       "      <th>90%</th>\n",
       "      <td>0.983000</td>\n",
       "      <td>0.761000</td>\n",
       "      <td>3.353730e+05</td>\n",
       "      <td>0.868000</td>\n",
       "      <td>0.829000</td>\n",
       "      <td>0.407000</td>\n",
       "      <td>-4.985000</td>\n",
       "      <td>0.193000</td>\n",
       "      <td>161.997000</td>\n",
       "      <td>0.887000</td>\n",
       "      <td>88346.000000</td>\n",
       "      <td>44.735720</td>\n",
       "      <td>-74.633750</td>\n",
       "      <td>5.000000</td>\n",
       "    </tr>\n",
       "    <tr>\n",
       "      <th>100%</th>\n",
       "      <td>0.996000</td>\n",
       "      <td>0.988000</td>\n",
       "      <td>5.403500e+06</td>\n",
       "      <td>1.000000</td>\n",
       "      <td>1.000000</td>\n",
       "      <td>1.000000</td>\n",
       "      <td>3.855000</td>\n",
       "      <td>0.969000</td>\n",
       "      <td>244.091000</td>\n",
       "      <td>1.000000</td>\n",
       "      <td>99929.000000</td>\n",
       "      <td>71.273740</td>\n",
       "      <td>-65.290170</td>\n",
       "      <td>90.000000</td>\n",
       "    </tr>\n",
       "    <tr>\n",
       "      <th>max</th>\n",
       "      <td>0.996000</td>\n",
       "      <td>0.988000</td>\n",
       "      <td>5.403500e+06</td>\n",
       "      <td>1.000000</td>\n",
       "      <td>1.000000</td>\n",
       "      <td>1.000000</td>\n",
       "      <td>3.855000</td>\n",
       "      <td>0.969000</td>\n",
       "      <td>244.091000</td>\n",
       "      <td>1.000000</td>\n",
       "      <td>99929.000000</td>\n",
       "      <td>71.273740</td>\n",
       "      <td>-65.290170</td>\n",
       "      <td>90.000000</td>\n",
       "    </tr>\n",
       "  </tbody>\n",
       "</table>\n",
       "</div>"
      ],
      "text/plain": [
       "       c_acousticness  c_danceability  c_duration_ms       c_energy  \\\n",
       "count   165385.000000   165385.000000   1.653850e+05  165385.000000   \n",
       "mean         0.489770        0.539255   2.314140e+05       0.490662   \n",
       "std          0.376817        0.175448   1.208784e+05       0.267560   \n",
       "min          0.000000        0.000000   5.108000e+03       0.000000   \n",
       "10%          0.008710        0.299000   1.376530e+05       0.131000   \n",
       "20%          0.051900        0.385000   1.625810e+05       0.222000   \n",
       "30%          0.144000        0.448000   1.793046e+05       0.307000   \n",
       "40%          0.289000        0.501000   1.936400e+05       0.396000   \n",
       "50%          0.483000        0.549000   2.088750e+05       0.483000   \n",
       "60%          0.680000        0.596000   2.275600e+05       0.572000   \n",
       "70%          0.827000        0.643000   2.498670e+05       0.666000   \n",
       "80%          0.932000        0.696000   2.798042e+05       0.761000   \n",
       "90%          0.983000        0.761000   3.353730e+05       0.868000   \n",
       "100%         0.996000        0.988000   5.403500e+06       1.000000   \n",
       "max          0.996000        0.988000   5.403500e+06       1.000000   \n",
       "\n",
       "       c_instrumentalness     c_liveness     c_loudness  c_speechiness  \\\n",
       "count       165385.000000  165385.000000  165385.000000  165385.000000   \n",
       "mean             0.160732       0.206409     -11.322550       0.094149   \n",
       "std              0.308482       0.176539       5.666758       0.149633   \n",
       "min              0.000000       0.000000     -60.000000       0.000000   \n",
       "10%              0.000000       0.072900     -18.869000       0.030000   \n",
       "20%              0.000000       0.091100     -15.565000       0.033400   \n",
       "30%              0.000002       0.105000     -13.452000       0.036600   \n",
       "40%              0.000020       0.116000     -11.855000       0.040400   \n",
       "50%              0.000192       0.135000     -10.413000       0.045100   \n",
       "60%              0.001940       0.167000      -9.066000       0.052200   \n",
       "70%              0.022700       0.223000      -7.726000       0.064800   \n",
       "80%              0.275000       0.305000      -6.406000       0.093300   \n",
       "90%              0.829000       0.407000      -4.985000       0.193000   \n",
       "100%             1.000000       1.000000       3.855000       0.969000   \n",
       "max              1.000000       1.000000       3.855000       0.969000   \n",
       "\n",
       "             c_tempo      c_valence     c_zip Code          c_lat  \\\n",
       "count  165385.000000  165385.000000  165385.000000  165385.000000   \n",
       "mean      117.014726       0.532137   49678.013526      38.844631   \n",
       "std        30.736135       0.262245   27564.699930       5.336454   \n",
       "min         0.000000       0.000000     601.000000      17.966120   \n",
       "10%        79.633000       0.159000   12494.000000      32.083210   \n",
       "20%        89.268000       0.270800   21624.000000      34.309852   \n",
       "30%        97.398200       0.367000   30669.000000      36.430390   \n",
       "40%       106.043000       0.460000   40947.800000      38.155640   \n",
       "50%       114.851000       0.544000   49807.000000      39.495250   \n",
       "60%       122.720400       0.626000   58482.000000      40.602090   \n",
       "70%       130.762800       0.708000   67065.000000      41.576180   \n",
       "80%       141.187200       0.793000   76556.000000      42.770740   \n",
       "90%       161.997000       0.887000   88346.000000      44.735720   \n",
       "100%      244.091000       1.000000   99929.000000      71.273740   \n",
       "max       244.091000       1.000000   99929.000000      71.273740   \n",
       "\n",
       "               c_lng  c_duration_min  \n",
       "count  165385.000000   165385.000000  \n",
       "mean      -91.021895        3.358201  \n",
       "std        15.103526        2.035729  \n",
       "min      -176.631390        0.000000  \n",
       "10%      -115.541160        2.000000  \n",
       "20%       -99.660920        2.000000  \n",
       "30%       -95.593110        2.000000  \n",
       "40%       -91.911400        3.000000  \n",
       "50%       -88.243500        3.000000  \n",
       "60%       -84.602652        3.000000  \n",
       "70%       -81.682180        4.000000  \n",
       "80%       -78.377030        4.000000  \n",
       "90%       -74.633750        5.000000  \n",
       "100%      -65.290170       90.000000  \n",
       "max       -65.290170       90.000000  "
      ]
     },
     "execution_count": 67,
     "metadata": {},
     "output_type": "execute_result"
    }
   ],
   "source": [
    "#Variables continuas\n",
    "df.filter(like=\"c_\").describe(percentiles=np.arange(0.1,1.1,.1))"
   ]
  },
  {
   "cell_type": "code",
   "execution_count": null,
   "metadata": {},
   "outputs": [],
   "source": []
  }
 ],
 "metadata": {
  "kernelspec": {
   "display_name": "diplomado",
   "language": "python",
   "name": "diplomado"
  },
  "language_info": {
   "codemirror_mode": {
    "name": "ipython",
    "version": 3
   },
   "file_extension": ".py",
   "mimetype": "text/x-python",
   "name": "python",
   "nbconvert_exporter": "python",
   "pygments_lexer": "ipython3",
   "version": "3.6.9"
  }
 },
 "nbformat": 4,
 "nbformat_minor": 2
}
